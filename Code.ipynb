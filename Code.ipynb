{
 "cells": [
  {
   "cell_type": "code",
   "execution_count": 2,
   "id": "59b031ea",
   "metadata": {},
   "outputs": [],
   "source": [
    "#External Packages\n",
    "import numpy as np \n",
    "import matplotlib.pyplot as plt\n",
    "from scipy.linalg import sqrtm\n",
    "import copy \n",
    "from numpy.random import randint\n",
    "from fractions import Fraction"
   ]
  },
  {
   "cell_type": "code",
   "execution_count": 3,
   "id": "cf864642",
   "metadata": {},
   "outputs": [],
   "source": [
    "# qbit Class\n",
    "# it creates a qbit in the |0> state. \n",
    "# Properties\n",
    "# state: gives an array with the amplitude of the state |1> and |0> respectively \n",
    "class qbit:\n",
    "    def __init__(self,state:list[complex]=[1,0]):\n",
    "        self.state = np.array(state,dtype=complex)    "
   ]
  },
  {
   "cell_type": "code",
   "execution_count": 4,
   "id": "2e1a0447",
   "metadata": {},
   "outputs": [],
   "source": [
    "# Quantum Register Class\n",
    "# it creates a quantum register of n (length) qbits  all in the state |0>. \n",
    "# Properties\n",
    "# length= number of qbit in the quantum register (type:int)\n",
    "# tensor= state vector of que the quantum register (type:array)\n",
    "\n",
    "class quantum_reg:    \n",
    "    def __init__(self,length:int):\n",
    "        self.length=length\n",
    "        qb_array=[]\n",
    "        for i in range (length):\n",
    "            qb_array.append(qbit())\n",
    "        self.qb_array=np.array(qb_array)\n",
    "        self.tensor_prod_priv()\n",
    "    \n",
    "    #tensor_prod_priv : method that creates the initial state vector of the system by doing tensor product\n",
    "    #of the individual qbits.     \n",
    "    def tensor_prod_priv(self):\n",
    "        self.tensor=self.qb_array[0].state;\n",
    "        for qb in self.qb_array[1:]:\n",
    "            temp=[]\n",
    "            for i in range(np.size(qb.state)):\n",
    "                for j in range(np.size(self.tensor)):\n",
    "                    temp.append(self.tensor[j]*qb.state[i])\n",
    "            self.tensor=np.array(temp) / np.linalg.norm(np.array(temp))\n",
    "            \n",
    "            \n",
    "#--------------------------- 1 QBit Gates ---------------------------------------#          \n",
    "    \n",
    "    #h:  Hadamard Gate method which creates the matrix of the gate whichc acts on the state n (pos) of the quantum register\n",
    "    # This method applies the Hadamard gate to the state vector of the quantum register.\n",
    "    #Parameters:\n",
    "    #pos:  position of the qbit to which the h gate is applied (type:int)\n",
    "    #return: an array with the matrix corresponding to the Hadamard gate.\n",
    "    \n",
    "    def h(self,pos:int):\n",
    "        matrix=np.zeros([2**self.length,2**self.length], dtype=complex)\n",
    "        for i in range(2**self.length):\n",
    "            base=np.zeros(self.length,dtype=int)\n",
    "            bin_i=[*(str(bin(i))[2:])]\n",
    "            base[-len(bin_i):]=bin_i\n",
    "            bin_i=base;\n",
    "            pos1=int(''.join(np.array(bin_i,dtype=str).tolist()), 2)\n",
    "            matrix[pos1,i]=(-1)**bin_i[-1-pos]\n",
    "            pos2=bin_i;\n",
    "            pos2[-pos-1]=1-bin_i[-1-pos]\n",
    "            pos2=int(''.join(np.array(pos2,dtype=str).tolist()), 2)               \n",
    "            matrix[pos2,i]=1\n",
    "\n",
    "        resp=matrix.dot(self.tensor)\n",
    "        self.tensor=resp/ np.linalg.norm(np.array(resp))\n",
    "        matrix=matrix/ np.linalg.norm(np.array(resp))\n",
    "        return matrix\n",
    "\n",
    "       \n",
    "    def p(self,pos:int,theta:float,conj:int=0):\n",
    "        matrix=np.zeros([2**self.length,2**self.length],dtype=complex)\n",
    "        for i in range(2**self.length):\n",
    "            base=np.zeros(self.length,dtype=int)\n",
    "            bin_i=[*(str(bin(i))[2:])]\n",
    "            base[-len(bin_i):]=bin_i\n",
    "            bin_i=base;\n",
    "            if bin_i[-1-pos]==0:\n",
    "                pos1=int(''.join(np.array(bin_i,dtype=str).tolist()), 2)\n",
    "                matrix[pos1,i]=1\n",
    "            else: \n",
    "                pos1=int(''.join(np.array(bin_i,dtype=str).tolist()), 2)\n",
    "                matrix[pos1,i]=np.exp(1j*theta*((-1)**conj))\n",
    "\n",
    "        resp=matrix.dot(self.tensor)\n",
    "        self.tensor=resp/ np.linalg.norm(np.array(resp))\n",
    "        matrix=matrix/ np.linalg.norm(np.array(resp))\n",
    "        return matrix\n",
    "    \n",
    "    def t(self,pos:int,conj:int=0):\n",
    "        return self.p(pos,np.pi*0.25,conj)\n",
    "    \n",
    "    def s(self,pos:int,conj:int=0):\n",
    "        return self.p(pos,np.pi*0.5,conj)\n",
    "    \n",
    "    def Rz(self,pos:int,theta:float,conj:int=0):\n",
    "        matrix=np.zeros([2**self.length,2**self.length], dtype=complex)\n",
    "        for i in range(2**self.length):\n",
    "            base=np.zeros(self.length,dtype=int)\n",
    "            bin_i=[*(str(bin(i))[2:])]\n",
    "            base[-len(bin_i):]=bin_i\n",
    "            bin_i=base; \n",
    "            pos1=int(''.join(np.array(bin_i,dtype=str).tolist()), 2)\n",
    "            matrix[pos1,i]=np.exp((-1)**(1-bin_i[-1-pos])*1j*((-1)**(conj))*theta/(2))\n",
    "\n",
    "        resp=matrix.dot(self.tensor)\n",
    "        self.tensor=resp/ np.linalg.norm(np.array(resp))\n",
    "        matrix=matrix/ np.linalg.norm(np.array(resp))\n",
    "        return matrix\n",
    "    \n",
    "    def Ry(self,pos:int,theta:float=0):\n",
    "        matrix=np.zeros([2**self.length,2**self.length], dtype=complex)\n",
    "        for i in range(2**self.length):\n",
    "            base=np.zeros(self.length,dtype=int)\n",
    "            bin_i=[*(str(bin(i))[2:])]\n",
    "            base[-len(bin_i):]=bin_i\n",
    "            bin_i=base;\n",
    "            pos1=int(''.join(np.array(bin_i,dtype=str).tolist()), 2)\n",
    "            matrix[pos1,i]=np.cos(theta/2)\n",
    "            pos2=bin_i;\n",
    "            pos2[-pos-1]=1-bin_i[-1-pos]\n",
    "            pos2=int(''.join(np.array(pos2,dtype=str).tolist()), 2)               \n",
    "            matrix[pos2,i]=(-1)**bin_i[-1-pos]*np.sin(theta/2)\n",
    "            \n",
    "        resp=matrix.dot(self.tensor)\n",
    "        self.tensor=resp/ np.linalg.norm(np.array(resp))\n",
    "        matrix=matrix/ np.linalg.norm(np.array(resp))\n",
    "        return matrix\n",
    "    \n",
    "\n",
    "    #///////////////////// Pauli Gates //////////////////////#\n",
    "        \n",
    "    #z: Pauli z Gate method which creates the matrix of the gate which acts on the state n (pos) of the quantum register\n",
    "    # This method applies the z gate to the state vector of the quantum register.\n",
    "    #Parameters:\n",
    "    #pos:  position of the qbit to which the z gate is applied (type:int)\n",
    "    #return: an array with the matrix corresponding to the Z gate.\n",
    "    \n",
    "    def z(self,pos:int):\n",
    "        return self.p(pos,np.pi)\n",
    "    \n",
    "    \n",
    "    def x(self, pos:int):\n",
    "        matrix=self.h(pos)\n",
    "        matrix=matrix.dot(self.z(pos))\n",
    "        matrix=matrix.dot(self.h(pos))\n",
    "\n",
    "        return matrix\n",
    "    \n",
    "    def y(self, pos:int):\n",
    "        matrix=self.s(pos)\n",
    "        matrix=matrix.dot(self.x(pos))\n",
    "        matrix=matrix.dot(self.s(pos,1))\n",
    "        return matrix\n",
    "    \n",
    "#--------------------------- 2 QBit Gates ---------------------------------------#   \n",
    "\n",
    "    def cx(self,control:int,target:int):\n",
    "        matrix=np.zeros([2**self.length,2**self.length],dtype=complex)\n",
    "        for i in range(2**self.length):\n",
    "            base=np.zeros(self.length,dtype=int)\n",
    "            bin_i=[*(str(bin(i))[2:])]\n",
    "            base[-len(bin_i):]=bin_i\n",
    "            bin_i=base;\n",
    "            bin_i[-1-target]=1*bin_i[-1-control]+((-1)**bin_i[-1-control])*bin_i[-1-target]\n",
    "            pos3=int(''.join(np.array(bin_i,dtype=str).tolist()), 2)               \n",
    "            matrix[pos3,i]=1\n",
    "\n",
    "        resp=matrix.dot(self.tensor)\n",
    "        self.tensor=resp/ np.linalg.norm(np.array(resp))\n",
    "        matrix=matrix/ np.linalg.norm(np.array(resp))\n",
    "        return matrix    \n",
    "    \n",
    "    def cp(self,control:int,target:int,theta:int,conj:int=0):\n",
    "        matrix=np.zeros([2**self.length,2**self.length],dtype=complex)\n",
    "        for i in range(2**self.length):\n",
    "            base=np.zeros(self.length,dtype=int)\n",
    "            bin_i=[*(str(bin(i))[2:])]\n",
    "            base[-len(bin_i):]=bin_i\n",
    "            bin_i=base;\n",
    "            pos3=int(''.join(np.array(bin_i,dtype=str).tolist()), 2)  \n",
    "            matrix[pos3,i]=np.exp(((-1)**conj)*bin_i[-1-target]*bin_i[-1-control]*1j*theta)\n",
    "\n",
    "        resp=matrix.dot(self.tensor)\n",
    "        self.tensor=resp/ np.linalg.norm(np.array(resp))\n",
    "        matrix=matrix/ np.linalg.norm(np.array(resp))\n",
    "        return matrix \n",
    "    \n",
    "    def ck(self,control:int,target:int,k:int=1,conj:int=0):\n",
    "        matrix=self.cp(control,target,2*np.pi/(2**k))\n",
    "        return matrix \n",
    "        \n",
    "    def cz(self, control:int, target:int):\n",
    "        matrix=self.h(target)\n",
    "        matrix=matrix.dot(self.cx(control,target))\n",
    "        matrix=matrix.dot(self.h(target))\n",
    "        return matrix\n",
    "    \n",
    "    def swap(self, qb1:int, qb2:int):\n",
    "        matrix=self.cx(qb1,qb2);\n",
    "        matrix=matrix.dot(self.cx(qb2,qb1))\n",
    "        matrix=matrix.dot(self.cx(qb1,qb2))\n",
    "        return matrix\n",
    "    \n",
    "    \n",
    "#---------------------- Other Gates ------------------------#\n",
    "\n",
    "    #///////////////////// Quantum Fourier Transform //////////////////////#\n",
    "\n",
    "    def cft(self,n: int):\n",
    "        matrix=np.diag(np.ones(2**self.length,dtype=complex))\n",
    "        for i in range(n):\n",
    "            matrix=matrix.dot(self.h(n-1-i))\n",
    "            for j in range(n-1-i):\n",
    "                matrix=matrix.dot(self.ck(j,n-1-i,n-i-j))\n",
    "        for qb in range(n//2):\n",
    "             matrix=matrix.dot(self.swap(qb, n-qb-1))\n",
    "        return matrix\n",
    "    \n",
    "    def icft(self,n: int):\n",
    "        matrix=np.diag(np.ones(2**self.length,dtype=complex))\n",
    "        for qb in range(n//2):\n",
    "             matrix=matrix.dot(self.swap(qb, n-qb-1))\n",
    "        for i in range(n):\n",
    "            for j in range(i):\n",
    "                matrix=matrix.dot(self.ck(j,i,i-j+1,1))\n",
    "            matrix=matrix.dot(self.h(i))\n",
    "        return matrix\n",
    "    \n",
    "    #///////////////////// Qbit Measument  //////////////////////#\n",
    "\n",
    "    def projection(self,qb:int,state:int):\n",
    "        matrix=np.diag(np.zeros(2**self.length))\n",
    "        for i in range(2**self.length):\n",
    "            base=np.zeros(self.length,dtype=int)\n",
    "            bin_i=[*(str(bin(i))[2:])]\n",
    "            base[-len(bin_i):]=bin_i\n",
    "            bin_i=base;               \n",
    "            matrix[i,i]= int(bin_i[-1-qb]==state);\n",
    "            \n",
    "        return matrix\n",
    "    \n",
    "    def measure(self, qb:int):\n",
    "        projected=self.projection(qb,0).dot(self.tensor)\n",
    "        norm_projected= np.linalg.norm(projected) \n",
    "        if np.random.random()<norm_projected**2: \n",
    "            self.tensor=projected/norm_projected\n",
    "            return 0\n",
    "        else: \n",
    "            projected=self.projection(qb,1).dot(self.tensor)\n",
    "            self.tensor=projected/np.linalg.norm(projected)\n",
    "            return 1"
   ]
  },
  {
   "cell_type": "markdown",
   "id": "e2e04d47",
   "metadata": {},
   "source": [
    "## Measurement Example  \n",
    "In this example a 2-qbit bell state is generated of the kind $|\\Psi\\rangle= \\frac{1}{\\sqrt{2}} ( |00\\rangle+|11\\rangle)$. A thounsand succesive measurements are made on both qbits showing that in this quantum state the qbits are always on the same value, and is equaly probable that they both are in $|00\\rangle$ or $|11\\rangle$"
   ]
  },
  {
   "cell_type": "code",
   "execution_count": 4,
   "id": "729158e5",
   "metadata": {},
   "outputs": [
    {
     "data": {
      "image/png": "[encoded data removed]",
      "text/plain": [
       "<Figure size 640x480 with 1 Axes>"
      ]
     },
     "metadata": {},
     "output_type": "display_data"
    }
   ],
   "source": [
    "n_measures=1000\n",
    "sol=np.zeros(n_measures)\n",
    "for i in range(1000):\n",
    "    reg=quantum_reg(2)\n",
    "    reg.h(0)\n",
    "    for j in range(reg.length-1):\n",
    "        reg.cx(j,j+1)\n",
    "    qb0=reg.measure(0)\n",
    "    qb1=reg.measure(1)\n",
    "    sol[i]=int(''.join(np.array([qb1,qb0],dtype=str).tolist()), 2)\n",
    "    \n",
    "labels, counts = np.unique(sol, return_counts=True)\n",
    "plt.bar(labels, counts, align='center')\n",
    "plt.gca().set_xticks(labels)\n",
    "plt.xticks(np.arange(0,2**2));\n",
    "plt.ylabel('Counts')\n",
    "plt.xlabel('State')\n",
    "plt.show()\n"
   ]
  },
  {
   "cell_type": "markdown",
   "id": "9f834cec",
   "metadata": {},
   "source": [
    "## Other Quantum Gates"
   ]
  },
  {
   "cell_type": "code",
   "execution_count": 5,
   "id": "a93b0d3a",
   "metadata": {},
   "outputs": [],
   "source": [
    "def toffoli(reg:quantum_reg,c1:int,c2:int,t:int):\n",
    "    matrix=np.diag(np.ones(2**reg.length))\n",
    "    matrix=matrix.dot(reg.h(t))\n",
    "    matrix=matrix.dot(reg.cx(c2,t))\n",
    "    matrix=matrix.dot(reg.t(t,1))\n",
    "    matrix=matrix.dot(reg.cx(c1,t))\n",
    "    matrix=matrix.dot(reg.t(t))\n",
    "    matrix=matrix.dot(reg.cx(c2,t))\n",
    "    matrix=matrix.dot(reg.t(t,1))\n",
    "    matrix=matrix.dot(reg.cx(c1,t))\n",
    "    matrix=matrix.dot(reg.t(t))\n",
    "    matrix=matrix.dot(reg.t(c2))\n",
    "    matrix=matrix.dot(reg.cx(c1,c2))\n",
    "    matrix=matrix.dot(reg.h(t))\n",
    "    matrix=matrix.dot(reg.t(c2,1))\n",
    "    matrix=matrix.dot(reg.t(c1))\n",
    "    matrix=matrix.dot(reg.cx(c1,c2))\n",
    "    \n",
    "    return matrix\n",
    "\n",
    "def ccz(reg:quantum_reg, control1:int,control2:int, target:int):\n",
    "    matrix=reg.cx(control1,target)\n",
    "    matrix=matrix.dot(reg.t(target,1))\n",
    "    matrix=matrix.dot(reg.cx(control2,target))\n",
    "    matrix=matrix.dot(reg.t(target))\n",
    "    matrix=matrix.dot(reg.cx(control1,target))\n",
    "    matrix=matrix.dot(reg.t(target,1))\n",
    "    matrix=matrix.dot(reg.cx(control2,target))\n",
    "    matrix=matrix.dot(reg.t(target))\n",
    "    matrix=matrix.dot(reg.t(control1))\n",
    "    matrix=matrix.dot(reg.cx(control2,control1))\n",
    "    matrix=matrix.dot(reg.t(control1,1))\n",
    "    matrix=matrix.dot(reg.cx(control2,control1))\n",
    "    matrix=matrix.dot(reg.t(control2))\n",
    "    \n",
    "    return matrix\n",
    "\n",
    "def cccz(reg:quantum_reg, control1:int,control2:int,control3:int, target:int):\n",
    "    theta=np.pi/8\n",
    "    #--------------------------#\n",
    "    matrix=reg.p(control1,theta)\n",
    "    \n",
    "    #--------------------------------#\n",
    "    matrix=matrix.dot(reg.cx(control1,control2))\n",
    "    matrix=matrix.dot(reg.p(control2,theta,1))\n",
    "    matrix=matrix.dot(reg.cx(control1,control2))\n",
    "    matrix=matrix.dot(reg.p(control2,theta))\n",
    "    #--------------------------------#\n",
    "    matrix=matrix.dot(reg.cx(control2,control3))\n",
    "    matrix=matrix.dot(reg.p(control3,theta,1))\n",
    "    matrix=matrix.dot(reg.cx(control1,control3))\n",
    "    matrix=matrix.dot(reg.p(control2,theta,0))\n",
    "    matrix=matrix.dot(reg.cx(control2,control3))\n",
    "    matrix=matrix.dot(reg.p(control3,theta,1))\n",
    "    matrix=matrix.dot(reg.cx(control1,control3))\n",
    "    matrix=matrix.dot(reg.p(control2,theta,0))\n",
    "    \n",
    "    #---------------------------------#    \n",
    "    matrix=matrix.dot(reg.cx(control3,target))\n",
    "    matrix=matrix.dot(reg.p(target,theta,1))\n",
    "    matrix=matrix.dot(reg.cx(control1,target))    \n",
    "    matrix=matrix.dot(reg.p(target,theta))\n",
    "    matrix=matrix.dot(reg.cx(control2,target))  \n",
    "    matrix=matrix.dot(reg.p(target,theta,1)) \n",
    "    matrix=matrix.dot(reg.cx(control1,target))\n",
    "    matrix=matrix.dot(reg.p(target,theta))\n",
    "    \n",
    "    matrix=matrix.dot(reg.cx(control3,target))\n",
    "    matrix=matrix.dot(reg.p(target,theta,1))\n",
    "    matrix=matrix.dot(reg.cx(control1,target))    \n",
    "    matrix=matrix.dot(reg.p(target,theta))\n",
    "    matrix=matrix.dot(reg.cx(control2,target))  \n",
    "    matrix=matrix.dot(reg.p(target,theta,1)) \n",
    "    matrix=matrix.dot(reg.cx(control1,target))\n",
    "    matrix=matrix.dot(reg.p(target,theta))\n",
    "    \n",
    "    return matrix\n",
    "\n",
    "def FADDa(reg:quantum_reg, a:int):\n",
    "    n=reg.length\n",
    "    conj=0\n",
    "    if a<0:conj=1;a=np.abs(a)\n",
    "    binary=np.flip(np.asarray([*(format(a, 'b').zfill(n))],dtype=int));\n",
    "    matrix=np.diag(np.ones(2**n))\n",
    "    for i in range(n):\n",
    "        for j in range(n-i):\n",
    "            if binary[j]==1:\n",
    "                matrix=matrix.dot(reg.p(i,2*np.pi/(2**(n-i-j)),conj));            \n",
    "    return matrix"
   ]
  },
  {
   "cell_type": "markdown",
   "id": "80e3ff22",
   "metadata": {},
   "source": [
    "# Grover's Algorithm Implementation \n"
   ]
  },
  {
   "cell_type": "code",
   "execution_count": 6,
   "id": "77ed83f3",
   "metadata": {},
   "outputs": [],
   "source": [
    "\n",
    "#grover_oracle_2qbit: method that applies an oracle to a given quantum register for a certain specified state.\n",
    "# This method applies a grover's oracle to a 2 qbit quantum register.\n",
    "# Parameters:\n",
    "# reg: quantum register to which the grover's oracle matrix is going to be applied (type:quantum_reg)\n",
    "# state: List of string with the states which want to be found with grover's algorithm. \n",
    "# return: an array with the matrix corresponding to the grover's oracle gate matrix representation.\n",
    "\n",
    "def grover_oracle_2qbit(reg:quantum_reg,states:list):\n",
    "    matrix=np.diag([1,1,1,1])\n",
    "    for state in states:\n",
    "        binary=np.array([*(state)],dtype=int)\n",
    "        positions=np.where(binary==0)[0];\n",
    "        for i in range(0,np.size(positions)):\n",
    "            pos=(np.size(binary)-1)-positions[i]\n",
    "            matrix=matrix.dot(reg.x(pos))\n",
    "        matrix=matrix.dot(reg.cz(0,1))\n",
    "        for i in range(np.size(positions)):\n",
    "            pos=(np.size(binary)-1)-positions[i]\n",
    "            matrix=matrix.dot(reg.x(pos))\n",
    "    \n",
    "    return matrix\n",
    "\n",
    "#grover_amplification_2qbit: method that applies a  grover's amplification matrix to a given 2 qbit quantum register for a certain specified state.\n",
    "# This method applies a grover's amplification gate to a 2 qbit quantum register.\n",
    "# Parameters:\n",
    "# reg: quantum register to which the grover's amplification matrix is going to be applied (type:quantum_reg)\n",
    "# return: an array with the matrix corresponding to the grover's amplification gate matrix representation.\n",
    "\n",
    "def grover_amplification_2qbit(reg:quantum_reg):\n",
    "    matrix=np.diag([1,1,1,1])\n",
    "    for qb in range(reg.length):\n",
    "        matrix=matrix.dot(reg.h(qb));\n",
    "    for qb in range(reg.length):\n",
    "        matrix=matrix.dot(reg.x(qb));\n",
    "        \n",
    "    matrix=matrix.dot(reg.cz(1,0))\n",
    "    \n",
    "    for qb in range(reg.length):\n",
    "        matrix=matrix.dot(reg.x(qb));\n",
    "    for qb in range(reg.length):\n",
    "        matrix=matrix.dot(reg.h(qb));\n",
    "        \n",
    "    return matrix \n"
   ]
  },
  {
   "cell_type": "code",
   "execution_count": 7,
   "id": "7aa41b80",
   "metadata": {},
   "outputs": [],
   "source": [
    "\n",
    "#grover_oracle_3qbit: method that applies an oracle to a given quantum register for a certain specified state.\n",
    "# This method applies a grover's oracle to a 3 qbit quantum register.\n",
    "# Parameters:\n",
    "# reg: quantum register to which the grover's oracle matrix is going to be applied (type:quantum_reg)\n",
    "# state: List of string with the states which want to be found with grover's algorithm. \n",
    "# return: an array with the matrix corresponding to the grover's oracle gate matrix representation.\n",
    "def grover_oracle_3qbit(reg:quantum_reg,values:list):\n",
    "    matrix=np.diag(np.ones(2**3))\n",
    "    for state in values:\n",
    "        binary=np.array([*(state)],dtype=int)\n",
    "        positions=np.where(binary==0)[0];\n",
    "        for i in range(0,np.size(positions)):\n",
    "            pos=(np.size(binary)-1)-positions[i]\n",
    "            matrix=matrix.dot(reg.x(pos))\n",
    "        matrix=matrix.dot(ccz(reg,2,1,0))\n",
    "        for i in range(np.size(positions)):\n",
    "            pos=(np.size(binary)-1)-positions[i]\n",
    "            matrix=matrix.dot(reg.x(pos))\n",
    "    \n",
    "    return matrix\n",
    "\n",
    "#grover_amplification_3qbit: method that applies a  grover's amplification matrix to a given 3 qbit quantum register for a certain specified state.\n",
    "# This method applies a grover's amplification gate to a 3 qbit quantum register.\n",
    "# Parameters:\n",
    "# reg: quantum register to which the grover's amplification matrix is going to be applied (type:quantum_reg)\n",
    "# return: an array with the matrix corresponding to the grover's amplification gate matrix representation.\n",
    "def grover_amplification_3qbit(reg:quantum_reg):\n",
    "    matrix=np.diag(np.ones(2**3))\n",
    "    for qb in range(reg.length):\n",
    "        matrix=matrix.dot(reg.h(qb));\n",
    "    for qb in range(reg.length):\n",
    "        matrix=matrix.dot(reg.x(qb));\n",
    "        \n",
    "    matrix=matrix.dot(ccz(reg,2,1,0))\n",
    "    \n",
    "    for qb in range(reg.length):\n",
    "        matrix=matrix.dot(reg.x(qb));\n",
    "    for qb in range(reg.length):\n",
    "        matrix=matrix.dot(reg.h(qb));\n",
    "        \n",
    "    return matrix "
   ]
  },
  {
   "cell_type": "code",
   "execution_count": 8,
   "id": "34692990",
   "metadata": {},
   "outputs": [],
   "source": [
    "#grover_oracle_4qbit: method that applies an oracle to a given quantum register for a certain specified state.\n",
    "# This method applies a grover's oracle to a 4 qbit quantum register.\n",
    "# Parameters:\n",
    "# reg: quantum register to which the grover's oracle matrix is going to be applied (type:quantum_reg)\n",
    "# state: List of string with the states which want to be found with grover's algorithm. \n",
    "# return: an array with the matrix corresponding to the grover's oracle gate matrix representation.\n",
    "def grover_oracle_4qbit(reg:quantum_reg,values:list):\n",
    "    matrix=np.diag(np.ones(2**4))\n",
    "    for state in values:\n",
    "        binary=np.array([*(state)],dtype=int)\n",
    "        positions=np.where(binary==0)[0];\n",
    "        for i in range(0,np.size(positions)):\n",
    "            pos=(np.size(binary)-1)-positions[i]\n",
    "            matrix=matrix.dot(reg.x(pos))\n",
    "        matrix=matrix.dot(cccz(reg,3,2,1,0))\n",
    "        #matrix=matrix.dot(cnz(reg,[3,2,1],0))\n",
    "        \n",
    "        for i in range(np.size(positions)):\n",
    "            pos=(np.size(binary)-1)-positions[i]\n",
    "            matrix=matrix.dot(reg.x(pos))\n",
    "    \n",
    "    return matrix\n",
    "\n",
    "#grover_amplification_4qbit: method that applies a  grover's amplification matrix to a given 4 qbit quantum register for a certain specified state.\n",
    "# This method applies a grover's amplification gate to a 4 qbit quantum register.\n",
    "# Parameters:\n",
    "# reg: quantum register to which the grover's amplification matrix is going to be applied (type:quantum_reg)\n",
    "# return: an array with the matrix corresponding to the grover's amplification gate matrix representation.\n",
    "def grover_amplification_4qbit(reg:quantum_reg):\n",
    "    matrix=np.diag(np.ones(2**4))\n",
    "    for qb in range(reg.length):\n",
    "        matrix=matrix.dot(reg.h(qb));\n",
    "    for qb in range(reg.length):\n",
    "        matrix=matrix.dot(reg.x(qb));\n",
    "        \n",
    "    matrix=matrix.dot(cccz(reg,3,2,1,0))\n",
    "    #matrix=matrix.dot(cnz(reg,[3,2,1],0))\n",
    "    for qb in range(reg.length):\n",
    "        matrix=matrix.dot(reg.x(qb));\n",
    "    for qb in range(reg.length):\n",
    "        matrix=matrix.dot(reg.h(qb));\n",
    "        \n",
    "    return matrix "
   ]
  },
  {
   "cell_type": "markdown",
   "id": "f9da147f",
   "metadata": {},
   "source": [
    "## Example 1: Grover's Algortihm 4 Qbit System \n",
    "\n",
    "In this example Grover's Algorithm is applied to a 4 qbit system, looking for the state $|1100\\rangle$"
   ]
  },
  {
   "cell_type": "code",
   "execution_count": 9,
   "id": "4aadab60",
   "metadata": {},
   "outputs": [
    {
     "data": {
      "text/plain": [
       "array([1.+0.j, 0.+0.j, 0.+0.j, 0.+0.j, 0.+0.j, 0.+0.j, 0.+0.j, 0.+0.j,\n",
       "       0.+0.j, 0.+0.j, 0.+0.j, 0.+0.j, 0.+0.j, 0.+0.j, 0.+0.j, 0.+0.j])"
      ]
     },
     "execution_count": 9,
     "metadata": {},
     "output_type": "execute_result"
    }
   ],
   "source": [
    "reg=quantum_reg(4)\n",
    "reg.tensor"
   ]
  },
  {
   "cell_type": "code",
   "execution_count": 10,
   "id": "8e3564c8",
   "metadata": {},
   "outputs": [
    {
     "data": {
      "text/plain": [
       "array([0.25+0.j, 0.25+0.j, 0.25+0.j, 0.25+0.j, 0.25+0.j, 0.25+0.j,\n",
       "       0.25+0.j, 0.25+0.j, 0.25+0.j, 0.25+0.j, 0.25+0.j, 0.25+0.j,\n",
       "       0.25+0.j, 0.25+0.j, 0.25+0.j, 0.25+0.j])"
      ]
     },
     "execution_count": 10,
     "metadata": {},
     "output_type": "execute_result"
    }
   ],
   "source": [
    "for qb in range(reg.length):\n",
    "    reg.h(qb);\n",
    "\n",
    "reg.tensor"
   ]
  },
  {
   "cell_type": "code",
   "execution_count": 11,
   "id": "c0eecc64",
   "metadata": {},
   "outputs": [
    {
     "data": {
      "text/plain": [
       "array([ 0.1767767 -1.76776695e-01j,  0.1767767 -1.76776695e-01j,\n",
       "        0.25      +0.00000000e+00j,  0.25      +0.00000000e+00j,\n",
       "        0.23096988+9.56708581e-02j,  0.23096988+9.56708581e-02j,\n",
       "        0.23096988+9.56708581e-02j,  0.23096988+9.56708581e-02j,\n",
       "        0.23096988-9.56708581e-02j,  0.23096988-9.56708581e-02j,\n",
       "        0.23096988-9.56708581e-02j,  0.23096988-9.56708581e-02j,\n",
       "       -0.25      -8.63614149e-18j,  0.25      -3.06161700e-17j,\n",
       "        0.1767767 +1.76776695e-01j,  0.1767767 +1.76776695e-01j])"
      ]
     },
     "execution_count": 11,
     "metadata": {},
     "output_type": "execute_result"
    }
   ],
   "source": [
    "grover_oracle_4qbit(reg,['1100'])\n",
    "reg.tensor"
   ]
  },
  {
   "cell_type": "code",
   "execution_count": 12,
   "id": "f89e5c4d",
   "metadata": {},
   "outputs": [
    {
     "data": {
      "text/plain": [
       "array([-0.1875    -1.50888348e-01j, -0.20508154-1.50888348e-01j,\n",
       "       -0.19993202+8.83883476e-02j, -0.19993202+1.07943857e-16j,\n",
       "       -0.08838835+8.83883476e-02j, -0.08838835+8.11058372e-02j,\n",
       "       -0.1875    +8.32388351e-02j, -0.15088835+8.32388351e-02j,\n",
       "       -0.15603786-2.51708718e-01j, -0.15603786-6.76495125e-02j,\n",
       "       -0.25514951-1.21559206e-01j, -0.21853786-1.21559206e-01j,\n",
       "       -0.50856695+1.24320230e-02j, -0.06420872+1.24320230e-02j,\n",
       "       -0.19435823+2.51708718e-01j, -0.19435823+1.63320371e-01j])"
      ]
     },
     "execution_count": 12,
     "metadata": {},
     "output_type": "execute_result"
    }
   ],
   "source": [
    "grover_amplification_4qbit(reg)\n",
    "reg.tensor"
   ]
  },
  {
   "cell_type": "code",
   "execution_count": 13,
   "id": "ec321148",
   "metadata": {},
   "outputs": [
    {
     "data": {
      "text/plain": [
       "array([-0.2392767 +2.58883476e-02j, -0.25170872+3.83203706e-02j,\n",
       "       -0.19993202+8.83883476e-02j, -0.19993202+1.07943857e-16j,\n",
       "       -0.11548494+4.78354290e-02j, -0.11269805+4.11072667e-02j,\n",
       "       -0.20508154+5.14951252e-03j, -0.17125678+1.91601853e-02j,\n",
       "       -0.24048494-1.72835429e-01j, -0.17004853-2.78689609e-03j,\n",
       "       -0.28224611-1.46645710e-02j, -0.24842135-2.86752437e-02j,\n",
       "        0.50856695-1.24320230e-02j, -0.06420872+1.24320230e-02j,\n",
       "       -0.31541696+4.05529186e-02j, -0.25291696-2.19470814e-02j])"
      ]
     },
     "execution_count": 13,
     "metadata": {},
     "output_type": "execute_result"
    }
   ],
   "source": [
    "grover_oracle_4qbit(reg,['1100'])\n",
    "reg.tensor"
   ]
  },
  {
   "cell_type": "code",
   "execution_count": 14,
   "id": "9c09b229",
   "metadata": {},
   "outputs": [
    {
     "data": {
      "text/plain": [
       "array([0.05652013+0.06665341j, 0.04884563+0.06577911j,\n",
       "       0.12768083-0.05920095j, 0.13207621-0.00818664j,\n",
       "       0.1767626 +0.04050314j, 0.17712474+0.00930292j,\n",
       "       0.11340824-0.00818664j, 0.15992693-0.00636602j,\n",
       "       0.07594223+0.12281723j, 0.13404684+0.04050314j,\n",
       "       0.0604233 -0.07068664j, 0.09703495-0.07083665j,\n",
       "       0.83188464-0.01658543j, 0.23887061+0.01991431j,\n",
       "       0.02856917-0.13292473j, 0.10143033-0.05799271j])"
      ]
     },
     "execution_count": 14,
     "metadata": {},
     "output_type": "execute_result"
    }
   ],
   "source": [
    "grover_amplification_4qbit(reg)\n",
    "reg.tensor"
   ]
  },
  {
   "cell_type": "code",
   "execution_count": 15,
   "id": "594d0ae2",
   "metadata": {},
   "outputs": [
    {
     "data": {
      "text/plain": [
       "array([ 0.08709684+0.00716531j,  0.08105193+0.01197378j,\n",
       "        0.12768083-0.05920095j,  0.13207621-0.00818664j,\n",
       "        0.14780746+0.10506414j,  0.16008185+0.07637748j,\n",
       "        0.10790844+0.03583598j,  0.15018939+0.05531995j,\n",
       "        0.11716159+0.08440649j,  0.13934302-0.01387748j,\n",
       "        0.02877324-0.08842894j,  0.06254059-0.1025782j ,\n",
       "       -0.83188464+0.01658543j,  0.23887061+0.01991431j,\n",
       "        0.11419343-0.07379052j,  0.11272911+0.03071504j])"
      ]
     },
     "execution_count": 15,
     "metadata": {},
     "output_type": "execute_result"
    }
   ],
   "source": [
    "grover_oracle_4qbit(reg,['1100'])\n",
    "reg.tensor"
   ]
  },
  {
   "cell_type": "code",
   "execution_count": 16,
   "id": "45f5faf5",
   "metadata": {},
   "outputs": [
    {
     "data": {
      "text/plain": [
       "array([-0.06624465-2.81737745e-04j, -0.06707852+7.94240824e-03j,\n",
       "       -0.0033752 +1.22658737e-01j, -0.00283449-1.81193586e-02j,\n",
       "        0.01130418+8.85205005e-02j,  0.02086874+4.66054555e-02j,\n",
       "       -0.02738787+2.30327487e-02j,  0.04725952+3.69902164e-02j,\n",
       "       -0.02061384-2.82243671e-01j, -0.00133015+2.36153386e-02j,\n",
       "       -0.09491607-9.69344684e-02j, -0.04860444-1.16292469e-01j,\n",
       "       -0.90736749-3.30635233e-03j,  0.11326601+7.34209990e-03j,\n",
       "        0.03171821+7.88960018e-02j,  0.03971613-1.57206310e-02j])"
      ]
     },
     "execution_count": 16,
     "metadata": {},
     "output_type": "execute_result"
    }
   ],
   "source": [
    "grover_amplification_4qbit(reg)\n",
    "reg.tensor"
   ]
  },
  {
   "cell_type": "markdown",
   "id": "15aa1b08",
   "metadata": {},
   "source": [
    "## Example 2: Grover's Algortihm 2 Qbit System \n",
    "\n",
    "In this example Grover's Algorithm is applied to a 2 qbit system, looking for the state $|10\\rangle$"
   ]
  },
  {
   "cell_type": "code",
   "execution_count": 17,
   "id": "d78c5f70",
   "metadata": {},
   "outputs": [
    {
     "data": {
      "text/plain": [
       "array([1.+0.j, 0.+0.j, 0.+0.j, 0.+0.j])"
      ]
     },
     "execution_count": 17,
     "metadata": {},
     "output_type": "execute_result"
    }
   ],
   "source": [
    "reg=quantum_reg(2)\n",
    "reg.tensor"
   ]
  },
  {
   "cell_type": "code",
   "execution_count": 18,
   "id": "0e312e7e",
   "metadata": {},
   "outputs": [
    {
     "data": {
      "text/plain": [
       "array([0.5+0.j, 0.5+0.j, 0.5+0.j, 0.5+0.j])"
      ]
     },
     "execution_count": 18,
     "metadata": {},
     "output_type": "execute_result"
    }
   ],
   "source": [
    "for qb in range(reg.length):\n",
    "    reg.h(qb);\n",
    "\n",
    "reg.tensor"
   ]
  },
  {
   "cell_type": "code",
   "execution_count": 19,
   "id": "d386f4a5",
   "metadata": {},
   "outputs": [
    {
     "data": {
      "text/plain": [
       "array([ 0.5+0.000000e+00j,  0.5+0.000000e+00j, -0.5+6.123234e-17j,\n",
       "        0.5-6.123234e-17j])"
      ]
     },
     "execution_count": 19,
     "metadata": {},
     "output_type": "execute_result"
    }
   ],
   "source": [
    "grover_oracle_2qbit(reg,['10'])\n",
    "reg.tensor"
   ]
  },
  {
   "cell_type": "code",
   "execution_count": 20,
   "id": "2289c319",
   "metadata": {},
   "outputs": [
    {
     "data": {
      "text/plain": [
       "array([ 0.+6.1232340e-17j,  0.+0.0000000e+00j, -1.+3.0616170e-16j,\n",
       "        0.-1.2246468e-16j])"
      ]
     },
     "execution_count": 20,
     "metadata": {},
     "output_type": "execute_result"
    }
   ],
   "source": [
    "grover_amplification_2qbit(reg)\n",
    "reg.tensor"
   ]
  },
  {
   "cell_type": "markdown",
   "id": "605c9f83",
   "metadata": {},
   "source": [
    "## Example 3: Grover's Algortihm 3 Qbit System \n",
    "\n",
    "In this example Grover's Algorithm is applied to a 3 qbit system, looking for the state $|101\\rangle$"
   ]
  },
  {
   "cell_type": "code",
   "execution_count": 21,
   "id": "8d9d738b",
   "metadata": {
    "scrolled": true
   },
   "outputs": [
    {
     "name": "stdout",
     "output_type": "stream",
     "text": [
      "[0.35355339+0.j 0.35355339+0.j 0.35355339+0.j 0.35355339+0.j\n",
      " 0.35355339+0.j 0.35355339+0.j 0.35355339+0.j 0.35355339+0.j]\n"
     ]
    }
   ],
   "source": [
    "reg=quantum_reg(3)\n",
    "for qb in range(reg.length):\n",
    "    reg.h(qb);\n",
    "print(reg.tensor)"
   ]
  },
  {
   "cell_type": "code",
   "execution_count": 22,
   "id": "6832936d",
   "metadata": {},
   "outputs": [
    {
     "name": "stdout",
     "output_type": "stream",
     "text": [
      "[ 0.35355339-6.79815537e-33j  0.35355339+0.00000000e+00j\n",
      "  0.35355339+6.79815537e-33j  0.35355339+0.00000000e+00j\n",
      "  0.35355339+0.00000000e+00j -0.35355339+4.32978028e-17j\n",
      "  0.35355339+0.00000000e+00j  0.35355339-4.32978028e-17j]\n"
     ]
    }
   ],
   "source": [
    "grover_oracle_3qbit(reg,['101']);\n",
    "print(reg.tensor)"
   ]
  },
  {
   "cell_type": "code",
   "execution_count": 23,
   "id": "b508e67d",
   "metadata": {},
   "outputs": [
    {
     "data": {
      "text/plain": [
       "array([-0.1767767 +1.20791053e-16j, -0.1767767 +7.74932501e-17j,\n",
       "       -0.1767767 +7.74932501e-17j, -0.1767767 +4.63319213e-17j,\n",
       "       -0.1767767 +7.74932501e-17j, -0.88388348+4.55037001e-16j,\n",
       "       -0.1767767 +4.63319213e-17j, -0.1767767 +3.03411851e-18j])"
      ]
     },
     "execution_count": 23,
     "metadata": {},
     "output_type": "execute_result"
    }
   ],
   "source": [
    "grover_amplification_3qbit(reg)\n",
    "reg.tensor"
   ]
  },
  {
   "cell_type": "code",
   "execution_count": 24,
   "id": "72436d70",
   "metadata": {},
   "outputs": [
    {
     "data": {
      "text/plain": [
       "array([-0.1767767 +1.11022302e-16j, -0.1767767 +8.32667268e-17j,\n",
       "       -0.1767767 +7.74932501e-17j, -0.1767767 +2.77555756e-17j,\n",
       "       -0.1767767 +6.93889390e-17j,  0.88388348-5.09035914e-16j,\n",
       "       -0.1767767 +4.16333634e-17j, -0.1767767 +3.71911286e-17j])"
      ]
     },
     "execution_count": 24,
     "metadata": {},
     "output_type": "execute_result"
    }
   ],
   "source": [
    "grover_oracle_3qbit(reg,['101'])\n",
    "reg.tensor"
   ]
  },
  {
   "cell_type": "code",
   "execution_count": 25,
   "id": "1814b0b4",
   "metadata": {},
   "outputs": [
    {
     "data": {
      "text/plain": [
       "array([-0.08838835+1.55530891e-16j, -0.08838835+1.25153201e-16j,\n",
       "       -0.08838835+1.25153201e-16j, -0.08838835+9.86751697e-17j,\n",
       "       -0.08838835+1.25153201e-16j,  0.97227182-9.46157877e-16j,\n",
       "       -0.08838835+9.86751697e-17j, -0.08838835+1.46802102e-16j])"
      ]
     },
     "execution_count": 25,
     "metadata": {},
     "output_type": "execute_result"
    }
   ],
   "source": [
    "grover_amplification_3qbit(reg)\n",
    "reg.tensor"
   ]
  },
  {
   "cell_type": "markdown",
   "id": "8834c6e5",
   "metadata": {},
   "source": [
    "# Shors Algorithm\n",
    "\n",
    "The following methods implements Shors Algorithm. It takes an integer N as an input and gives its factors as an output. The way the factors are found its by etermining the period of a function $f=a^x modN$. This is done quantically through applying a gate  $U_j=a^{2^j} modN$ to a certain input qbit and measuring the output qbits. "
   ]
  },
  {
   "cell_type": "code",
   "execution_count": 17,
   "id": "bb50d3c2",
   "metadata": {},
   "outputs": [],
   "source": [
    "def gcd(a, b):\n",
    "    while b != 0:\n",
    "        t = copy.copy(b)\n",
    "        b = a% b\n",
    "        a = copy.copy(t)\n",
    "    return a \n",
    "\n",
    "def U(a:int,N:int,reg:quantum_reg,counting_qb:int):\n",
    "    repetitions=1;\n",
    "    matrix=np.diag(np.ones(2**reg.length))\n",
    "    for i in range(counting_qb):\n",
    "        for j in range(repetitions):\n",
    "            matrix=matrix.dot(reg.cp(counting_qb,i,2*np.pi*a/((2**j)*N)));\n",
    "        repetitions*=2  \n",
    "    return matrix\n",
    "\n",
    "\n",
    "#Shors: method that applies shors algorithm to factorize numbers.\n",
    "# Parameters:\n",
    "# N: Number which is going to be factorized.\n",
    "# return: an array with two factors of N. \n",
    "\n",
    "def Shors(N):\n",
    "    \n",
    "#Choosing a number between 2 and N-1  which is not already a factor of N\n",
    "    a=np.random.randint(2, N-1)\n",
    "    while gcd(a,N)!=1:\n",
    "        a=np.random.randint(2, N-1)\n",
    "    \n",
    "#Determining the number of input and output qbits.\n",
    "    n = int(np.ceil(np.log2(N)))\n",
    "    m = 1\n",
    "    \n",
    "#Determining the number of experiments and measurements which are going to be done    \n",
    "    measures=[]\n",
    "    tot_measures=50\n",
    "    for k in range(tot_measures):  \n",
    "        \n",
    "        #Creating the quantum register and applying H gate to the output qbits\n",
    "        reg=quantum_reg(n+m);\n",
    "        for i in range(n):\n",
    "            reg.h(i);\n",
    "        #Initializing the input qbits in state |1>\n",
    "        reg.x(n)\n",
    "    \n",
    "        #Applying the controlled U^j gate to the input qbit  for each output qbit present.\n",
    "        U(a,N,reg,n);\n",
    "        \n",
    "        #Applying the inverse Quantum Fourier Transform. \n",
    "        reg.icft(n);\n",
    "    \n",
    "        #Mearusing the state of the output qbits and storing the result\n",
    "        value=[]\n",
    "        for i in range(n):\n",
    "            value.append(reg.measure(i));\n",
    "        \n",
    "        measures.append(int(''.join(np.flip(np.array(value,dtype=str).tolist())), 2))\n",
    "    \n",
    "    \n",
    "    #Determining the possible values of r and the possible factors\n",
    "    labels, counts = np.unique(measures, return_counts=True)      \n",
    "    plt.bar(labels, counts, align='center')\n",
    "    plt.gca().set_xticks(labels)\n",
    "    plt.xticks(np.arange(0,2**(n)))\n",
    "    plt.ylabel('Counts')\n",
    "    plt.xlabel('State')\n",
    "    \n",
    "    \n",
    "    \n",
    "    fractions = []\n",
    "    for i in range(len(labels)):\n",
    "        if counts[i]>0:\n",
    "            f = Fraction(labels[i]/2**n).limit_denominator(N)\n",
    "            r= f.denominator\n",
    "            fraction = gcd(N, int(a**(r/2)) +1)\n",
    "            fractions.append(fraction)\n",
    "    \n",
    "    #Validating the possible factors found and returning the result. \n",
    "    r = 0\n",
    "    evaluations=0\n",
    "    while r == 0 and evaluations<N:\n",
    "        a = randint(2, N)\n",
    "        r = gcd(a, N)\n",
    "        for i in range(len(fractions)):\n",
    "            evaluations+=1\n",
    "            if r != 1 and r != N and r == fractions[i]:\n",
    "                break\n",
    "            if i == len(fractions)-1:\n",
    "                r = 0\n",
    "\n",
    "    if r < 2 or r == N :\n",
    "        return \"Failed to find factors\"\n",
    "    else:\n",
    "        return r, N // r\n"
   ]
  },
  {
   "cell_type": "markdown",
   "id": "56eec18c",
   "metadata": {},
   "source": [
    "# Example 1: Factorizing 21"
   ]
  },
  {
   "cell_type": "code",
   "execution_count": null,
   "id": "510f2a28",
   "metadata": {},
   "outputs": [],
   "source": [
    "Shors(21)"
   ]
  },
  {
   "cell_type": "markdown",
   "id": "28832c34",
   "metadata": {},
   "source": [
    "# Example 2: Factorizing 15"
   ]
  },
  {
   "cell_type": "code",
   "execution_count": 32,
   "id": "1ce2db23",
   "metadata": {},
   "outputs": [
    {
     "data": {
      "text/plain": [
       "(3, 5)"
      ]
     },
     "execution_count": 32,
     "metadata": {},
     "output_type": "execute_result"
    }
   ],
   "source": [
    "Shors(15)"
   ]
  },
  {
   "cell_type": "markdown",
   "id": "222d9df6",
   "metadata": {},
   "source": [
    "### Other Stuff For Later"
   ]
  },
  {
   "cell_type": "code",
   "execution_count": null,
   "id": "ef825f56",
   "metadata": {},
   "outputs": [],
   "source": [
    "def adder(state:quantum_reg,a:int):\n",
    "    n=2**state.length\n",
    "    matrix=np.diag(np.ones(n))\n",
    "    for i in range(n):\n",
    "        matrix=matrix.dot(state.Rz(i, 2*np.pi*a/(2^(n-i))))\n",
    "        \n",
    "    return matrix"
   ]
  },
  {
   "cell_type": "code",
   "execution_count": null,
   "id": "a8d2789f",
   "metadata": {},
   "outputs": [],
   "source": [
    "def cnz(reg:quantum_reg,control:list, target:int,conj:int=0):\n",
    "    \n",
    "    matrix=np.diag(np.ones(2**reg.length))\n",
    "    n=len(control)\n",
    "    theta=np.pi/(2)\n",
    "    if n>2:\n",
    "        matrix=matrix.dot(cnz(reg,control[1:],target))\n",
    "        matrix=matrix.dot(reg.cx(control[0],target))\n",
    "        matrix=matrix.dot(cnz(reg,control[1:],target,1-conj)) \n",
    "        matrix=matrix.dot(reg.cx(control[0],target))\n",
    "        matrix=matrix.dot(cnz(reg,control[1:],target))   \n",
    "    else:\n",
    "        matrix=matrix.dot(reg.cp(control[0],target,theta,conj))\n",
    "        matrix=matrix.dot(reg.cx(control[-1],control[0]))\n",
    "        matrix=matrix.dot(reg.cp(control[0],target,theta,1-conj))\n",
    "        matrix=matrix.dot(reg.cx(control[-1],control[0]))   \n",
    "        matrix=matrix.dot(reg.cp(control[-1],target,theta,conj))\n",
    "    return matrix\n",
    "                      "
   ]
  }
 ],
 "metadata": {
  "kernelspec": {
   "display_name": "Python 3 (ipykernel)",
   "language": "python",
   "name": "python3"
  },
  "language_info": {
   "codemirror_mode": {
    "name": "ipython",
    "version": 3
   },
   "file_extension": ".py",
   "mimetype": "text/x-python",
   "name": "python",
   "nbconvert_exporter": "python",
   "pygments_lexer": "ipython3",
   "version": "3.10.10"
  }
 },
 "nbformat": 4,
 "nbformat_minor": 5
}
