{
 "cells": [
  {
   "cell_type": "code",
   "execution_count": 6,
   "id": "59b031ea",
   "metadata": {},
   "outputs": [],
   "source": [
    "#External Packages\n",
    "import numpy as np \n",
    "import matplotlib.pyplot as plt\n",
    "from scipy.linalg import sqrtm\n",
    "import copy "
   ]
  },
  {
   "cell_type": "code",
   "execution_count": 7,
   "id": "cf864642",
   "metadata": {},
   "outputs": [],
   "source": [
    "# qbit Class\n",
    "# it creates a qbit in the |0> state. \n",
    "# Properties\n",
    "# state: gives an array with the amplitude of the state |1> and |0> respectively \n",
    "class qbit:\n",
    "    def __init__(self,state:list[complex]=[1,0]):\n",
    "        self.state = np.array(state,dtype=complex)    "
   ]
  },
  {
   "cell_type": "code",
   "execution_count": 555,
   "id": "2e1a0447",
   "metadata": {},
   "outputs": [],
   "source": [
    "# Quantum Register Class\n",
    "# it creates a quantum register of n (length) qbits  all in the state |0>. \n",
    "# Properties\n",
    "# length= number of qbit in the quantum register (type:int)\n",
    "# tensor= state vector of que the quantum register (type:array)\n",
    "\n",
    "class quantum_reg:    \n",
    "    def __init__(self,length:int):\n",
    "        self.length=length\n",
    "        qb_array=[]\n",
    "        for i in range (length):\n",
    "            qb_array.append(qbit())\n",
    "        self.qb_array=np.array(qb_array)\n",
    "        self.tensor_prod_priv()\n",
    "    \n",
    "    #tensor_prod_priv : method that creates the initial state vector of the system by doing tensor product\n",
    "    #of the individual qbits.     \n",
    "    def tensor_prod_priv(self):\n",
    "        self.tensor=self.qb_array[0].state;\n",
    "        for qb in self.qb_array[1:]:\n",
    "            temp=[]\n",
    "            for i in range(np.size(qb.state)):\n",
    "                for j in range(np.size(self.tensor)):\n",
    "                    temp.append(self.tensor[j]*qb.state[i])\n",
    "            self.tensor=np.array(temp) / np.linalg.norm(np.array(temp))\n",
    "            \n",
    "            \n",
    "#--------------------------- 1 QBit Gates ---------------------------------------#          \n",
    "    \n",
    "    #h:  Hadamard Gate method which creates the matrix of the gate whichc acts on the state n (pos) of the quantum register\n",
    "    # This method applies the Hadamard gate to the state vector of the quantum register.\n",
    "    #Parameters:\n",
    "    #pos:  position of the qbit to which the h gate is applied (type:int)\n",
    "    #return: an array with the matrix corresponding to the Hadamard gate.\n",
    "    \n",
    "    def h(self,pos:int):\n",
    "        matrix=np.zeros([2**self.length,2**self.length], dtype=complex)\n",
    "        for i in range(2**self.length):\n",
    "            base=np.zeros(self.length,dtype=int)\n",
    "            bin_i=[*(str(bin(i))[2:])]\n",
    "            base[-len(bin_i):]=bin_i\n",
    "            bin_i=base;\n",
    "            pos1=int(''.join(np.array(bin_i,dtype=str).tolist()), 2)\n",
    "            matrix[pos1,i]=(-1)**bin_i[-1-pos]\n",
    "            pos2=bin_i;\n",
    "            pos2[-pos-1]=1-bin_i[-1-pos]\n",
    "            pos2=int(''.join(np.array(pos2,dtype=str).tolist()), 2)               \n",
    "            matrix[pos2,i]=1\n",
    "\n",
    "        resp=matrix.dot(self.tensor)\n",
    "        self.tensor=resp/ np.linalg.norm(np.array(resp))\n",
    "        matrix=matrix/ np.linalg.norm(np.array(resp))\n",
    "        return matrix\n",
    "\n",
    "       \n",
    "    def p(self,pos:int,theta:float,conj:int=0):\n",
    "        matrix=np.zeros([2**self.length,2**self.length],dtype=complex)\n",
    "        for i in range(2**self.length):\n",
    "            base=np.zeros(self.length,dtype=int)\n",
    "            bin_i=[*(str(bin(i))[2:])]\n",
    "            base[-len(bin_i):]=bin_i\n",
    "            bin_i=base;\n",
    "            if bin_i[-1-pos]==0:\n",
    "                pos1=int(''.join(np.array(bin_i,dtype=str).tolist()), 2)\n",
    "                matrix[pos1,i]=1\n",
    "            else: \n",
    "                pos1=int(''.join(np.array(bin_i,dtype=str).tolist()), 2)\n",
    "                matrix[pos1,i]=np.exp(1j*theta*((-1)**conj))\n",
    "\n",
    "        resp=matrix.dot(self.tensor)\n",
    "        self.tensor=resp/ np.linalg.norm(np.array(resp))\n",
    "        matrix=matrix/ np.linalg.norm(np.array(resp))\n",
    "        return matrix\n",
    "    \n",
    "    def t(self,pos:int,conj:int=0):\n",
    "        return self.p(pos,np.pi*0.25,conj)\n",
    "    \n",
    "    def s(self,pos:int,conj:int=0):\n",
    "        return self.p(pos,np.pi*0.5,conj)\n",
    "    \n",
    "    def Rz(self,pos:int,theta:float,conj:int=0):\n",
    "        matrix=np.zeros([2**self.length,2**self.length], dtype=complex)\n",
    "        for i in range(2**self.length):\n",
    "            base=np.zeros(self.length,dtype=int)\n",
    "            bin_i=[*(str(bin(i))[2:])]\n",
    "            base[-len(bin_i):]=bin_i\n",
    "            bin_i=base; \n",
    "            pos1=int(''.join(np.array(bin_i,dtype=str).tolist()), 2)\n",
    "            matrix[pos1,i]=np.exp((-1)**(1-bin_i[-1-pos])*1j*((-1)**(conj))*theta/(2))\n",
    "\n",
    "        resp=matrix.dot(self.tensor)\n",
    "        self.tensor=resp/ np.linalg.norm(np.array(resp))\n",
    "        matrix=matrix/ np.linalg.norm(np.array(resp))\n",
    "        return matrix\n",
    "    \n",
    "    def Ry(self,pos:int,theta:float=0):\n",
    "        matrix=np.zeros([2**self.length,2**self.length], dtype=complex)\n",
    "        for i in range(2**self.length):\n",
    "            base=np.zeros(self.length,dtype=int)\n",
    "            bin_i=[*(str(bin(i))[2:])]\n",
    "            base[-len(bin_i):]=bin_i\n",
    "            bin_i=base;\n",
    "            pos1=int(''.join(np.array(bin_i,dtype=str).tolist()), 2)\n",
    "            matrix[pos1,i]=np.cos(theta/2)\n",
    "            pos2=bin_i;\n",
    "            pos2[-pos-1]=1-bin_i[-1-pos]\n",
    "            pos2=int(''.join(np.array(pos2,dtype=str).tolist()), 2)               \n",
    "            matrix[pos2,i]=(-1)**bin_i[-1-pos]*np.sin(theta/2)\n",
    "            \n",
    "        resp=matrix.dot(self.tensor)\n",
    "        self.tensor=resp/ np.linalg.norm(np.array(resp))\n",
    "        matrix=matrix/ np.linalg.norm(np.array(resp))\n",
    "        return matrix\n",
    "    \n",
    "\n",
    "    #///////////////////// Pauli Gates //////////////////////#\n",
    "        \n",
    "    #z: Pauli z Gate method which creates the matrix of the gate which acts on the state n (pos) of the quantum register\n",
    "    # This method applies the z gate to the state vector of the quantum register.\n",
    "    #Parameters:\n",
    "    #pos:  position of the qbit to which the z gate is applied (type:int)\n",
    "    #return: an array with the matrix corresponding to the Z gate.\n",
    "    \n",
    "    def z(self,pos:int):\n",
    "        return self.p(pos,np.pi)\n",
    "    \n",
    "    \n",
    "    def x(self, pos:int):\n",
    "        matrix=self.h(pos)\n",
    "        matrix=matrix.dot(self.z(pos))\n",
    "        matrix=matrix.dot(self.h(pos))\n",
    "\n",
    "        return matrix\n",
    "    \n",
    "    def y(self, pos:int):\n",
    "        matrix=self.s(pos)\n",
    "        matrix=matrix.dot(self.x(pos))\n",
    "        matrix=matrix.dot(self.s(pos,1))\n",
    "        return matrix\n",
    "    \n",
    "#--------------------------- 2 QBit Gates ---------------------------------------#   \n",
    "\n",
    "    def cx(self,control:int,target:int):\n",
    "        matrix=np.zeros([2**self.length,2**self.length],dtype=complex)\n",
    "        for i in range(2**self.length):\n",
    "            base=np.zeros(self.length,dtype=int)\n",
    "            bin_i=[*(str(bin(i))[2:])]\n",
    "            base[-len(bin_i):]=bin_i\n",
    "            bin_i=base;\n",
    "            bin_i[-1-target]=1*bin_i[-1-control]+((-1)**bin_i[-1-control])*bin_i[-1-target]\n",
    "            pos3=int(''.join(np.array(bin_i,dtype=str).tolist()), 2)               \n",
    "            matrix[pos3,i]=1\n",
    "\n",
    "        resp=matrix.dot(self.tensor)\n",
    "        self.tensor=resp/ np.linalg.norm(np.array(resp))\n",
    "        matrix=matrix/ np.linalg.norm(np.array(resp))\n",
    "        return matrix    \n",
    "    \n",
    "    def cp(self,control:int,target:int,theta:int,conj:int=0):\n",
    "        matrix=np.zeros([2**self.length,2**self.length],dtype=complex)\n",
    "        for i in range(2**self.length):\n",
    "            base=np.zeros(self.length,dtype=int)\n",
    "            bin_i=[*(str(bin(i))[2:])]\n",
    "            base[-len(bin_i):]=bin_i\n",
    "            bin_i=base;\n",
    "            pos3=int(''.join(np.array(bin_i,dtype=str).tolist()), 2)  \n",
    "            matrix[pos3,i]=np.exp(((-1)**conj)*bin_i[-1-target]*bin_i[-1-control]*1j*theta)\n",
    "\n",
    "        resp=matrix.dot(self.tensor)\n",
    "        self.tensor=resp/ np.linalg.norm(np.array(resp))\n",
    "        matrix=matrix/ np.linalg.norm(np.array(resp))\n",
    "        return matrix \n",
    "    \n",
    "    def ck(self,control:int,target:int,k:int=1,conj:int=0):\n",
    "        matrix=self.cp(control,target,2*np.pi/(2**k))\n",
    "        return matrix \n",
    "        \n",
    "    def cz(self, control:int, target:int):\n",
    "        matrix=self.h(target)\n",
    "        matrix=matrix.dot(self.cx(control,target))\n",
    "        matrix=matrix.dot(self.h(target))\n",
    "        return matrix\n",
    "    \n",
    "    def swap(self, qb1:int, qb2:int):\n",
    "        matrix=self.cx(qb1,qb2);\n",
    "        matrix=matrix.dot(self.cx(qb2,qb1))\n",
    "        matrix=matrix.dot(self.cx(qb1,qb2))\n",
    "        return matrix\n",
    "    \n",
    "    \n",
    "#---------------------- Other Gates ------------------------#\n",
    "\n",
    "    #///////////////////// Quantum Fourier Transform //////////////////////#\n",
    "\n",
    "    def cft(self,n: int):\n",
    "        matrix=np.diag(np.ones(2**self.length,dtype=complex))\n",
    "        for i in range(n):\n",
    "            matrix=matrix.dot(self.h(n-1-i))\n",
    "            for j in range(n-1-i):\n",
    "                matrix=matrix.dot(self.ck(j,n-1-i,n-i-j))\n",
    "        for qb in range(n//2):\n",
    "             matrix=matrix.dot(self.swap(qb, n-qb-1))\n",
    "        return matrix\n",
    "    \n",
    "    def icft(self,n: int):\n",
    "        matrix=np.diag(np.ones(2**self.length,dtype=complex))\n",
    "        for qb in range(n//2):\n",
    "             matrix=matrix.dot(self.swap(qb, n-qb-1))\n",
    "        for i in range(n):\n",
    "            for j in range(i):\n",
    "                matrix=matrix.dot(self.ck(j,i,i-j+1,1))\n",
    "            matrix=matrix.dot(self.h(i))\n",
    "        return matrix\n",
    "    \n",
    "    #///////////////////// Qbit Measument  //////////////////////#\n",
    "\n",
    "    def projection(self,qb:int,state:int):\n",
    "        matrix=np.diag(np.zeros(2**self.length))\n",
    "        for i in range(2**self.length):\n",
    "            base=np.zeros(self.length,dtype=int)\n",
    "            bin_i=[*(str(bin(i))[2:])]\n",
    "            base[-len(bin_i):]=bin_i\n",
    "            bin_i=base;               \n",
    "            matrix[i,i]= int(bin_i[-1-qb]==state);\n",
    "            \n",
    "        return matrix\n",
    "    \n",
    "    def measure(self, qb:int):\n",
    "        projected=self.projection(qb,0).dot(self.tensor)\n",
    "        norm_projected= np.linalg.norm(projected) \n",
    "        if np.random.random()<norm_projected**2: \n",
    "            self.tensor=projected/norm_projected\n",
    "            return 0\n",
    "        else: \n",
    "            projected=self.projection(qb,1).dot(self.tensor)\n",
    "            self.tensor=projected/np.linalg.norm(projected)\n",
    "            return 1"
   ]
  },
  {
   "cell_type": "markdown",
   "id": "e2e04d47",
   "metadata": {},
   "source": [
    "## Measurement Example  \n",
    "In this example a 2-qbit bell state is generated of the kind $|\\Psi\\rangle= \\frac{1}{\\sqrt{2}} ( |00\\rangle+|11\\rangle)$. A thounsand succesive measurements are made on both qbits showing that in this quantum state the qbits are always on the same value, and is equaly probable that they both are in $|00\\rangle$ or $|11\\rangle$"
   ]
  },
  {
   "cell_type": "code",
   "execution_count": 9,
   "id": "729158e5",
   "metadata": {},
   "outputs": [
    {
     "data": {
      "image/png": "[encoded data removed]",
      "text/plain": [
       "<Figure size 640x480 with 1 Axes>"
      ]
     },
     "metadata": {},
     "output_type": "display_data"
    }
   ],
   "source": [
    "n_measures=1000\n",
    "sol=np.zeros(n_measures)\n",
    "for i in range(1000):\n",
    "    reg=quantum_reg(2)\n",
    "    reg.h(0)\n",
    "    for j in range(reg.length-1):\n",
    "        reg.cx(j,j+1)\n",
    "    qb0=reg.measure(0)\n",
    "    qb1=reg.measure(1)\n",
    "    sol[i]=int(''.join(np.array([qb1,qb0],dtype=str).tolist()), 2)\n",
    "    \n",
    "labels, counts = np.unique(sol, return_counts=True)\n",
    "plt.bar(labels, counts, align='center')\n",
    "plt.gca().set_xticks(labels)\n",
    "plt.xticks(np.arange(0,2**2));\n",
    "plt.ylabel('Counts')\n",
    "plt.xlabel('State')\n",
    "plt.show()\n"
   ]
  },
  {
   "cell_type": "markdown",
   "id": "123b7f54",
   "metadata": {},
   "source": [
    "## Other Quantum Gates"
   ]
  },
  {
   "cell_type": "code",
   "execution_count": 12,
   "id": "a93b0d3a",
   "metadata": {},
   "outputs": [],
   "source": [
    "def toffoli(reg:quantum_reg,c1:int,c2:int,t:int):\n",
    "    matrix=np.diag(np.ones(2**reg.length))\n",
    "    matrix=matrix.dot(reg.h(t))\n",
    "    matrix=matrix.dot(reg.cx(c2,t))\n",
    "    matrix=matrix.dot(reg.t(t,1))\n",
    "    matrix=matrix.dot(reg.cx(c1,t))\n",
    "    matrix=matrix.dot(reg.t(t))\n",
    "    matrix=matrix.dot(reg.cx(c2,t))\n",
    "    matrix=matrix.dot(reg.t(t,1))\n",
    "    matrix=matrix.dot(reg.cx(c1,t))\n",
    "    matrix=matrix.dot(reg.t(t))\n",
    "    matrix=matrix.dot(reg.t(c2))\n",
    "    matrix=matrix.dot(reg.cx(c1,c2))\n",
    "    matrix=matrix.dot(reg.h(t))\n",
    "    matrix=matrix.dot(reg.t(c2,1))\n",
    "    matrix=matrix.dot(reg.t(c1))\n",
    "    matrix=matrix.dot(reg.cx(c1,c2))\n",
    "    \n",
    "    return matrix\n",
    "\n",
    "def ccz(reg:quantum_reg, control1:int,control2:int, target:int):\n",
    "    matrix=reg.cx(control1,target)\n",
    "    matrix=matrix.dot(reg.t(target,1))\n",
    "    matrix=matrix.dot(reg.cx(control2,target))\n",
    "    matrix=matrix.dot(reg.t(target))\n",
    "    matrix=matrix.dot(reg.cx(control1,target))\n",
    "    matrix=matrix.dot(reg.t(target,1))\n",
    "    matrix=matrix.dot(reg.cx(control2,target))\n",
    "    matrix=matrix.dot(reg.t(target))\n",
    "    matrix=matrix.dot(reg.t(control1))\n",
    "    matrix=matrix.dot(reg.cx(control2,control1))\n",
    "    matrix=matrix.dot(reg.t(control1,1))\n",
    "    matrix=matrix.dot(reg.cx(control2,control1))\n",
    "    matrix=matrix.dot(reg.t(control2))\n",
    "    \n",
    "    return matrix\n",
    "\n",
    "def cccz(reg:quantum_reg, control1:int,control2:int,control3:int, target:int):\n",
    "    theta=np.pi/8\n",
    "    #--------------------------#\n",
    "    matrix=reg.p(control1,theta)\n",
    "    \n",
    "    #--------------------------------#\n",
    "    matrix=matrix.dot(reg.cx(control1,control2))\n",
    "    matrix=matrix.dot(reg.p(control2,theta,1))\n",
    "    matrix=matrix.dot(reg.cx(control1,control2))\n",
    "    matrix=matrix.dot(reg.p(control2,theta))\n",
    "    #--------------------------------#\n",
    "    matrix=matrix.dot(reg.cx(control2,control3))\n",
    "    matrix=matrix.dot(reg.p(control3,theta,1))\n",
    "    matrix=matrix.dot(reg.cx(control1,control3))\n",
    "    matrix=matrix.dot(reg.p(control2,theta,0))\n",
    "    matrix=matrix.dot(reg.cx(control2,control3))\n",
    "    matrix=matrix.dot(reg.p(control3,theta,1))\n",
    "    matrix=matrix.dot(reg.cx(control1,control3))\n",
    "    matrix=matrix.dot(reg.p(control2,theta,0))\n",
    "    \n",
    "    #---------------------------------#    \n",
    "    matrix=matrix.dot(reg.cx(control3,target))\n",
    "    matrix=matrix.dot(reg.p(target,theta,1))\n",
    "    matrix=matrix.dot(reg.cx(control1,target))    \n",
    "    matrix=matrix.dot(reg.p(target,theta))\n",
    "    matrix=matrix.dot(reg.cx(control2,target))  \n",
    "    matrix=matrix.dot(reg.p(target,theta,1)) \n",
    "    matrix=matrix.dot(reg.cx(control1,target))\n",
    "    matrix=matrix.dot(reg.p(target,theta))\n",
    "    \n",
    "    matrix=matrix.dot(reg.cx(control3,target))\n",
    "    matrix=matrix.dot(reg.p(target,theta,1))\n",
    "    matrix=matrix.dot(reg.cx(control1,target))    \n",
    "    matrix=matrix.dot(reg.p(target,theta))\n",
    "    matrix=matrix.dot(reg.cx(control2,target))  \n",
    "    matrix=matrix.dot(reg.p(target,theta,1)) \n",
    "    matrix=matrix.dot(reg.cx(control1,target))\n",
    "    matrix=matrix.dot(reg.p(target,theta))\n",
    "    \n",
    "    return matrix\n",
    "\n",
    "def FADDa(reg:quantum_reg, a:int):\n",
    "    n=reg.length\n",
    "    conj=0\n",
    "    if a<0:conj=1;a=np.abs(a)\n",
    "    binary=np.flip(np.asarray([*(format(a, 'b').zfill(n))],dtype=int));\n",
    "    matrix=np.diag(np.ones(2**n))\n",
    "    for i in range(n):\n",
    "        for j in range(n-i):\n",
    "            if binary[j]==1:\n",
    "                matrix=matrix.dot(reg.p(i,2*np.pi/(2**(n-i-j)),conj));            \n",
    "    return matrix"
   ]
  },
  {
   "cell_type": "markdown",
   "id": "80e3ff22",
   "metadata": {},
   "source": [
    "# Grover's Algorithm Implementation \n"
   ]
  },
  {
   "cell_type": "code",
   "execution_count": 10,
   "id": "77ed83f3",
   "metadata": {},
   "outputs": [],
   "source": [
    "\n",
    "#grover_oracle_2qbit: method that applies an oracle to a given quantum register for a certain specified state.\n",
    "# This method applies a grover's oracle to a 2 qbit quantum register.\n",
    "# Parameters:\n",
    "# reg: quantum register to which the grover's oracle matrix is going to be applied (type:quantum_reg)\n",
    "# state: List of string with the states which want to be found with grover's algorithm. \n",
    "# return: an array with the matrix corresponding to the grover's oracle gate matrix representation.\n",
    "\n",
    "def grover_oracle_2qbit(reg:quantum_reg,states:list):\n",
    "    matrix=np.diag([1,1,1,1])\n",
    "    for state in states:\n",
    "        binary=np.array([*(state)],dtype=int)\n",
    "        positions=np.where(binary==0)[0];\n",
    "        for i in range(0,np.size(positions)):\n",
    "            pos=(np.size(binary)-1)-positions[i]\n",
    "            matrix=matrix.dot(reg.x(pos))\n",
    "        matrix=matrix.dot(reg.cz(0,1))\n",
    "        for i in range(np.size(positions)):\n",
    "            pos=(np.size(binary)-1)-positions[i]\n",
    "            matrix=matrix.dot(reg.x(pos))\n",
    "    \n",
    "    return matrix\n",
    "\n",
    "#grover_amplification_2qbit: method that applies a  grover's amplification matrix to a given 2 qbit quantum register for a certain specified state.\n",
    "# This method applies a grover's amplification gate to a 2 qbit quantum register.\n",
    "# Parameters:\n",
    "# reg: quantum register to which the grover's amplification matrix is going to be applied (type:quantum_reg)\n",
    "# return: an array with the matrix corresponding to the grover's amplification gate matrix representation.\n",
    "\n",
    "def grover_amplification_2qbit(reg:quantum_reg):\n",
    "    matrix=np.diag([1,1,1,1])\n",
    "    for qb in range(reg.length):\n",
    "        matrix=matrix.dot(reg.h(qb));\n",
    "    for qb in range(reg.length):\n",
    "        matrix=matrix.dot(reg.x(qb));\n",
    "        \n",
    "    matrix=matrix.dot(reg.cz(1,0))\n",
    "    \n",
    "    for qb in range(reg.length):\n",
    "        matrix=matrix.dot(reg.x(qb));\n",
    "    for qb in range(reg.length):\n",
    "        matrix=matrix.dot(reg.h(qb));\n",
    "        \n",
    "    return matrix \n"
   ]
  },
  {
   "cell_type": "code",
   "execution_count": 11,
   "id": "7aa41b80",
   "metadata": {},
   "outputs": [],
   "source": [
    "\n",
    "#grover_oracle_3qbit: method that applies an oracle to a given quantum register for a certain specified state.\n",
    "# This method applies a grover's oracle to a 3 qbit quantum register.\n",
    "# Parameters:\n",
    "# reg: quantum register to which the grover's oracle matrix is going to be applied (type:quantum_reg)\n",
    "# state: List of string with the states which want to be found with grover's algorithm. \n",
    "# return: an array with the matrix corresponding to the grover's oracle gate matrix representation.\n",
    "def grover_oracle_3qbit(reg:quantum_reg,values:list):\n",
    "    matrix=np.diag(np.ones(2**3))\n",
    "    for state in values:\n",
    "        binary=np.array([*(state)],dtype=int)\n",
    "        positions=np.where(binary==0)[0];\n",
    "        for i in range(0,np.size(positions)):\n",
    "            pos=(np.size(binary)-1)-positions[i]\n",
    "            matrix=matrix.dot(reg.x(pos))\n",
    "        matrix=matrix.dot(ccz(reg,2,1,0))\n",
    "        for i in range(np.size(positions)):\n",
    "            pos=(np.size(binary)-1)-positions[i]\n",
    "            matrix=matrix.dot(reg.x(pos))\n",
    "    \n",
    "    return matrix\n",
    "\n",
    "#grover_amplification_3qbit: method that applies a  grover's amplification matrix to a given 3 qbit quantum register for a certain specified state.\n",
    "# This method applies a grover's amplification gate to a 3 qbit quantum register.\n",
    "# Parameters:\n",
    "# reg: quantum register to which the grover's amplification matrix is going to be applied (type:quantum_reg)\n",
    "# return: an array with the matrix corresponding to the grover's amplification gate matrix representation.\n",
    "def grover_amplification_3qbit(reg:quantum_reg):\n",
    "    matrix=np.diag(np.ones(2**3))\n",
    "    for qb in range(reg.length):\n",
    "        matrix=matrix.dot(reg.h(qb));\n",
    "    for qb in range(reg.length):\n",
    "        matrix=matrix.dot(reg.x(qb));\n",
    "        \n",
    "    matrix=matrix.dot(ccz(reg,2,1,0))\n",
    "    \n",
    "    for qb in range(reg.length):\n",
    "        matrix=matrix.dot(reg.x(qb));\n",
    "    for qb in range(reg.length):\n",
    "        matrix=matrix.dot(reg.h(qb));\n",
    "        \n",
    "    return matrix "
   ]
  },
  {
   "cell_type": "code",
   "execution_count": 577,
   "id": "c8fcc736",
   "metadata": {},
   "outputs": [],
   "source": [
    "#grover_oracle_4qbit: method that applies an oracle to a given quantum register for a certain specified state.\n",
    "# This method applies a grover's oracle to a 4 qbit quantum register.\n",
    "# Parameters:\n",
    "# reg: quantum register to which the grover's oracle matrix is going to be applied (type:quantum_reg)\n",
    "# state: List of string with the states which want to be found with grover's algorithm. \n",
    "# return: an array with the matrix corresponding to the grover's oracle gate matrix representation.\n",
    "def grover_oracle_4qbit(reg:quantum_reg,values:list):\n",
    "    matrix=np.diag(np.ones(2**4))\n",
    "    for state in values:\n",
    "        binary=np.array([*(state)],dtype=int)\n",
    "        positions=np.where(binary==0)[0];\n",
    "        for i in range(0,np.size(positions)):\n",
    "            pos=(np.size(binary)-1)-positions[i]\n",
    "            matrix=matrix.dot(reg.x(pos))\n",
    "        matrix=matrix.dot(cccz(reg,3,2,1,0))\n",
    "        #matrix=matrix.dot(cnz(reg,[3,2,1],0))\n",
    "        \n",
    "        for i in range(np.size(positions)):\n",
    "            pos=(np.size(binary)-1)-positions[i]\n",
    "            matrix=matrix.dot(reg.x(pos))\n",
    "    \n",
    "    return matrix\n",
    "\n",
    "#grover_amplification_4qbit: method that applies a  grover's amplification matrix to a given 4 qbit quantum register for a certain specified state.\n",
    "# This method applies a grover's amplification gate to a 4 qbit quantum register.\n",
    "# Parameters:\n",
    "# reg: quantum register to which the grover's amplification matrix is going to be applied (type:quantum_reg)\n",
    "# return: an array with the matrix corresponding to the grover's amplification gate matrix representation.\n",
    "def grover_amplification_4qbit(reg:quantum_reg):\n",
    "    matrix=np.diag(np.ones(2**4))\n",
    "    for qb in range(reg.length):\n",
    "        matrix=matrix.dot(reg.h(qb));\n",
    "    for qb in range(reg.length):\n",
    "        matrix=matrix.dot(reg.x(qb));\n",
    "        \n",
    "    matrix=matrix.dot(cccz(reg,3,2,1,0))\n",
    "    #matrix=matrix.dot(cnz(reg,[3,2,1],0))\n",
    "    for qb in range(reg.length):\n",
    "        matrix=matrix.dot(reg.x(qb));\n",
    "    for qb in range(reg.length):\n",
    "        matrix=matrix.dot(reg.h(qb));\n",
    "        \n",
    "    return matrix "
   ]
  },
  {
   "cell_type": "markdown",
   "id": "dff273a7",
   "metadata": {},
   "source": [
    "## Example 1: Grover's Algortihm 4 Qbit System \n",
    "\n",
    "In this example Grover's Algorithm is applied to a 4 qbit system, looking for the state $|1100\\rangle$"
   ]
  },
  {
   "cell_type": "code",
   "execution_count": 588,
   "id": "22fe2110",
   "metadata": {},
   "outputs": [
    {
     "data": {
      "text/plain": [
       "array([1.+0.j, 0.+0.j, 0.+0.j, 0.+0.j, 0.+0.j, 0.+0.j, 0.+0.j, 0.+0.j,\n",
       "       0.+0.j, 0.+0.j, 0.+0.j, 0.+0.j, 0.+0.j, 0.+0.j, 0.+0.j, 0.+0.j])"
      ]
     },
     "execution_count": 588,
     "metadata": {},
     "output_type": "execute_result"
    }
   ],
   "source": [
    "reg=quantum_reg(4)\n",
    "reg.tensor"
   ]
  },
  {
   "cell_type": "code",
   "execution_count": 589,
   "id": "93a41f10",
   "metadata": {},
   "outputs": [
    {
     "data": {
      "text/plain": [
       "array([0.25+0.j, 0.25+0.j, 0.25+0.j, 0.25+0.j, 0.25+0.j, 0.25+0.j,\n",
       "       0.25+0.j, 0.25+0.j, 0.25+0.j, 0.25+0.j, 0.25+0.j, 0.25+0.j,\n",
       "       0.25+0.j, 0.25+0.j, 0.25+0.j, 0.25+0.j])"
      ]
     },
     "execution_count": 589,
     "metadata": {},
     "output_type": "execute_result"
    }
   ],
   "source": [
    "for qb in range(reg.length):\n",
    "    reg.h(qb);\n",
    "\n",
    "reg.tensor"
   ]
  },
  {
   "cell_type": "code",
   "execution_count": 590,
   "id": "4f4275e4",
   "metadata": {},
   "outputs": [
    {
     "data": {
      "text/plain": [
       "array([ 0.1767767 -1.76776695e-01j,  0.1767767 -1.76776695e-01j,\n",
       "        0.25      +0.00000000e+00j,  0.25      +0.00000000e+00j,\n",
       "        0.23096988+9.56708581e-02j,  0.23096988+9.56708581e-02j,\n",
       "        0.23096988+9.56708581e-02j,  0.23096988+9.56708581e-02j,\n",
       "        0.23096988-9.56708581e-02j,  0.23096988-9.56708581e-02j,\n",
       "        0.23096988-9.56708581e-02j,  0.23096988-9.56708581e-02j,\n",
       "       -0.25      -8.63614149e-18j,  0.25      -3.06161700e-17j,\n",
       "        0.1767767 +1.76776695e-01j,  0.1767767 +1.76776695e-01j])"
      ]
     },
     "execution_count": 590,
     "metadata": {},
     "output_type": "execute_result"
    }
   ],
   "source": [
    "grover_oracle_4qbit(reg,['1100'])\n",
    "reg.tensor"
   ]
  },
  {
   "cell_type": "code",
   "execution_count": 591,
   "id": "c589979e",
   "metadata": {},
   "outputs": [
    {
     "data": {
      "text/plain": [
       "array([-0.1875    -1.50888348e-01j, -0.20508154-1.50888348e-01j,\n",
       "       -0.19993202+8.83883476e-02j, -0.19993202+1.07943857e-16j,\n",
       "       -0.08838835+8.83883476e-02j, -0.08838835+8.11058372e-02j,\n",
       "       -0.1875    +8.32388351e-02j, -0.15088835+8.32388351e-02j,\n",
       "       -0.15603786-2.51708718e-01j, -0.15603786-6.76495125e-02j,\n",
       "       -0.25514951-1.21559206e-01j, -0.21853786-1.21559206e-01j,\n",
       "       -0.50856695+1.24320230e-02j, -0.06420872+1.24320230e-02j,\n",
       "       -0.19435823+2.51708718e-01j, -0.19435823+1.63320371e-01j])"
      ]
     },
     "execution_count": 591,
     "metadata": {},
     "output_type": "execute_result"
    }
   ],
   "source": [
    "grover_amplification_4qbit(reg)\n",
    "reg.tensor"
   ]
  },
  {
   "cell_type": "code",
   "execution_count": 592,
   "id": "d1bb1fde",
   "metadata": {},
   "outputs": [
    {
     "data": {
      "text/plain": [
       "array([-0.2392767 +2.58883476e-02j, -0.25170872+3.83203706e-02j,\n",
       "       -0.19993202+8.83883476e-02j, -0.19993202+1.07943857e-16j,\n",
       "       -0.11548494+4.78354290e-02j, -0.11269805+4.11072667e-02j,\n",
       "       -0.20508154+5.14951252e-03j, -0.17125678+1.91601853e-02j,\n",
       "       -0.24048494-1.72835429e-01j, -0.17004853-2.78689609e-03j,\n",
       "       -0.28224611-1.46645710e-02j, -0.24842135-2.86752437e-02j,\n",
       "        0.50856695-1.24320230e-02j, -0.06420872+1.24320230e-02j,\n",
       "       -0.31541696+4.05529186e-02j, -0.25291696-2.19470814e-02j])"
      ]
     },
     "execution_count": 592,
     "metadata": {},
     "output_type": "execute_result"
    }
   ],
   "source": [
    "grover_oracle_4qbit(reg,['1100'])\n",
    "reg.tensor"
   ]
  },
  {
   "cell_type": "code",
   "execution_count": 593,
   "id": "cf40adef",
   "metadata": {},
   "outputs": [
    {
     "data": {
      "text/plain": [
       "array([0.05652013+0.06665341j, 0.04884563+0.06577911j,\n",
       "       0.12768083-0.05920095j, 0.13207621-0.00818664j,\n",
       "       0.1767626 +0.04050314j, 0.17712474+0.00930292j,\n",
       "       0.11340824-0.00818664j, 0.15992693-0.00636602j,\n",
       "       0.07594223+0.12281723j, 0.13404684+0.04050314j,\n",
       "       0.0604233 -0.07068664j, 0.09703495-0.07083665j,\n",
       "       0.83188464-0.01658543j, 0.23887061+0.01991431j,\n",
       "       0.02856917-0.13292473j, 0.10143033-0.05799271j])"
      ]
     },
     "execution_count": 593,
     "metadata": {},
     "output_type": "execute_result"
    }
   ],
   "source": [
    "grover_amplification_4qbit(reg)\n",
    "reg.tensor"
   ]
  },
  {
   "cell_type": "code",
   "execution_count": 594,
   "id": "7058f584",
   "metadata": {},
   "outputs": [
    {
     "data": {
      "text/plain": [
       "array([ 0.08709684+0.00716531j,  0.08105193+0.01197378j,\n",
       "        0.12768083-0.05920095j,  0.13207621-0.00818664j,\n",
       "        0.14780746+0.10506414j,  0.16008185+0.07637748j,\n",
       "        0.10790844+0.03583598j,  0.15018939+0.05531995j,\n",
       "        0.11716159+0.08440649j,  0.13934302-0.01387748j,\n",
       "        0.02877324-0.08842894j,  0.06254059-0.1025782j ,\n",
       "       -0.83188464+0.01658543j,  0.23887061+0.01991431j,\n",
       "        0.11419343-0.07379052j,  0.11272911+0.03071504j])"
      ]
     },
     "execution_count": 594,
     "metadata": {},
     "output_type": "execute_result"
    }
   ],
   "source": [
    "grover_oracle_4qbit(reg,['1100'])\n",
    "reg.tensor"
   ]
  },
  {
   "cell_type": "code",
   "execution_count": 595,
   "id": "7453dace",
   "metadata": {},
   "outputs": [
    {
     "data": {
      "text/plain": [
       "array([-0.06624465-2.81737745e-04j, -0.06707852+7.94240824e-03j,\n",
       "       -0.0033752 +1.22658737e-01j, -0.00283449-1.81193586e-02j,\n",
       "        0.01130418+8.85205005e-02j,  0.02086874+4.66054555e-02j,\n",
       "       -0.02738787+2.30327487e-02j,  0.04725952+3.69902164e-02j,\n",
       "       -0.02061384-2.82243671e-01j, -0.00133015+2.36153386e-02j,\n",
       "       -0.09491607-9.69344684e-02j, -0.04860444-1.16292469e-01j,\n",
       "       -0.90736749-3.30635233e-03j,  0.11326601+7.34209990e-03j,\n",
       "        0.03171821+7.88960018e-02j,  0.03971613-1.57206310e-02j])"
      ]
     },
     "execution_count": 595,
     "metadata": {},
     "output_type": "execute_result"
    }
   ],
   "source": [
    "grover_amplification_4qbit(reg)\n",
    "reg.tensor"
   ]
  },
  {
   "cell_type": "markdown",
   "id": "15aa1b08",
   "metadata": {},
   "source": [
    "## Example 2: Grover's Algortihm 2 Qbit System \n",
    "\n",
    "In this example Grover's Algorithm is applied to a 2 qbit system, looking for the state $|10\\rangle$"
   ]
  },
  {
   "cell_type": "code",
   "execution_count": 1223,
   "id": "d78c5f70",
   "metadata": {},
   "outputs": [
    {
     "data": {
      "text/plain": [
       "array([1.+0.j, 0.+0.j, 0.+0.j, 0.+0.j])"
      ]
     },
     "execution_count": 1223,
     "metadata": {},
     "output_type": "execute_result"
    }
   ],
   "source": [
    "reg=quantum_reg(2)\n",
    "reg.tensor"
   ]
  },
  {
   "cell_type": "code",
   "execution_count": 1224,
   "id": "0e312e7e",
   "metadata": {},
   "outputs": [
    {
     "data": {
      "text/plain": [
       "array([0.5+0.j, 0.5+0.j, 0.5+0.j, 0.5+0.j])"
      ]
     },
     "execution_count": 1224,
     "metadata": {},
     "output_type": "execute_result"
    }
   ],
   "source": [
    "for qb in range(reg.length):\n",
    "    reg.h(qb);\n",
    "\n",
    "reg.tensor"
   ]
  },
  {
   "cell_type": "code",
   "execution_count": 1225,
   "id": "d386f4a5",
   "metadata": {},
   "outputs": [
    {
     "data": {
      "text/plain": [
       "array([ 0.5+0.000000e+00j,  0.5+0.000000e+00j, -0.5+6.123234e-17j,\n",
       "        0.5-6.123234e-17j])"
      ]
     },
     "execution_count": 1225,
     "metadata": {},
     "output_type": "execute_result"
    }
   ],
   "source": [
    "grover_oracle_2qbit(reg,['10'])\n",
    "reg.tensor"
   ]
  },
  {
   "cell_type": "code",
   "execution_count": 1226,
   "id": "2289c319",
   "metadata": {},
   "outputs": [
    {
     "data": {
      "text/plain": [
       "array([ 0.+6.1232340e-17j,  0.+0.0000000e+00j, -1.+3.0616170e-16j,\n",
       "        0.-1.2246468e-16j])"
      ]
     },
     "execution_count": 1226,
     "metadata": {},
     "output_type": "execute_result"
    }
   ],
   "source": [
    "grover_amplification_2qbit(reg)\n",
    "reg.tensor"
   ]
  },
  {
   "cell_type": "markdown",
   "id": "605c9f83",
   "metadata": {},
   "source": [
    "## Example 3: Grover's Algortihm 3 Qbit System \n",
    "\n",
    "In this example Grover's Algorithm is applied to a 3 qbit system, looking for the state $|101\\rangle$"
   ]
  },
  {
   "cell_type": "code",
   "execution_count": 1240,
   "id": "8d9d738b",
   "metadata": {
    "scrolled": true
   },
   "outputs": [
    {
     "name": "stdout",
     "output_type": "stream",
     "text": [
      "[0.35355339+0.j 0.35355339+0.j 0.35355339+0.j 0.35355339+0.j\n",
      " 0.35355339+0.j 0.35355339+0.j 0.35355339+0.j 0.35355339+0.j]\n"
     ]
    }
   ],
   "source": [
    "reg=quantum_reg(3)\n",
    "for qb in range(reg.length):\n",
    "    reg.h(qb);\n",
    "print(reg.tensor)"
   ]
  },
  {
   "cell_type": "code",
   "execution_count": 1241,
   "id": "6832936d",
   "metadata": {},
   "outputs": [
    {
     "name": "stdout",
     "output_type": "stream",
     "text": [
      "[ 0.35355339-6.79815537e-33j  0.35355339+0.00000000e+00j\n",
      "  0.35355339+6.79815537e-33j  0.35355339+0.00000000e+00j\n",
      "  0.35355339+0.00000000e+00j -0.35355339+4.32978028e-17j\n",
      "  0.35355339+0.00000000e+00j  0.35355339-4.32978028e-17j]\n"
     ]
    }
   ],
   "source": [
    "grover_oracle_3qbit(reg,['101']);\n",
    "print(reg.tensor)"
   ]
  },
  {
   "cell_type": "code",
   "execution_count": 1242,
   "id": "b508e67d",
   "metadata": {},
   "outputs": [
    {
     "data": {
      "text/plain": [
       "array([-0.1767767 +1.20791053e-16j, -0.1767767 +7.74932501e-17j,\n",
       "       -0.1767767 +7.74932501e-17j, -0.1767767 +4.63319213e-17j,\n",
       "       -0.1767767 +7.74932501e-17j, -0.88388348+4.55037001e-16j,\n",
       "       -0.1767767 +4.63319213e-17j, -0.1767767 +3.03411851e-18j])"
      ]
     },
     "execution_count": 1242,
     "metadata": {},
     "output_type": "execute_result"
    }
   ],
   "source": [
    "grover_amplification_3qbit(reg)\n",
    "reg.tensor"
   ]
  },
  {
   "cell_type": "code",
   "execution_count": 1243,
   "id": "72436d70",
   "metadata": {},
   "outputs": [
    {
     "data": {
      "text/plain": [
       "array([-0.1767767 +1.11022302e-16j, -0.1767767 +8.32667268e-17j,\n",
       "       -0.1767767 +7.74932501e-17j, -0.1767767 +2.77555756e-17j,\n",
       "       -0.1767767 +6.93889390e-17j,  0.88388348-5.09035914e-16j,\n",
       "       -0.1767767 +4.16333634e-17j, -0.1767767 +3.71911286e-17j])"
      ]
     },
     "execution_count": 1243,
     "metadata": {},
     "output_type": "execute_result"
    }
   ],
   "source": [
    "grover_oracle_3qbit(reg,['101'])\n",
    "reg.tensor"
   ]
  },
  {
   "cell_type": "code",
   "execution_count": 1244,
   "id": "1814b0b4",
   "metadata": {},
   "outputs": [
    {
     "data": {
      "text/plain": [
       "array([-0.08838835+1.55530891e-16j, -0.08838835+1.25153201e-16j,\n",
       "       -0.08838835+1.25153201e-16j, -0.08838835+9.86751697e-17j,\n",
       "       -0.08838835+1.25153201e-16j,  0.97227182-9.46157877e-16j,\n",
       "       -0.08838835+9.86751697e-17j, -0.08838835+1.46802102e-16j])"
      ]
     },
     "execution_count": 1244,
     "metadata": {},
     "output_type": "execute_result"
    }
   ],
   "source": [
    "grover_amplification_3qbit(reg)\n",
    "reg.tensor"
   ]
  },
  {
   "cell_type": "markdown",
   "id": "222d9df6",
   "metadata": {},
   "source": [
    "## Other Stuff For Later"
   ]
  },
  {
   "cell_type": "code",
   "execution_count": 220,
   "id": "1dd643d2",
   "metadata": {},
   "outputs": [
    {
     "data": {
      "text/plain": [
       "array([1.+0.j, 0.+0.j, 0.+0.j, 0.+0.j, 0.+0.j, 0.+0.j, 0.+0.j, 0.+0.j])"
      ]
     },
     "execution_count": 220,
     "metadata": {},
     "output_type": "execute_result"
    }
   ],
   "source": [
    "reg=quantum_reg(3)\n",
    "reg.tensor"
   ]
  },
  {
   "cell_type": "code",
   "execution_count": 221,
   "id": "98c003d1",
   "metadata": {},
   "outputs": [],
   "source": [
    "toffoli(reg,2,1,0);"
   ]
  },
  {
   "cell_type": "code",
   "execution_count": 849,
   "id": "b7717c5e",
   "metadata": {},
   "outputs": [],
   "source": [
    "reg=quantum_reg(5)\n",
    "\n",
    "for i in range(3):\n",
    "    reg.h(i);\n",
    "\n",
    "reg.tensor;"
   ]
  },
  {
   "cell_type": "code",
   "execution_count": 850,
   "id": "734e3198",
   "metadata": {},
   "outputs": [
    {
     "data": {
      "text/plain": [
       "array([[1.+0.j, 0.+0.j, 0.+0.j, ..., 0.+0.j, 0.+0.j, 0.+0.j],\n",
       "       [0.+0.j, 1.+0.j, 0.+0.j, ..., 0.+0.j, 0.+0.j, 0.+0.j],\n",
       "       [0.+0.j, 0.+0.j, 0.+0.j, ..., 0.+0.j, 0.+0.j, 0.+0.j],\n",
       "       ...,\n",
       "       [0.+0.j, 0.+0.j, 0.+0.j, ..., 1.+0.j, 0.+0.j, 0.+0.j],\n",
       "       [0.+0.j, 0.+0.j, 0.+0.j, ..., 0.+0.j, 0.+0.j, 0.+0.j],\n",
       "       [0.+0.j, 0.+0.j, 0.+0.j, ..., 0.+0.j, 0.+0.j, 0.+0.j]])"
      ]
     },
     "execution_count": 850,
     "metadata": {},
     "output_type": "execute_result"
    }
   ],
   "source": [
    "reg.cx(1,2)\n",
    "reg.cx(1,0)\n",
    "toffoli(reg,0,2,3)\n",
    "reg.cx(1,0)\n",
    "reg.x(0)\n",
    "toffoli(reg,0,3,4)\n",
    "reg.x(0)\n",
    "reg.cx(2,4)\n",
    "reg.cx(0,4)\n",
    "reg.cx(1,2)"
   ]
  },
  {
   "cell_type": "code",
   "execution_count": 847,
   "id": "201bdb96",
   "metadata": {},
   "outputs": [
    {
     "ename": "IndexError",
     "evalue": "index -6 is out of bounds for axis 0 with size 5",
     "output_type": "error",
     "traceback": [
      "\u001b[1;31m---------------------------------------------------------------------------\u001b[0m",
      "\u001b[1;31mIndexError\u001b[0m                                Traceback (most recent call last)",
      "Cell \u001b[1;32mIn [847], line 1\u001b[0m\n\u001b[1;32m----> 1\u001b[0m \u001b[43mreg\u001b[49m\u001b[38;5;241;43m.\u001b[39;49m\u001b[43mcx\u001b[49m\u001b[43m(\u001b[49m\u001b[38;5;241;43m1\u001b[39;49m\u001b[43m,\u001b[49m\u001b[38;5;241;43m5\u001b[39;49m\u001b[43m)\u001b[49m\n\u001b[0;32m      2\u001b[0m reg\u001b[38;5;241m.\u001b[39mcx(\u001b[38;5;241m2\u001b[39m,\u001b[38;5;241m5\u001b[39m)\n\u001b[0;32m      3\u001b[0m reg\u001b[38;5;241m.\u001b[39mcx(\u001b[38;5;241m1\u001b[39m,\u001b[38;5;241m7\u001b[39m)\n",
      "Cell \u001b[1;32mIn [492], line 132\u001b[0m, in \u001b[0;36mquantum_reg.cx\u001b[1;34m(self, control, target)\u001b[0m\n\u001b[0;32m    130\u001b[0m base[\u001b[38;5;241m-\u001b[39m\u001b[38;5;28mlen\u001b[39m(bin_i):]\u001b[38;5;241m=\u001b[39mbin_i\n\u001b[0;32m    131\u001b[0m bin_i\u001b[38;5;241m=\u001b[39mbase;\n\u001b[1;32m--> 132\u001b[0m bin_i[\u001b[38;5;241m-\u001b[39m\u001b[38;5;241m1\u001b[39m\u001b[38;5;241m-\u001b[39mtarget]\u001b[38;5;241m=\u001b[39m\u001b[38;5;241m1\u001b[39m\u001b[38;5;241m*\u001b[39mbin_i[\u001b[38;5;241m-\u001b[39m\u001b[38;5;241m1\u001b[39m\u001b[38;5;241m-\u001b[39mcontrol]\u001b[38;5;241m+\u001b[39m((\u001b[38;5;241m-\u001b[39m\u001b[38;5;241m1\u001b[39m)\u001b[38;5;241m*\u001b[39m\u001b[38;5;241m*\u001b[39mbin_i[\u001b[38;5;241m-\u001b[39m\u001b[38;5;241m1\u001b[39m\u001b[38;5;241m-\u001b[39mcontrol])\u001b[38;5;241m*\u001b[39m\u001b[43mbin_i\u001b[49m\u001b[43m[\u001b[49m\u001b[38;5;241;43m-\u001b[39;49m\u001b[38;5;241;43m1\u001b[39;49m\u001b[38;5;241;43m-\u001b[39;49m\u001b[43mtarget\u001b[49m\u001b[43m]\u001b[49m\n\u001b[0;32m    133\u001b[0m pos3\u001b[38;5;241m=\u001b[39m\u001b[38;5;28mint\u001b[39m(\u001b[38;5;124m'\u001b[39m\u001b[38;5;124m'\u001b[39m\u001b[38;5;241m.\u001b[39mjoin(np\u001b[38;5;241m.\u001b[39marray(bin_i,dtype\u001b[38;5;241m=\u001b[39m\u001b[38;5;28mstr\u001b[39m)\u001b[38;5;241m.\u001b[39mtolist()), \u001b[38;5;241m2\u001b[39m)               \n\u001b[0;32m    134\u001b[0m matrix[pos3,i]\u001b[38;5;241m=\u001b[39m\u001b[38;5;241m1\u001b[39m\n",
      "\u001b[1;31mIndexError\u001b[0m: index -6 is out of bounds for axis 0 with size 5"
     ]
    }
   ],
   "source": [
    "reg.cx(1,5)\n",
    "reg.cx(2,5)\n",
    "reg.cx(1,7)\n",
    "reg.cx(0,7)\n",
    "toffoli(reg,3,5,7)\n",
    "reg.cx()"
   ]
  },
  {
   "cell_type": "code",
   "execution_count": 851,
   "id": "75447cd4",
   "metadata": {},
   "outputs": [
    {
     "data": {
      "text/plain": [
       "array([[ 3.53553391e-01+0.j        ,  3.53553391e-01+0.j        ,\n",
       "         3.53553391e-01+0.j        , ...,  0.00000000e+00+0.j        ,\n",
       "         0.00000000e+00+0.j        ,  0.00000000e+00+0.j        ],\n",
       "       [ 3.53553391e-01+0.j        ,  2.50000000e-01-0.25j      ,\n",
       "         2.16489014e-17-0.35355339j, ...,  0.00000000e+00+0.j        ,\n",
       "         0.00000000e+00+0.j        ,  0.00000000e+00+0.j        ],\n",
       "       [ 3.53553391e-01+0.j        ,  2.16489014e-17-0.35355339j,\n",
       "        -3.53553391e-01+0.j        , ...,  0.00000000e+00+0.j        ,\n",
       "         0.00000000e+00+0.j        ,  0.00000000e+00+0.j        ],\n",
       "       ...,\n",
       "       [ 0.00000000e+00+0.j        ,  0.00000000e+00+0.j        ,\n",
       "         0.00000000e+00+0.j        , ...,  2.50000000e-01-0.25j      ,\n",
       "        -2.16489014e-17+0.35355339j, -2.50000000e-01-0.25j      ],\n",
       "       [ 0.00000000e+00+0.j        ,  0.00000000e+00+0.j        ,\n",
       "         0.00000000e+00+0.j        , ..., -2.16489014e-17+0.35355339j,\n",
       "        -3.53553391e-01+0.j        ,  2.16489014e-17-0.35355339j],\n",
       "       [ 0.00000000e+00+0.j        ,  0.00000000e+00+0.j        ,\n",
       "         0.00000000e+00+0.j        , ..., -2.50000000e-01-0.25j      ,\n",
       "         2.16489014e-17-0.35355339j,  2.50000000e-01-0.25j      ]])"
      ]
     },
     "execution_count": 851,
     "metadata": {},
     "output_type": "execute_result"
    }
   ],
   "source": [
    "reg.icft(3)"
   ]
  },
  {
   "cell_type": "code",
   "execution_count": 852,
   "id": "03fda11b",
   "metadata": {},
   "outputs": [
    {
     "data": {
      "text/plain": [
       "array([3.75000000e-01+0.j, 5.17766953e-02+0.j, 1.25000000e-01+0.j,\n",
       "       3.01776695e-01+0.j, 1.25000000e-01+0.j, 3.01776695e-01+0.j,\n",
       "       1.25000000e-01+0.j, 5.17766953e-02+0.j, 2.50000000e-01+0.j,\n",
       "       9.56708581e-02+0.j, 1.76776695e-01+0.j, 2.30969883e-01+0.j,\n",
       "       0.00000000e+00+0.j, 2.30969883e-01+0.j, 1.76776695e-01+0.j,\n",
       "       9.56708581e-02+0.j, 3.75000000e-01+0.j, 5.17766953e-02+0.j,\n",
       "       1.25000000e-01+0.j, 3.01776695e-01+0.j, 1.25000000e-01+0.j,\n",
       "       3.01776695e-01+0.j, 1.25000000e-01+0.j, 5.17766953e-02+0.j,\n",
       "       5.75832039e-17+0.j, 5.31999435e-17+0.j, 4.07174740e-17+0.j,\n",
       "       2.20361381e-17+0.j, 0.00000000e+00+0.j, 2.20361381e-17+0.j,\n",
       "       4.07174740e-17+0.j, 5.31999435e-17+0.j])"
      ]
     },
     "execution_count": 852,
     "metadata": {},
     "output_type": "execute_result"
    }
   ],
   "source": [
    "np.sqrt(reg.tensor*np.conj(reg.tensor))"
   ]
  },
  {
   "cell_type": "code",
   "execution_count": 853,
   "id": "c9038e10",
   "metadata": {},
   "outputs": [
    {
     "data": {
      "image/png": "[encoded data removed]",
      "text/plain": [
       "<Figure size 640x480 with 1 Axes>"
      ]
     },
     "metadata": {},
     "output_type": "display_data"
    }
   ],
   "source": [
    "l = np.arange(0,2**reg.length)\n",
    "x=[\"{0:b}\".format(i) for i in l]\n",
    "#x= np.arange(0,2**reg.length)\n",
    "plt.bar(x, height=np.sqrt(reg.tensor*np.conj(reg.tensor)).real);\n",
    "plt.xticks(rotation='vertical');"
   ]
  },
  {
   "cell_type": "code",
   "execution_count": 503,
   "id": "856ea109",
   "metadata": {},
   "outputs": [
    {
     "data": {
      "text/plain": [
       "array([5.00000000e-01, 1.35299025e-01, 0.00000000e+00, 3.26640741e-01,\n",
       "       7.85046229e-17, 3.26640741e-01, 0.00000000e+00, 1.35299025e-01])"
      ]
     },
     "execution_count": 503,
     "metadata": {},
     "output_type": "execute_result"
    }
   ],
   "source": [
    "np.sqrt(reg.tensor*np.conj(reg.tensor)).real[:8]"
   ]
  },
  {
   "cell_type": "code",
   "execution_count": 540,
   "id": "74f519da",
   "metadata": {},
   "outputs": [
    {
     "name": "stdout",
     "output_type": "stream",
     "text": [
      "0 (0, 1)\n",
      "1 (1, 32)\n",
      "3 (3, 32)\n",
      "4 (1, 8)\n",
      "5 (5, 32)\n",
      "7 (7, 32)\n",
      "16 (1, 2)\n",
      "17 (17, 32)\n",
      "19 (19, 32)\n",
      "20 (5, 8)\n",
      "21 (21, 32)\n",
      "23 (23, 32)\n"
     ]
    }
   ],
   "source": [
    "for i in range(2**reg.length):\n",
    "    values=np.sqrt(reg.tensor*np.conj(reg.tensor)).real\n",
    "    if values[i]!=0:\n",
    "        phase=i/2**reg.length\n",
    "        phase=phase.as_integer_ratio()\n",
    "        print(i, phase)"
   ]
  },
  {
   "cell_type": "code",
   "execution_count": 61,
   "id": "111719dc",
   "metadata": {},
   "outputs": [],
   "source": [
    "for qb in range(reg.length):\n",
    "    reg.h(qb)\n",
    "    reg.z(qb)\n",
    "reg.cz(0,1)\n",
    "for qb in range(reg.length):\n",
    "    reg.h(qb)"
   ]
  },
  {
   "cell_type": "code",
   "execution_count": 62,
   "id": "5b96b7f8",
   "metadata": {},
   "outputs": [
    {
     "data": {
      "text/plain": [
       "array([0.+0.j, 0.+0.j, 0.+0.j, 1.+0.j])"
      ]
     },
     "execution_count": 62,
     "metadata": {},
     "output_type": "execute_result"
    }
   ],
   "source": [
    "reg.tensor"
   ]
  },
  {
   "cell_type": "code",
   "execution_count": 63,
   "id": "83dfe025",
   "metadata": {},
   "outputs": [],
   "source": [
    "reg=quantum_reg(3)\n",
    "reg.tensor\n",
    "for qb in range(reg.length):\n",
    "    reg.h(qb);"
   ]
  },
  {
   "cell_type": "code",
   "execution_count": 64,
   "id": "cbcc61bb",
   "metadata": {},
   "outputs": [],
   "source": [
    "reg.cz(0,2);\n",
    "reg.cz(1,2);\n",
    "for qb in range(reg.length):\n",
    "    reg.h(qb)\n",
    "    reg.x(qb)\n",
    "\n",
    "reg.h(2)    \n",
    "reg.h(2)\n",
    "reg.v(1,2)\n",
    "reg.cx(0,1)\n",
    "reg.v(1,2)\n",
    "reg.v(1,2)\n",
    "reg.v(1,2)\n",
    "reg.cx(0,1)\n",
    "reg.v(0,2)\n",
    "reg.h(2)\n",
    "reg.h(2) \n",
    "\n",
    "for qb in range(reg.length):\n",
    "    reg.x(qb)\n",
    "    reg.h(qb)"
   ]
  },
  {
   "cell_type": "code",
   "execution_count": 360,
   "id": "71ba093b",
   "metadata": {},
   "outputs": [
    {
     "data": {
      "text/plain": [
       "array([0.5+0.j, 0.5+0.j, 0.5+0.j, 0.5+0.j])"
      ]
     },
     "execution_count": 360,
     "metadata": {},
     "output_type": "execute_result"
    }
   ],
   "source": [
    "reg=quantum_reg(2)\n",
    "for qb in range(reg.length):\n",
    "    reg.h(qb);\n",
    "\n",
    "reg.tensor"
   ]
  },
  {
   "cell_type": "code",
   "execution_count": 17,
   "id": "2afaa7f2",
   "metadata": {},
   "outputs": [],
   "source": [
    "15*15\n",
    "a=7"
   ]
  },
  {
   "cell_type": "code",
   "execution_count": 13,
   "id": "083656f6",
   "metadata": {},
   "outputs": [],
   "source": [
    "\n",
    "\n",
    "def gcd(a, b):\n",
    "    while b != 0:\n",
    "        t = copy.copy(b)\n",
    "        b = a% b\n",
    "        a = copy.copy(t)\n",
    "    return a    \n"
   ]
  },
  {
   "cell_type": "code",
   "execution_count": 75,
   "id": "ef825f56",
   "metadata": {},
   "outputs": [],
   "source": [
    "def adder(state:quantum_reg,a:int):\n",
    "    n=2**state.length\n",
    "    matrix=np.diag(np.ones(n))\n",
    "    for i in range(n):\n",
    "        matrix=matrix.dot(state.Rz(i, 2*np.pi*a/(2^(n-i))))\n",
    "        \n",
    "    return matrix"
   ]
  },
  {
   "cell_type": "code",
   "execution_count": 110,
   "id": "55997f07",
   "metadata": {},
   "outputs": [
    {
     "data": {
      "text/plain": [
       "6"
      ]
     },
     "execution_count": 110,
     "metadata": {},
     "output_type": "execute_result"
    }
   ],
   "source": [
    "n=35\n",
    "n.bit_length()"
   ]
  },
  {
   "cell_type": "code",
   "execution_count": 778,
   "id": "489615f2",
   "metadata": {},
   "outputs": [],
   "source": []
  },
  {
   "cell_type": "code",
   "execution_count": 779,
   "id": "3adc3639",
   "metadata": {},
   "outputs": [
    {
     "name": "stdout",
     "output_type": "stream",
     "text": [
      "[1.+0.j 0.+0.j 0.+0.j 0.+0.j 0.+0.j 0.+0.j 0.+0.j 0.+0.j 0.+0.j 0.+0.j\n",
      " 0.+0.j 0.+0.j 0.+0.j 0.+0.j 0.+0.j 0.+0.j]\n",
      "[[ 1.00000000e+00+0.00000000e+00j  0.00000000e+00+0.00000000e+00j\n",
      "   0.00000000e+00+0.00000000e+00j  0.00000000e+00+0.00000000e+00j\n",
      "   0.00000000e+00+0.00000000e+00j  0.00000000e+00+0.00000000e+00j\n",
      "   0.00000000e+00+0.00000000e+00j  0.00000000e+00+0.00000000e+00j\n",
      "   0.00000000e+00+0.00000000e+00j  0.00000000e+00+0.00000000e+00j\n",
      "   0.00000000e+00+0.00000000e+00j  0.00000000e+00+0.00000000e+00j\n",
      "   0.00000000e+00+0.00000000e+00j  0.00000000e+00+0.00000000e+00j\n",
      "   0.00000000e+00+0.00000000e+00j  0.00000000e+00+0.00000000e+00j]\n",
      " [ 0.00000000e+00+0.00000000e+00j  3.82683432e-01-9.23879533e-01j\n",
      "   0.00000000e+00+0.00000000e+00j  0.00000000e+00+0.00000000e+00j\n",
      "   0.00000000e+00+0.00000000e+00j  0.00000000e+00+0.00000000e+00j\n",
      "   0.00000000e+00+0.00000000e+00j  0.00000000e+00+0.00000000e+00j\n",
      "   0.00000000e+00+0.00000000e+00j  0.00000000e+00+0.00000000e+00j\n",
      "   0.00000000e+00+0.00000000e+00j  0.00000000e+00+0.00000000e+00j\n",
      "   0.00000000e+00+0.00000000e+00j  0.00000000e+00+0.00000000e+00j\n",
      "   0.00000000e+00+0.00000000e+00j  0.00000000e+00+0.00000000e+00j]\n",
      " [ 0.00000000e+00+0.00000000e+00j  0.00000000e+00+0.00000000e+00j\n",
      "  -7.07106781e-01-7.07106781e-01j  0.00000000e+00+0.00000000e+00j\n",
      "   0.00000000e+00+0.00000000e+00j  0.00000000e+00+0.00000000e+00j\n",
      "   0.00000000e+00+0.00000000e+00j  0.00000000e+00+0.00000000e+00j\n",
      "   0.00000000e+00+0.00000000e+00j  0.00000000e+00+0.00000000e+00j\n",
      "   0.00000000e+00+0.00000000e+00j  0.00000000e+00+0.00000000e+00j\n",
      "   0.00000000e+00+0.00000000e+00j  0.00000000e+00+0.00000000e+00j\n",
      "   0.00000000e+00+0.00000000e+00j  0.00000000e+00+0.00000000e+00j]\n",
      " [ 0.00000000e+00+0.00000000e+00j  0.00000000e+00+0.00000000e+00j\n",
      "   0.00000000e+00+0.00000000e+00j -9.23879533e-01+3.82683432e-01j\n",
      "   0.00000000e+00+0.00000000e+00j  0.00000000e+00+0.00000000e+00j\n",
      "   0.00000000e+00+0.00000000e+00j  0.00000000e+00+0.00000000e+00j\n",
      "   0.00000000e+00+0.00000000e+00j  0.00000000e+00+0.00000000e+00j\n",
      "   0.00000000e+00+0.00000000e+00j  0.00000000e+00+0.00000000e+00j\n",
      "   0.00000000e+00+0.00000000e+00j  0.00000000e+00+0.00000000e+00j\n",
      "   0.00000000e+00+0.00000000e+00j  0.00000000e+00+0.00000000e+00j]\n",
      " [ 0.00000000e+00+0.00000000e+00j  0.00000000e+00+0.00000000e+00j\n",
      "   0.00000000e+00+0.00000000e+00j  0.00000000e+00+0.00000000e+00j\n",
      "  -1.83697020e-16+1.00000000e+00j  0.00000000e+00+0.00000000e+00j\n",
      "   0.00000000e+00+0.00000000e+00j  0.00000000e+00+0.00000000e+00j\n",
      "   0.00000000e+00+0.00000000e+00j  0.00000000e+00+0.00000000e+00j\n",
      "   0.00000000e+00+0.00000000e+00j  0.00000000e+00+0.00000000e+00j\n",
      "   0.00000000e+00+0.00000000e+00j  0.00000000e+00+0.00000000e+00j\n",
      "   0.00000000e+00+0.00000000e+00j  0.00000000e+00+0.00000000e+00j]\n",
      " [ 0.00000000e+00+0.00000000e+00j  0.00000000e+00+0.00000000e+00j\n",
      "   0.00000000e+00+0.00000000e+00j  0.00000000e+00+0.00000000e+00j\n",
      "   0.00000000e+00+0.00000000e+00j  9.23879533e-01+3.82683432e-01j\n",
      "   0.00000000e+00+0.00000000e+00j  0.00000000e+00+0.00000000e+00j\n",
      "   0.00000000e+00+0.00000000e+00j  0.00000000e+00+0.00000000e+00j\n",
      "   0.00000000e+00+0.00000000e+00j  0.00000000e+00+0.00000000e+00j\n",
      "   0.00000000e+00+0.00000000e+00j  0.00000000e+00+0.00000000e+00j\n",
      "   0.00000000e+00+0.00000000e+00j  0.00000000e+00+0.00000000e+00j]\n",
      " [ 0.00000000e+00+0.00000000e+00j  0.00000000e+00+0.00000000e+00j\n",
      "   0.00000000e+00+0.00000000e+00j  0.00000000e+00+0.00000000e+00j\n",
      "   0.00000000e+00+0.00000000e+00j  0.00000000e+00+0.00000000e+00j\n",
      "   7.07106781e-01-7.07106781e-01j  0.00000000e+00+0.00000000e+00j\n",
      "   0.00000000e+00+0.00000000e+00j  0.00000000e+00+0.00000000e+00j\n",
      "   0.00000000e+00+0.00000000e+00j  0.00000000e+00+0.00000000e+00j\n",
      "   0.00000000e+00+0.00000000e+00j  0.00000000e+00+0.00000000e+00j\n",
      "   0.00000000e+00+0.00000000e+00j  0.00000000e+00+0.00000000e+00j]\n",
      " [ 0.00000000e+00+0.00000000e+00j  0.00000000e+00+0.00000000e+00j\n",
      "   0.00000000e+00+0.00000000e+00j  0.00000000e+00+0.00000000e+00j\n",
      "   0.00000000e+00+0.00000000e+00j  0.00000000e+00+0.00000000e+00j\n",
      "   0.00000000e+00+0.00000000e+00j -3.82683432e-01-9.23879533e-01j\n",
      "   0.00000000e+00+0.00000000e+00j  0.00000000e+00+0.00000000e+00j\n",
      "   0.00000000e+00+0.00000000e+00j  0.00000000e+00+0.00000000e+00j\n",
      "   0.00000000e+00+0.00000000e+00j  0.00000000e+00+0.00000000e+00j\n",
      "   0.00000000e+00+0.00000000e+00j  0.00000000e+00+0.00000000e+00j]\n",
      " [ 0.00000000e+00+0.00000000e+00j  0.00000000e+00+0.00000000e+00j\n",
      "   0.00000000e+00+0.00000000e+00j  0.00000000e+00+0.00000000e+00j\n",
      "   0.00000000e+00+0.00000000e+00j  0.00000000e+00+0.00000000e+00j\n",
      "   0.00000000e+00+0.00000000e+00j  0.00000000e+00+0.00000000e+00j\n",
      "  -1.00000000e+00-1.22464680e-16j  0.00000000e+00+0.00000000e+00j\n",
      "   0.00000000e+00+0.00000000e+00j  0.00000000e+00+0.00000000e+00j\n",
      "   0.00000000e+00+0.00000000e+00j  0.00000000e+00+0.00000000e+00j\n",
      "   0.00000000e+00+0.00000000e+00j  0.00000000e+00+0.00000000e+00j]\n",
      " [ 0.00000000e+00+0.00000000e+00j  0.00000000e+00+0.00000000e+00j\n",
      "   0.00000000e+00+0.00000000e+00j  0.00000000e+00+0.00000000e+00j\n",
      "   0.00000000e+00+0.00000000e+00j  0.00000000e+00+0.00000000e+00j\n",
      "   0.00000000e+00+0.00000000e+00j  0.00000000e+00+0.00000000e+00j\n",
      "   0.00000000e+00+0.00000000e+00j -3.82683432e-01+9.23879533e-01j\n",
      "   0.00000000e+00+0.00000000e+00j  0.00000000e+00+0.00000000e+00j\n",
      "   0.00000000e+00+0.00000000e+00j  0.00000000e+00+0.00000000e+00j\n",
      "   0.00000000e+00+0.00000000e+00j  0.00000000e+00+0.00000000e+00j]\n",
      " [ 0.00000000e+00+0.00000000e+00j  0.00000000e+00+0.00000000e+00j\n",
      "   0.00000000e+00+0.00000000e+00j  0.00000000e+00+0.00000000e+00j\n",
      "   0.00000000e+00+0.00000000e+00j  0.00000000e+00+0.00000000e+00j\n",
      "   0.00000000e+00+0.00000000e+00j  0.00000000e+00+0.00000000e+00j\n",
      "   0.00000000e+00+0.00000000e+00j  0.00000000e+00+0.00000000e+00j\n",
      "   7.07106781e-01+7.07106781e-01j  0.00000000e+00+0.00000000e+00j\n",
      "   0.00000000e+00+0.00000000e+00j  0.00000000e+00+0.00000000e+00j\n",
      "   0.00000000e+00+0.00000000e+00j  0.00000000e+00+0.00000000e+00j]\n",
      " [ 0.00000000e+00+0.00000000e+00j  0.00000000e+00+0.00000000e+00j\n",
      "   0.00000000e+00+0.00000000e+00j  0.00000000e+00+0.00000000e+00j\n",
      "   0.00000000e+00+0.00000000e+00j  0.00000000e+00+0.00000000e+00j\n",
      "   0.00000000e+00+0.00000000e+00j  0.00000000e+00+0.00000000e+00j\n",
      "   0.00000000e+00+0.00000000e+00j  0.00000000e+00+0.00000000e+00j\n",
      "   0.00000000e+00+0.00000000e+00j  9.23879533e-01-3.82683432e-01j\n",
      "   0.00000000e+00+0.00000000e+00j  0.00000000e+00+0.00000000e+00j\n",
      "   0.00000000e+00+0.00000000e+00j  0.00000000e+00+0.00000000e+00j]\n",
      " [ 0.00000000e+00+0.00000000e+00j  0.00000000e+00+0.00000000e+00j\n",
      "   0.00000000e+00+0.00000000e+00j  0.00000000e+00+0.00000000e+00j\n",
      "   0.00000000e+00+0.00000000e+00j  0.00000000e+00+0.00000000e+00j\n",
      "   0.00000000e+00+0.00000000e+00j  0.00000000e+00+0.00000000e+00j\n",
      "   0.00000000e+00+0.00000000e+00j  0.00000000e+00+0.00000000e+00j\n",
      "   0.00000000e+00+0.00000000e+00j  0.00000000e+00+0.00000000e+00j\n",
      "   3.06161700e-16-1.00000000e+00j  0.00000000e+00+0.00000000e+00j\n",
      "   0.00000000e+00+0.00000000e+00j  0.00000000e+00+0.00000000e+00j]\n",
      " [ 0.00000000e+00+0.00000000e+00j  0.00000000e+00+0.00000000e+00j\n",
      "   0.00000000e+00+0.00000000e+00j  0.00000000e+00+0.00000000e+00j\n",
      "   0.00000000e+00+0.00000000e+00j  0.00000000e+00+0.00000000e+00j\n",
      "   0.00000000e+00+0.00000000e+00j  0.00000000e+00+0.00000000e+00j\n",
      "   0.00000000e+00+0.00000000e+00j  0.00000000e+00+0.00000000e+00j\n",
      "   0.00000000e+00+0.00000000e+00j  0.00000000e+00+0.00000000e+00j\n",
      "   0.00000000e+00+0.00000000e+00j -9.23879533e-01-3.82683432e-01j\n",
      "   0.00000000e+00+0.00000000e+00j  0.00000000e+00+0.00000000e+00j]\n",
      " [ 0.00000000e+00+0.00000000e+00j  0.00000000e+00+0.00000000e+00j\n",
      "   0.00000000e+00+0.00000000e+00j  0.00000000e+00+0.00000000e+00j\n",
      "   0.00000000e+00+0.00000000e+00j  0.00000000e+00+0.00000000e+00j\n",
      "   0.00000000e+00+0.00000000e+00j  0.00000000e+00+0.00000000e+00j\n",
      "   0.00000000e+00+0.00000000e+00j  0.00000000e+00+0.00000000e+00j\n",
      "   0.00000000e+00+0.00000000e+00j  0.00000000e+00+0.00000000e+00j\n",
      "   0.00000000e+00+0.00000000e+00j  0.00000000e+00+0.00000000e+00j\n",
      "  -7.07106781e-01+7.07106781e-01j  0.00000000e+00+0.00000000e+00j]\n",
      " [ 0.00000000e+00+0.00000000e+00j  0.00000000e+00+0.00000000e+00j\n",
      "   0.00000000e+00+0.00000000e+00j  0.00000000e+00+0.00000000e+00j\n",
      "   0.00000000e+00+0.00000000e+00j  0.00000000e+00+0.00000000e+00j\n",
      "   0.00000000e+00+0.00000000e+00j  0.00000000e+00+0.00000000e+00j\n",
      "   0.00000000e+00+0.00000000e+00j  0.00000000e+00+0.00000000e+00j\n",
      "   0.00000000e+00+0.00000000e+00j  0.00000000e+00+0.00000000e+00j\n",
      "   0.00000000e+00+0.00000000e+00j  0.00000000e+00+0.00000000e+00j\n",
      "   0.00000000e+00+0.00000000e+00j  3.82683432e-01+9.23879533e-01j]]\n",
      "[ 7.65404249e-18-7.65404249e-18j -4.48895523e-17+1.60559120e-17j\n",
      "  6.22374531e-18-7.65404249e-18j  2.94707078e-17-2.36772761e-17j\n",
      "  3.54096181e-17-7.65404249e-18j  1.00000000e+00+1.71303888e-16j\n",
      " -4.11579860e-17-7.65404249e-18j -6.13355047e-17-3.75550639e-17j\n",
      " -2.01015331e-17-7.65404249e-18j -6.61327502e-17-3.52297045e-17j\n",
      "  6.22374531e-18-7.65404249e-18j -1.55929200e-17-2.36772761e-17j\n",
      "  7.65404249e-18-7.65404249e-18j  0.00000000e+00+3.15669248e-17j\n",
      " -1.90567457e-18-7.65404249e-18j  4.74577168e-17-3.75550639e-17j]\n"
     ]
    }
   ],
   "source": [
    "reg=quantum_reg(4)\n",
    "#reg.x(1)\n",
    "#reg.x(0)\n",
    "print(reg.tensor)\n",
    "reg.cft(4);\n",
    "FADDa(reg,8);\n",
    "print(FADDa(reg,-3))\n",
    "reg.icft(4);\n",
    "print(reg.tensor);"
   ]
  },
  {
   "cell_type": "code",
   "execution_count": 780,
   "id": "e711abaf",
   "metadata": {},
   "outputs": [
    {
     "data": {
      "image/png": "[encoded data removed]",
      "text/plain": [
       "<Figure size 640x480 with 1 Axes>"
      ]
     },
     "metadata": {},
     "output_type": "display_data"
    }
   ],
   "source": [
    "l = np.arange(0,2**reg.length)\n",
    "x=[\"{0:b}\".format(i) for i in l]\n",
    "#x= np.arange(0,2**reg.length)\n",
    "plt.bar(x, height=np.sqrt(reg.tensor*np.conj(reg.tensor)).real);\n",
    "plt.xticks(rotation='vertical');"
   ]
  },
  {
   "cell_type": "code",
   "execution_count": 781,
   "id": "43d99888",
   "metadata": {},
   "outputs": [
    {
     "data": {
      "text/plain": [
       "8"
      ]
     },
     "execution_count": 781,
     "metadata": {},
     "output_type": "execute_result"
    }
   ],
   "source": [
    "-8%16"
   ]
  },
  {
   "cell_type": "code",
   "execution_count": 772,
   "id": "fdc97330",
   "metadata": {},
   "outputs": [],
   "source": [
    "def cz(reg:quantum_reg,c:int,t:int):\n",
    "    matrix=reg.s(t);\n",
    "    matrix=matrix.dot(reg.cx(c,t));\n",
    "    matrix=matrix.dot(reg.s(t,1));\n",
    "    matrix=matrix.dot(reg.cx(c,t));\n",
    "    return matrix"
   ]
  },
  {
   "cell_type": "code",
   "execution_count": 773,
   "id": "2a47d9e5",
   "metadata": {},
   "outputs": [],
   "source": [
    "reg=quantum_reg(2)"
   ]
  },
  {
   "cell_type": "code",
   "execution_count": 774,
   "id": "f753c3de",
   "metadata": {},
   "outputs": [
    {
     "data": {
      "text/plain": [
       "array([[1.000000e+00+0.j, 0.000000e+00+0.j, 0.000000e+00+0.j,\n",
       "        0.000000e+00+0.j],\n",
       "       [0.000000e+00+0.j, 6.123234e-17-1.j, 0.000000e+00+0.j,\n",
       "        0.000000e+00+0.j],\n",
       "       [0.000000e+00+0.j, 0.000000e+00+0.j, 1.000000e+00+0.j,\n",
       "        0.000000e+00+0.j],\n",
       "       [0.000000e+00+0.j, 0.000000e+00+0.j, 0.000000e+00+0.j,\n",
       "        6.123234e-17+1.j]])"
      ]
     },
     "execution_count": 774,
     "metadata": {},
     "output_type": "execute_result"
    }
   ],
   "source": [
    "cz(reg,0,1)"
   ]
  },
  {
   "cell_type": "code",
   "execution_count": 768,
   "id": "eacca6fe",
   "metadata": {},
   "outputs": [
    {
     "data": {
      "text/plain": [
       "array([[ 1.00000000e+00+0.j,  0.00000000e+00+0.j,  1.01465364e-17+0.j,\n",
       "         0.00000000e+00+0.j],\n",
       "       [ 0.00000000e+00+0.j,  1.00000000e+00+0.j,  0.00000000e+00+0.j,\n",
       "         1.01465364e-17+0.j],\n",
       "       [ 1.01465364e-17+0.j,  0.00000000e+00+0.j,  1.00000000e+00+0.j,\n",
       "         0.00000000e+00+0.j],\n",
       "       [ 0.00000000e+00+0.j, -1.01465364e-17+0.j,  0.00000000e+00+0.j,\n",
       "        -1.00000000e+00+0.j]])"
      ]
     },
     "execution_count": 768,
     "metadata": {},
     "output_type": "execute_result"
    }
   ],
   "source": [
    "reg.cz(0,1)"
   ]
  },
  {
   "cell_type": "code",
   "execution_count": 675,
   "id": "5f821f8e",
   "metadata": {},
   "outputs": [
    {
     "data": {
      "text/plain": [
       "array([[ 1.+0.0000000e+00j,  0.+0.0000000e+00j,  0.+0.0000000e+00j,\n",
       "         0.+0.0000000e+00j],\n",
       "       [ 0.+0.0000000e+00j, -1.+1.2246468e-16j,  0.+0.0000000e+00j,\n",
       "         0.+0.0000000e+00j],\n",
       "       [ 0.+0.0000000e+00j,  0.+0.0000000e+00j,  1.+0.0000000e+00j,\n",
       "         0.+0.0000000e+00j],\n",
       "       [ 0.+0.0000000e+00j,  0.+0.0000000e+00j,  0.+0.0000000e+00j,\n",
       "        -1.+1.2246468e-16j]])"
      ]
     },
     "execution_count": 675,
     "metadata": {},
     "output_type": "execute_result"
    }
   ],
   "source": [
    "reg.z(0)"
   ]
  },
  {
   "cell_type": "code",
   "execution_count": 1213,
   "id": "77ae7373",
   "metadata": {},
   "outputs": [],
   "source": [
    "def cFADDa(reg:quantum_reg, a:int, c:int):\n",
    "    n=reg.length\n",
    "    reg_dummy=quantum_reg(n)\n",
    "    matrix_o=FADDa(reg_dummy, a)\n",
    "    matrix_sqrt=sqrtm(matrix_o)\n",
    "    matrix_cnot=np.diag(np.ones(2**reg.length))\n",
    "    for i in range(n):\n",
    "        matrix_cnot=matrix_cnot.dot(reg_dummy.cx(c,i))\n",
    "    matrix_resp=np.diag(np.ones(2**reg.length));\n",
    "    matrix_resp=matrix_resp.dot(matrix_sqrt)\n",
    "    matrix_resp=matrix_resp.dot(matrix_cnot)\n",
    "    matrix_resp=matrix_resp.dot(np.conjugate(matrix_sqrt))\n",
    "    return matrix_resp"
   ]
  },
  {
   "cell_type": "code",
   "execution_count": 1214,
   "id": "f17019b4",
   "metadata": {},
   "outputs": [],
   "source": [
    "reg=quantum_reg(3)\n",
    "\n",
    "cFADDa(reg,1,2);"
   ]
  },
  {
   "cell_type": "code",
   "execution_count": null,
   "id": "b143b94c",
   "metadata": {},
   "outputs": [],
   "source": []
  },
  {
   "cell_type": "code",
   "execution_count": null,
   "id": "35775837",
   "metadata": {},
   "outputs": [],
   "source": [
    "n_count=3\n",
    "reg= quantum_reg(n_count+4)\n",
    "\n",
    "def c_2mod15(reg:quantum_reg,power:int):\n",
    "        reg.swap()"
   ]
  },
  {
   "cell_type": "code",
   "execution_count": null,
   "id": "f3e33260",
   "metadata": {},
   "outputs": [],
   "source": []
  },
  {
   "cell_type": "code",
   "execution_count": 922,
   "id": "1afeb218",
   "metadata": {},
   "outputs": [],
   "source": [
    "import numpy as np\n",
    "psi=np.zeros((2,2)) # Create an array of zeros with the right shape. \n",
    "psi[0,0]=1"
   ]
  },
  {
   "cell_type": "code",
   "execution_count": 1247,
   "id": "d92e1456",
   "metadata": {},
   "outputs": [],
   "source": [
    "\n",
    "\n",
    "\n",
    "\n",
    "\n",
    "\n"
   ]
  },
  {
   "cell_type": "code",
   "execution_count": 1258,
   "id": "8ad6ccdd",
   "metadata": {},
   "outputs": [
    {
     "data": {
      "image/png": "[encoded data removed]",
      "text/plain": [
       "<Figure size 640x480 with 1 Axes>"
      ]
     },
     "metadata": {},
     "output_type": "display_data"
    }
   ],
   "source": [
    "n_measures=1000\n",
    "sol=np.zeros(n_measures)\n",
    "for i in range(1000):\n",
    "    reg=quantum_reg(4)\n",
    "    reg.h(3);\n",
    "    reg.cx(3,2);\n",
    "    reg.x(0)\n",
    "    reg.cx(3,0);\n",
    "    reg.icft(4)\n",
    "    qb0=reg.measure(0)\n",
    "    qb1=reg.measure(1)\n",
    "    qb2=reg.measure(2)\n",
    "    qb3=reg.measure(3)\n",
    "    sol[i]=int(''.join(np.array([qb3,qb2,qb1,qb0],dtype=str).tolist()), 2)\n",
    "    \n",
    "labels, counts = np.unique(sol, return_counts=True)\n",
    "plt.bar(labels, counts, align='center')\n",
    "plt.gca().set_xticks(labels)\n",
    "plt.xticks(np.arange(0,2**4));\n",
    "plt.ylabel('Counts')\n",
    "plt.xlabel('State')\n",
    "plt.show()"
   ]
  },
  {
   "cell_type": "code",
   "execution_count": 1265,
   "id": "60a487c5",
   "metadata": {},
   "outputs": [
    {
     "name": "stdout",
     "output_type": "stream",
     "text": [
      "             Register Output          Phase\n",
      "0    0b1100(bin) = 12.0(dec)  12.0/2 = 0.75\n",
      "1    0b1111(bin) = 15.0(dec)  15.0/2 = 0.94\n",
      "2      0b110(bin) = 6.0(dec)   6.0/2 = 0.38\n",
      "3      0b110(bin) = 6.0(dec)   6.0/2 = 0.38\n",
      "4    0b1111(bin) = 15.0(dec)  15.0/2 = 0.94\n",
      "..                       ...            ...\n",
      "995     0b11(bin) = 3.0(dec)   3.0/2 = 0.19\n",
      "996   0b1001(bin) = 9.0(dec)   9.0/2 = 0.56\n",
      "997  0b1010(bin) = 10.0(dec)  10.0/2 = 0.62\n",
      "998     0b10(bin) = 2.0(dec)   2.0/2 = 0.12\n",
      "999    0b100(bin) = 4.0(dec)   4.0/2 = 0.25\n",
      "\n",
      "[1000 rows x 2 columns]\n"
     ]
    }
   ],
   "source": [
    "import pandas as pd\n",
    "rows, measured_phases = [], []\n",
    "for decimal in sol:\n",
    "    phase = decimal/(2**4)  \n",
    "    measured_phases.append(phase)\n",
    "    # Add these values to the rows in our table:\n",
    "    rows.append([f\"{bin(int(decimal))}(bin) = {decimal:>3}(dec)\", \n",
    "                 f\"{decimal}/{2**1} = {phase:.2f}\"])\n",
    "# Print the rows in a table\n",
    "headers=[\"Register Output\", \"Phase\"]\n",
    "df = pd.DataFrame(rows, columns=headers)\n",
    "print(df)"
   ]
  },
  {
   "cell_type": "code",
   "execution_count": 17,
   "id": "c5b00a49",
   "metadata": {},
   "outputs": [
    {
     "ename": "NameError",
     "evalue": "name 'measured_phases' is not defined",
     "output_type": "error",
     "traceback": [
      "\u001b[1;31m---------------------------------------------------------------------------\u001b[0m",
      "\u001b[1;31mNameError\u001b[0m                                 Traceback (most recent call last)",
      "Cell \u001b[1;32mIn [17], line 3\u001b[0m\n\u001b[0;32m      1\u001b[0m \u001b[38;5;28;01mfrom\u001b[39;00m \u001b[38;5;21;01mfractions\u001b[39;00m \u001b[38;5;28;01mimport\u001b[39;00m Fraction\n\u001b[0;32m      2\u001b[0m rows \u001b[38;5;241m=\u001b[39m []\n\u001b[1;32m----> 3\u001b[0m \u001b[38;5;28;01mfor\u001b[39;00m phase \u001b[38;5;129;01min\u001b[39;00m \u001b[43mmeasured_phases\u001b[49m:\n\u001b[0;32m      4\u001b[0m     frac \u001b[38;5;241m=\u001b[39m Fraction(phase)\u001b[38;5;241m.\u001b[39mlimit_denominator(\u001b[38;5;241m15\u001b[39m)\n\u001b[0;32m      5\u001b[0m     rows\u001b[38;5;241m.\u001b[39mappend([phase, \u001b[38;5;124mf\u001b[39m\u001b[38;5;124m\"\u001b[39m\u001b[38;5;132;01m{\u001b[39;00mfrac\u001b[38;5;241m.\u001b[39mnumerator\u001b[38;5;132;01m}\u001b[39;00m\u001b[38;5;124m/\u001b[39m\u001b[38;5;132;01m{\u001b[39;00mfrac\u001b[38;5;241m.\u001b[39mdenominator\u001b[38;5;132;01m}\u001b[39;00m\u001b[38;5;124m\"\u001b[39m, frac\u001b[38;5;241m.\u001b[39mdenominator])\n",
      "\u001b[1;31mNameError\u001b[0m: name 'measured_phases' is not defined"
     ]
    }
   ],
   "source": [
    "from fractions import Fraction\n",
    "rows = []\n",
    "for phase in measured_phases:\n",
    "    frac = Fraction(phase).limit_denominator(15)\n",
    "    rows.append([phase, f\"{frac.numerator}/{frac.denominator}\", frac.denominator])\n",
    "# Print as a table\n",
    "headers=[\"Phase\", \"Fraction\", \"Guess for r\"]\n",
    "df = pd.DataFrame(rows, columns=headers)\n",
    "print(df)"
   ]
  },
  {
   "cell_type": "code",
   "execution_count": null,
   "id": "19e8def2",
   "metadata": {},
   "outputs": [],
   "source": [
    "def c_amod15(a, power):\n",
    "    \"\"\"Controlled multiplication by a mod 15\"\"\"\n",
    "    if a not in [2,4,7,8,11,13]:\n",
    "        raise ValueError(\"'a' must be 2,4,7,8,11 or 13\")\n",
    "    reg. = QuantumCircuit(4)        \n",
    "    for iteration in range(power):\n",
    "        if a in [2,13]:\n",
    "            U.swap(2,3)\n",
    "            U.swap(1,2)\n",
    "            U.swap(0,1)\n",
    "        if a in [7,8]:\n",
    "            U.swap(0,1)\n",
    "            U.swap(1,2)\n",
    "            U.swap(2,3)\n",
    "        if a in [4, 11]:\n",
    "            U.swap(1,3)\n",
    "            U.swap(0,2)\n",
    "        if a in [7,11,13]:\n",
    "            for q in range(4):\n",
    "                U.x(q)\n",
    "    U = U.to_gate()\n",
    "    U.name = \"%i^%i mod 15\" % (a, power)\n",
    "    c_U = U.control()\n",
    "    return c_U"
   ]
  },
  {
   "cell_type": "code",
   "execution_count": 1268,
   "id": "8e60767d",
   "metadata": {},
   "outputs": [],
   "source": [
    "n_count = 8  # number of counting qubits\n",
    "a = 7"
   ]
  },
  {
   "cell_type": "code",
   "execution_count": 1271,
   "id": "ef11ba54",
   "metadata": {},
   "outputs": [
    {
     "data": {
      "text/plain": [
       "array([[0.+6.123234e-17j, 0.+0.000000e+00j, 0.+0.000000e+00j, ...,\n",
       "        0.+0.000000e+00j, 0.+0.000000e+00j, 0.+0.000000e+00j],\n",
       "       [0.+0.000000e+00j, 0.+6.123234e-17j, 0.+0.000000e+00j, ...,\n",
       "        0.+0.000000e+00j, 0.+0.000000e+00j, 0.+0.000000e+00j],\n",
       "       [0.+0.000000e+00j, 0.+0.000000e+00j, 0.+6.123234e-17j, ...,\n",
       "        0.+0.000000e+00j, 0.+0.000000e+00j, 0.+0.000000e+00j],\n",
       "       ...,\n",
       "       [0.+0.000000e+00j, 0.+0.000000e+00j, 0.+0.000000e+00j, ...,\n",
       "        0.+6.123234e-17j, 0.+0.000000e+00j, 0.+0.000000e+00j],\n",
       "       [0.+0.000000e+00j, 0.+0.000000e+00j, 0.+0.000000e+00j, ...,\n",
       "        0.+0.000000e+00j, 0.+6.123234e-17j, 0.+0.000000e+00j],\n",
       "       [0.+0.000000e+00j, 0.+0.000000e+00j, 0.+0.000000e+00j, ...,\n",
       "        0.+0.000000e+00j, 0.+0.000000e+00j, 0.+6.123234e-17j]])"
      ]
     },
     "execution_count": 1271,
     "metadata": {},
     "output_type": "execute_result"
    }
   ],
   "source": [
    "reg=quantum_reg(n_count+4)\n",
    "for q in range(n_count):\n",
    "    reg.h(q)\n",
    "reg.x(n_count)"
   ]
  },
  {
   "cell_type": "code",
   "execution_count": null,
   "id": "d79122d9",
   "metadata": {},
   "outputs": [],
   "source": [
    "for q in range(n_count):\n",
    "    qc.append(c_amod15(a, 2**q), \n",
    "             [q] + [i+n_count for i in range(4)])"
   ]
  },
  {
   "cell_type": "code",
   "execution_count": 1281,
   "id": "ddb79ab7",
   "metadata": {},
   "outputs": [],
   "source": [
    "import numpy as np\n",
    "from qiskit import QuantumCircuit,QuantumRegister\n",
    "\n"
   ]
  },
  {
   "cell_type": "code",
   "execution_count": 1277,
   "id": "c2caa405",
   "metadata": {},
   "outputs": [],
   "source": [
    "def shors_algorithm(N):\n",
    "    \"\"\"Returns the period of N using Shor's algorithm\"\"\"\n",
    "    \n",
    "    # Step 1: Choose a random integer 'a' less than N\n",
    "    a = np.random.randint(2, N-1)\n",
    "    \n",
    "    # Step 2: Construct a quantum circuit with 2 registers\n",
    "    # First register has n qubits for the input and the second register has m qubits for the output\n",
    "    n = int(np.ceil(np.log2(N)))\n",
    "    m = 2*n\n",
    "    \n",
    "    qc = QuantumCircuit(n+m, m)\n",
    "    \n",
    "    # Step 3: Apply Hadamard gates to the first register\n",
    "    qc.h(range(n))\n",
    "    \n",
    "    # Step 4: Apply the quantum function f(x) = a^x mod N to the first register\n",
    "    for i in range(n):\n",
    "        for j in range(2**i):\n",
    "            qc.cswap(i, n+j+i, n+j+i+1)\n",
    "        qc.x(i)\n",
    "        qc.cx(i, n+i)\n",
    "        qc.x(i)\n",
    "    \n",
    "    # Step 5: Apply inverse quantum Fourier transform to the first register\n",
    "    for i in range(n//2):\n",
    "        qc.swap(i, n-i-1)\n",
    "    for i in range(n):\n",
    "        for j in range(i):\n",
    "            qc.cu1(np.pi/float(2**(i-j)), j, n+i)\n",
    "        qc.h(i)\n",
    "    \n",
    "    # Step 6: Measure the first register\n",
    "    qc.measure(range(n), range(n))\n",
    "    \n",
    "    # Step 7: Execute the quantum circuit and obtain the measurement results\n",
    "    from qiskit import Aer, execute\n",
    "    backend = Aer.get_backend('qasm_simulator')\n",
    "    result = execute(qc, backend=backend, shots=1).result()\n",
    "    measured = int(result.get_counts().keys()[0], 2)\n",
    "    \n",
    "    # Step 8: Use continued fractions to obtain the period of N\n",
    "    from fractions import Fraction\n",
    "    r = 0\n",
    "    for i in range(1, N):\n",
    "        x = Fraction(measured, 2**n) + Fraction(i, N)\n",
    "        frac = x.limit_denominator(N)\n",
    "        if frac.denominator < N and pow(a, frac.denominator, N) == 1:\n",
    "            r = frac.denominator\n",
    "            break\n",
    "    \n",
    "    return r,a"
   ]
  },
  {
   "cell_type": "code",
   "execution_count": 1307,
   "id": "996e70be",
   "metadata": {},
   "outputs": [],
   "source": [
    "import numpy as np\n",
    "from math import gcd\n",
    "from qiskit import QuantumRegister, ClassicalRegister, QuantumCircuit, execute, BasicAer\n",
    "\n",
    "def shors_algorithm(N):\n",
    "    \"\"\"Returns the period of N using Shor's algorithm\"\"\"\n",
    "    \n",
    "    # Step 1: Choose a random integer 'a' less than N\n",
    "    a = np.random.randint(2, N-1)\n",
    "    \n",
    "    # Step 2: Construct a quantum circuit with 2 registers\n",
    "    # First register has n qubits for the input and the second register has m qubits for the output\n",
    "    n = int(np.ceil(np.log2(N)))\n",
    "    m = 2*n\n",
    "    \n",
    "    # Initialize the quantum registers\n",
    "    qreg = QuantumRegister(n+m)\n",
    "    qc = QuantumCircuit(qreg)\n",
    "    \n",
    "    # Step 3: Apply Hadamard gates to the first register\n",
    "    for i in range(n):\n",
    "        qc.h(qreg[i])\n",
    "    \n",
    "    # Step 4: Apply the quantum function f(x) = a^x mod N to the first register\n",
    "    for i in range(n):\n",
    "        for j in range(2*i):\n",
    "            print(i,n+j+i)\n",
    "            qc.cx(qreg[i], qreg[n+j])\n",
    "        qc.barrier()\n",
    "        qc.swap(qreg[i], qreg[n+i])\n",
    "        qc.barrier()\n",
    "        qc.x(qreg[i])\n",
    "        qc.cx(qreg[i], qreg[n+i])\n",
    "        qc.x(qreg[i])\n",
    "        qc.barrier()\n",
    "    \n",
    "    # Step 5: Apply inverse quantum Fourier transform to the first register\n",
    "    for i in range(n):\n",
    "        qc.h(qreg[i])\n",
    "        for j in range(i):\n",
    "            qc.cu(np.pi/float(2**(i-j)), qreg[j], qreg[i])\n",
    "    \n",
    "    # Step 6: Measure the first register\n",
    "    creg = ClassicalRegister(n)\n",
    "    qc.add_register(creg)\n",
    "    qc.measure(qreg[:n], creg)\n",
    "    \n",
    "    # Step 7: Execute the quantum circuit and obtain the measurement results\n",
    "    backend = BasicAer.get_backend('qasm_simulator')\n",
    "    result = execute(qc, backend=backend, shots=1).result()\n",
    "    measured = int(list(result.get_counts())[0], 2)\n",
    "    \n",
    "    # Step 8: Use continued fractions to obtain the period of N\n",
    "    r = gcd(measured, 2**n)\n",
    "    \n",
    "    for i in range(1, n):\n",
    "        x = (a**r)**(2**(n-i)) % N\n",
    "        if x == 1:\n",
    "            return r\n",
    "        r *= 2\n",
    "        \n",
    "    return r,a\n"
   ]
  },
  {
   "cell_type": "code",
   "execution_count": 1308,
   "id": "51202b42",
   "metadata": {},
   "outputs": [
    {
     "name": "stdout",
     "output_type": "stream",
     "text": [
      "1 5\n",
      "1 6\n",
      "2 6\n",
      "2 7\n",
      "2 8\n",
      "2 9\n",
      "3 7\n",
      "3 8\n",
      "3 9\n",
      "3 10\n",
      "3 11\n",
      "3 12\n"
     ]
    },
    {
     "ename": "TypeError",
     "evalue": "QuantumCircuit.cu() missing 3 required positional arguments: 'gamma', 'control_qubit', and 'target_qubit'",
     "output_type": "error",
     "traceback": [
      "\u001b[1;31m---------------------------------------------------------------------------\u001b[0m",
      "\u001b[1;31mTypeError\u001b[0m                                 Traceback (most recent call last)",
      "Cell \u001b[1;32mIn [1308], line 1\u001b[0m\n\u001b[1;32m----> 1\u001b[0m \u001b[43mshors_algorithm\u001b[49m\u001b[43m(\u001b[49m\u001b[38;5;241;43m15\u001b[39;49m\u001b[43m)\u001b[49m\n",
      "Cell \u001b[1;32mIn [1307], line 41\u001b[0m, in \u001b[0;36mshors_algorithm\u001b[1;34m(N)\u001b[0m\n\u001b[0;32m     39\u001b[0m     qc\u001b[38;5;241m.\u001b[39mh(qreg[i])\n\u001b[0;32m     40\u001b[0m     \u001b[38;5;28;01mfor\u001b[39;00m j \u001b[38;5;129;01min\u001b[39;00m \u001b[38;5;28mrange\u001b[39m(i):\n\u001b[1;32m---> 41\u001b[0m         \u001b[43mqc\u001b[49m\u001b[38;5;241;43m.\u001b[39;49m\u001b[43mcu\u001b[49m\u001b[43m(\u001b[49m\u001b[43mnp\u001b[49m\u001b[38;5;241;43m.\u001b[39;49m\u001b[43mpi\u001b[49m\u001b[38;5;241;43m/\u001b[39;49m\u001b[38;5;28;43mfloat\u001b[39;49m\u001b[43m(\u001b[49m\u001b[38;5;241;43m2\u001b[39;49m\u001b[38;5;241;43m*\u001b[39;49m\u001b[38;5;241;43m*\u001b[39;49m\u001b[43m(\u001b[49m\u001b[43mi\u001b[49m\u001b[38;5;241;43m-\u001b[39;49m\u001b[43mj\u001b[49m\u001b[43m)\u001b[49m\u001b[43m)\u001b[49m\u001b[43m,\u001b[49m\u001b[43m \u001b[49m\u001b[43mqreg\u001b[49m\u001b[43m[\u001b[49m\u001b[43mj\u001b[49m\u001b[43m]\u001b[49m\u001b[43m,\u001b[49m\u001b[43m \u001b[49m\u001b[43mqreg\u001b[49m\u001b[43m[\u001b[49m\u001b[43mi\u001b[49m\u001b[43m]\u001b[49m\u001b[43m)\u001b[49m\n\u001b[0;32m     43\u001b[0m \u001b[38;5;66;03m# Step 6: Measure the first register\u001b[39;00m\n\u001b[0;32m     44\u001b[0m creg \u001b[38;5;241m=\u001b[39m ClassicalRegister(n)\n",
      "\u001b[1;31mTypeError\u001b[0m: QuantumCircuit.cu() missing 3 required positional arguments: 'gamma', 'control_qubit', and 'target_qubit'"
     ]
    }
   ],
   "source": [
    "shors_algorithm(15)"
   ]
  },
  {
   "cell_type": "code",
   "execution_count": 1309,
   "id": "636d96af",
   "metadata": {},
   "outputs": [
    {
     "ename": "TypeError",
     "evalue": "QuantumCircuit.cu() missing 2 required positional arguments: 'control_qubit' and 'target_qubit'",
     "output_type": "error",
     "traceback": [
      "\u001b[1;31m---------------------------------------------------------------------------\u001b[0m",
      "\u001b[1;31mTypeError\u001b[0m                                 Traceback (most recent call last)",
      "Cell \u001b[1;32mIn [1309], line 57\u001b[0m\n\u001b[0;32m     54\u001b[0m     \u001b[38;5;28;01melse\u001b[39;00m:\n\u001b[0;32m     55\u001b[0m         \u001b[38;5;28;01mreturn\u001b[39;00m a, N \u001b[38;5;241m/\u001b[39m\u001b[38;5;241m/\u001b[39m a\n\u001b[1;32m---> 57\u001b[0m \u001b[38;5;28mprint\u001b[39m(\u001b[43mshors_algorithm\u001b[49m\u001b[43m(\u001b[49m\u001b[38;5;241;43m15\u001b[39;49m\u001b[43m)\u001b[49m)\n",
      "Cell \u001b[1;32mIn [1309], line 19\u001b[0m, in \u001b[0;36mshors_algorithm\u001b[1;34m(N)\u001b[0m\n\u001b[0;32m     17\u001b[0m \u001b[38;5;28;01mfor\u001b[39;00m repeat \u001b[38;5;129;01min\u001b[39;00m \u001b[38;5;28mrange\u001b[39m(\u001b[38;5;241m2\u001b[39m\u001b[38;5;241m*\u001b[39mn):\n\u001b[0;32m     18\u001b[0m     \u001b[38;5;28;01mfor\u001b[39;00m i \u001b[38;5;129;01min\u001b[39;00m \u001b[38;5;28mrange\u001b[39m(n\u001b[38;5;241m-\u001b[39m\u001b[38;5;241m1\u001b[39m):\n\u001b[1;32m---> 19\u001b[0m         \u001b[43mqc\u001b[49m\u001b[38;5;241;43m.\u001b[39;49m\u001b[43mcu\u001b[49m\u001b[43m(\u001b[49m\u001b[38;5;241;43m1\u001b[39;49m\u001b[43m,\u001b[49m\u001b[43m \u001b[49m\u001b[38;5;241;43m2\u001b[39;49m\u001b[38;5;241;43m*\u001b[39;49m\u001b[43mn\u001b[49m\u001b[38;5;241;43m-\u001b[39;49m\u001b[43mi\u001b[49m\u001b[38;5;241;43m-\u001b[39;49m\u001b[38;5;241;43m2\u001b[39;49m\u001b[43m,\u001b[49m\u001b[43m \u001b[49m\u001b[38;5;241;43m2\u001b[39;49m\u001b[38;5;241;43m*\u001b[39;49m\u001b[43mn\u001b[49m\u001b[38;5;241;43m-\u001b[39;49m\u001b[43mi\u001b[49m\u001b[38;5;241;43m-\u001b[39;49m\u001b[38;5;241;43m1\u001b[39;49m\u001b[43m,\u001b[49m\u001b[43m \u001b[49m\u001b[43mqreg\u001b[49m\u001b[43m[\u001b[49m\u001b[43mi\u001b[49m\u001b[43m]\u001b[49m\u001b[43m)\u001b[49m\n\u001b[0;32m     20\u001b[0m     qc\u001b[38;5;241m.\u001b[39mbarrier()\n\u001b[0;32m     22\u001b[0m \u001b[38;5;66;03m# Step 4: Measure the second register\u001b[39;00m\n",
      "\u001b[1;31mTypeError\u001b[0m: QuantumCircuit.cu() missing 2 required positional arguments: 'control_qubit' and 'target_qubit'"
     ]
    }
   ],
   "source": [
    "import numpy as np\n",
    "from qiskit import QuantumRegister, ClassicalRegister, QuantumCircuit, Aer, execute\n",
    "from qiskit.quantum_info import Statevector\n",
    "\n",
    "def shors_algorithm(N):\n",
    "    # Step 1: Initialize the registers\n",
    "    n = N.bit_length()\n",
    "    qreg = QuantumRegister(2*n, 'q')\n",
    "    creg = ClassicalRegister(n-1, 'c')\n",
    "    qc = QuantumCircuit(qreg, creg)\n",
    "\n",
    "    # Step 2: Apply the Hadamard gates\n",
    "    for i in range(n):\n",
    "        qc.h(qreg[i])\n",
    "\n",
    "    # Step 3: Repeat the controlled-U operations\n",
    "    for repeat in range(2*n):\n",
    "        for i in range(n-1):\n",
    "            qc.cu(1, 2*n-i-2, 2*n-i-1, qreg[i])\n",
    "        qc.barrier()\n",
    "\n",
    "    # Step 4: Measure the second register\n",
    "    for i in range(n):\n",
    "        qc.measure(qreg[n+i], creg[i])\n",
    "\n",
    "    # Step 5: Apply the inverse Fourier transform\n",
    "    for i in range(n):\n",
    "        qc.h(qreg[i])\n",
    "        for j in range(i):\n",
    "            theta = -np.pi/float(2**(i-j))\n",
    "            qc.cu(np.cos(theta), np.sin(theta), qreg[j], qreg[i])\n",
    "        qc.barrier()\n",
    "\n",
    "    # Step 6: Measure the first register\n",
    "    creg2 = ClassicalRegister(n, 'c2')\n",
    "    qc.add_register(creg2)\n",
    "    qc.measure(qreg[:n], creg2)\n",
    "\n",
    "    # Step 7: Run the circuit and get the result\n",
    "    backend = Aer.get_backend('qasm_simulator')\n",
    "    result = execute(qc, backend, shots=1024).result()\n",
    "    counts = result.get_counts()\n",
    "    measured = max(counts, key=counts.get)\n",
    "\n",
    "    # Step 8: Check if the measurement is valid\n",
    "    x = int(measured, 2)\n",
    "    if x % 2 != 0:\n",
    "        x = x + (2 ** (n-1))\n",
    "    if x % 2 != 0:\n",
    "        return None\n",
    "    a = np.gcd(int(N**(1/2)), x // 2)\n",
    "    if a == 1 or a == N:\n",
    "        return None\n",
    "    else:\n",
    "        return a, N // a\n",
    "\n",
    "print(shors_algorithm(15))\n"
   ]
  },
  {
   "cell_type": "code",
   "execution_count": 28,
   "id": "7340a19e",
   "metadata": {},
   "outputs": [],
   "source": [
    "from math import gcd\n",
    "import numpy as np\n",
    "from numpy.random import randint\n",
    "from qiskit import QuantumRegister, ClassicalRegister, QuantumCircuit\n",
    "from qiskit import Aer, execute\n",
    "\n",
    "def shors_algorithm(N):\n",
    "    # Step 1: Initialize registers\n",
    "    n = int(np.ceil(np.log2(N)))\n",
    "    qreg = QuantumRegister(2*n)\n",
    "    creg = ClassicalRegister(n)\n",
    "    qc = QuantumCircuit(qreg, creg)\n",
    "\n",
    "    # Step 2: Apply Hadamard gates to the first n qubits\n",
    "    for i in range(n):\n",
    "        qc.h(qreg[i])\n",
    "\n",
    "    # Step 3: Apply controlled unitary gates\n",
    "    for repeat in range(2*n):\n",
    "        for i in range(n-1):\n",
    "            qc.cp(np.pi/float(2**(i+1)), qreg[n+i], qreg[i])\n",
    "        \n",
    "        #qc.barrier()\n",
    "\n",
    "    # Step 4: Measure the second register\n",
    "    for i in range(n):\n",
    "        qc.measure(qreg[n+i], creg[i])\n",
    "    qc.draw( )\n",
    "    \n",
    "    # Step 5: Find the period using the continued fractions algorithm\n",
    "    backend = Aer.get_backend('qasm_simulator')\n",
    "    shots = 2048\n",
    "    results = execute(qc, backend=backend, shots=shots).result()\n",
    "    counts = results.get_counts()\n",
    "\n",
    "    fractions = []\n",
    "    for outcome in counts:\n",
    "        if outcome[0] == '1':\n",
    "            r = int(outcome[1:], 2)\n",
    "            fraction = gcd(N, 2**n + r)\n",
    "            fractions.append(fraction)\n",
    "\n",
    "    r = 0\n",
    "    while r == 0:\n",
    "        a = randint(2, N)\n",
    "        r = gcd(a, N)\n",
    "        for i in range(len(fractions)):\n",
    "            if r != 1 and r != N and r == fractions[i]:\n",
    "                break\n",
    "            if i == len(fractions)-1:\n",
    "                r = 0\n",
    "\n",
    "    # Step 6: Return the factors\n",
    "    if r == 1 or r == N:\n",
    "        return \"Failed to find factors\"\n",
    "    else:\n",
    "        return r, N // r\n"
   ]
  },
  {
   "cell_type": "code",
   "execution_count": 30,
   "id": "81261b83",
   "metadata": {},
   "outputs": [
    {
     "data": {
      "text/plain": [
       "(3, 5)"
      ]
     },
     "execution_count": 30,
     "metadata": {},
     "output_type": "execute_result"
    }
   ],
   "source": [
    "shors_algorithm(15)\n"
   ]
  },
  {
   "cell_type": "code",
   "execution_count": 31,
   "id": "23169ac5",
   "metadata": {},
   "outputs": [
    {
     "data": {
      "text/html": [
       "<pre style=\"word-wrap: normal;white-space: pre;background: #fff0;line-height: 1.1;font-family: &quot;Courier New&quot;,Courier,monospace\">      ┌───┐                                                                                                                                                                                                                                 \n",
       "q8_0: ┤ H ├─■──────────────────────────■──────────────────────────■──────────────────────────■──────────────────────────■──────────────────────────■──────────────────────────■──────────────────────────■──────────────────────────────────\n",
       "      ├───┤ │                          │                          │                          │                          │                          │                          │                          │                                  \n",
       "q8_1: ┤ H ├─┼────────■─────────────────┼────────■─────────────────┼────────■─────────────────┼────────■─────────────────┼────────■─────────────────┼────────■─────────────────┼────────■─────────────────┼────────■─────────────────────────\n",
       "      ├───┤ │        │                 │        │                 │        │                 │        │                 │        │                 │        │                 │        │                 │        │                         \n",
       "q8_2: ┤ H ├─┼────────┼────────■────────┼────────┼────────■────────┼────────┼────────■────────┼────────┼────────■────────┼────────┼────────■────────┼────────┼────────■────────┼────────┼────────■────────┼────────┼────────■────────────────\n",
       "      ├───┤ │        │        │        │        │        │        │        │        │        │        │        │        │        │        │        │        │        │        │        │        │        │        │        │                \n",
       "q8_3: ┤ H ├─┼────────┼────────┼────────┼────────┼────────┼────────┼────────┼────────┼────────┼────────┼────────┼────────┼────────┼────────┼────────┼────────┼────────┼────────┼────────┼────────┼────────┼────────┼────────┼────────────────\n",
       "      └───┘ │P(π/2)  │        │        │P(π/2)  │        │        │P(π/2)  │        │        │P(π/2)  │        │        │P(π/2)  │        │        │P(π/2)  │        │        │P(π/2)  │        │        │P(π/2)  │        │       ┌─┐      \n",
       "q8_4: ──────■────────┼────────┼────────■────────┼────────┼────────■────────┼────────┼────────■────────┼────────┼────────■────────┼────────┼────────■────────┼────────┼────────■────────┼────────┼────────■────────┼────────┼───────┤M├──────\n",
       "                     │P(π/4)  │                 │P(π/4)  │                 │P(π/4)  │                 │P(π/4)  │                 │P(π/4)  │                 │P(π/4)  │                 │P(π/4)  │                 │P(π/4)  │       └╥┘┌─┐   \n",
       "q8_5: ───────────────■────────┼─────────────────■────────┼─────────────────■────────┼─────────────────■────────┼─────────────────■────────┼─────────────────■────────┼─────────────────■────────┼─────────────────■────────┼────────╫─┤M├───\n",
       "                              │P(π/8)                    │P(π/8)                    │P(π/8)                    │P(π/8)                    │P(π/8)                    │P(π/8)                    │P(π/8)                    │P(π/8)  ║ └╥┘┌─┐\n",
       "q8_6: ────────────────────────■──────────────────────────■──────────────────────────■──────────────────────────■──────────────────────────■──────────────────────────■──────────────────────────■──────────────────────────■────────╫──╫─┤M├\n",
       "       ┌─┐                                                                                                                                                                                                                          ║  ║ └╥┘\n",
       "q8_7: ─┤M├──────────────────────────────────────────────────────────────────────────────────────────────────────────────────────────────────────────────────────────────────────────────────────────────────────────────────────────╫──╫──╫─\n",
       "       └╥┘                                                                                                                                                                                                                          ║  ║  ║ \n",
       "c2: 4/══╩═══════════════════════════════════════════════════════════════════════════════════════════════════════════════════════════════════════════════════════════════════════════════════════════════════════════════════════════╩══╩══╩═\n",
       "        3                                                                                                                                                                                                                           0  1  2 </pre>"
      ],
      "text/plain": [
       "      ┌───┐                                                                                                                                                                                                                                 \n",
       "q8_0: ┤ H ├─■──────────────────────────■──────────────────────────■──────────────────────────■──────────────────────────■──────────────────────────■──────────────────────────■──────────────────────────■──────────────────────────────────\n",
       "      ├───┤ │                          │                          │                          │                          │                          │                          │                          │                                  \n",
       "q8_1: ┤ H ├─┼────────■─────────────────┼────────■─────────────────┼────────■─────────────────┼────────■─────────────────┼────────■─────────────────┼────────■─────────────────┼────────■─────────────────┼────────■─────────────────────────\n",
       "      ├───┤ │        │                 │        │                 │        │                 │        │                 │        │                 │        │                 │        │                 │        │                         \n",
       "q8_2: ┤ H ├─┼────────┼────────■────────┼────────┼────────■────────┼────────┼────────■────────┼────────┼────────■────────┼────────┼────────■────────┼────────┼────────■────────┼────────┼────────■────────┼────────┼────────■────────────────\n",
       "      ├───┤ │        │        │        │        │        │        │        │        │        │        │        │        │        │        │        │        │        │        │        │        │        │        │        │                \n",
       "q8_3: ┤ H ├─┼────────┼────────┼────────┼────────┼────────┼────────┼────────┼────────┼────────┼────────┼────────┼────────┼────────┼────────┼────────┼────────┼────────┼────────┼────────┼────────┼────────┼────────┼────────┼────────────────\n",
       "      └───┘ │P(π/2)  │        │        │P(π/2)  │        │        │P(π/2)  │        │        │P(π/2)  │        │        │P(π/2)  │        │        │P(π/2)  │        │        │P(π/2)  │        │        │P(π/2)  │        │       ┌─┐      \n",
       "q8_4: ──────■────────┼────────┼────────■────────┼────────┼────────■────────┼────────┼────────■────────┼────────┼────────■────────┼────────┼────────■────────┼────────┼────────■────────┼────────┼────────■────────┼────────┼───────┤M├──────\n",
       "                     │P(π/4)  │                 │P(π/4)  │                 │P(π/4)  │                 │P(π/4)  │                 │P(π/4)  │                 │P(π/4)  │                 │P(π/4)  │                 │P(π/4)  │       └╥┘┌─┐   \n",
       "q8_5: ───────────────■────────┼─────────────────■────────┼─────────────────■────────┼─────────────────■────────┼─────────────────■────────┼─────────────────■────────┼─────────────────■────────┼─────────────────■────────┼────────╫─┤M├───\n",
       "                              │P(π/8)                    │P(π/8)                    │P(π/8)                    │P(π/8)                    │P(π/8)                    │P(π/8)                    │P(π/8)                    │P(π/8)  ║ └╥┘┌─┐\n",
       "q8_6: ────────────────────────■──────────────────────────■──────────────────────────■──────────────────────────■──────────────────────────■──────────────────────────■──────────────────────────■──────────────────────────■────────╫──╫─┤M├\n",
       "       ┌─┐                                                                                                                                                                                                                          ║  ║ └╥┘\n",
       "q8_7: ─┤M├──────────────────────────────────────────────────────────────────────────────────────────────────────────────────────────────────────────────────────────────────────────────────────────────────────────────────────────╫──╫──╫─\n",
       "       └╥┘                                                                                                                                                                                                                          ║  ║  ║ \n",
       "c2: 4/══╩═══════════════════════════════════════════════════════════════════════════════════════════════════════════════════════════════════════════════════════════════════════════════════════════════════════════════════════════╩══╩══╩═\n",
       "        3                                                                                                                                                                                                                           0  1  2 "
      ]
     },
     "execution_count": 31,
     "metadata": {},
     "output_type": "execute_result"
    }
   ],
   "source": [
    "    N=15\n",
    "    n = int(np.ceil(np.log2(N)))\n",
    "    qreg = QuantumRegister(2*n)\n",
    "    creg = ClassicalRegister(n)\n",
    "    qc = QuantumCircuit(qreg, creg)\n",
    "\n",
    "    # Step 2: Apply Hadamard gates to the first n qubits\n",
    "    for i in range(n):\n",
    "        qc.h(qreg[i])\n",
    "\n",
    "    # Step 3: Apply controlled unitary gates\n",
    "    for repeat in range(2*n):\n",
    "        for i in range(n-1):\n",
    "            qc.cp(np.pi/float(2**(i+1)), qreg[n+i], qreg[i])\n",
    "\n",
    "    # Step 4: Measure the second register\n",
    "    for i in range(n):\n",
    "        qc.measure(qreg[n+i], creg[i])\n",
    "    qc.draw(fold=-1)"
   ]
  },
  {
   "cell_type": "code",
   "execution_count": 1336,
   "id": "729ffeeb",
   "metadata": {},
   "outputs": [
    {
     "ename": "TypeError",
     "evalue": "label expects a string or None",
     "output_type": "error",
     "traceback": [
      "\u001b[1;31m---------------------------------------------------------------------------\u001b[0m",
      "\u001b[1;31mTypeError\u001b[0m                                 Traceback (most recent call last)",
      "Cell \u001b[1;32mIn [1336], line 57\u001b[0m\n\u001b[0;32m     54\u001b[0m     \u001b[38;5;28;01melse\u001b[39;00m:\n\u001b[0;32m     55\u001b[0m         \u001b[38;5;28;01mreturn\u001b[39;00m a, N \u001b[38;5;241m/\u001b[39m\u001b[38;5;241m/\u001b[39m a\n\u001b[1;32m---> 57\u001b[0m \u001b[38;5;28mprint\u001b[39m(\u001b[43mshors_algorithm\u001b[49m\u001b[43m(\u001b[49m\u001b[38;5;241;43m15\u001b[39;49m\u001b[43m)\u001b[49m)\n",
      "Cell \u001b[1;32mIn [1336], line 19\u001b[0m, in \u001b[0;36mshors_algorithm\u001b[1;34m(N)\u001b[0m\n\u001b[0;32m     17\u001b[0m \u001b[38;5;28;01mfor\u001b[39;00m repeat \u001b[38;5;129;01min\u001b[39;00m \u001b[38;5;28mrange\u001b[39m(\u001b[38;5;241m2\u001b[39m\u001b[38;5;241m*\u001b[39mn):\n\u001b[0;32m     18\u001b[0m     \u001b[38;5;28;01mfor\u001b[39;00m i \u001b[38;5;129;01min\u001b[39;00m \u001b[38;5;28mrange\u001b[39m(n\u001b[38;5;241m-\u001b[39m\u001b[38;5;241m1\u001b[39m):\n\u001b[1;32m---> 19\u001b[0m         \u001b[43mqc\u001b[49m\u001b[38;5;241;43m.\u001b[39;49m\u001b[43mcp\u001b[49m\u001b[43m(\u001b[49m\u001b[38;5;241;43m1\u001b[39;49m\u001b[43m,\u001b[49m\u001b[43m \u001b[49m\u001b[38;5;241;43m2\u001b[39;49m\u001b[38;5;241;43m*\u001b[39;49m\u001b[43mn\u001b[49m\u001b[38;5;241;43m-\u001b[39;49m\u001b[43mi\u001b[49m\u001b[38;5;241;43m-\u001b[39;49m\u001b[38;5;241;43m2\u001b[39;49m\u001b[43m,\u001b[49m\u001b[43m \u001b[49m\u001b[38;5;241;43m2\u001b[39;49m\u001b[38;5;241;43m*\u001b[39;49m\u001b[43mn\u001b[49m\u001b[38;5;241;43m-\u001b[39;49m\u001b[43mi\u001b[49m\u001b[38;5;241;43m-\u001b[39;49m\u001b[38;5;241;43m1\u001b[39;49m\u001b[43m,\u001b[49m\u001b[43m \u001b[49m\u001b[43mqreg\u001b[49m\u001b[43m[\u001b[49m\u001b[43mi\u001b[49m\u001b[43m]\u001b[49m\u001b[43m)\u001b[49m\n\u001b[0;32m     20\u001b[0m     qc\u001b[38;5;241m.\u001b[39mbarrier()\n\u001b[0;32m     22\u001b[0m \u001b[38;5;66;03m# Step 4: Measure the second register\u001b[39;00m\n",
      "File \u001b[1;32m~\\AppData\\Local\\Packages\\PythonSoftwareFoundation.Python.3.10_qbz5n2kfra8p0\\LocalCache\\local-packages\\Python310\\site-packages\\qiskit\\circuit\\quantumcircuit.py:3015\u001b[0m, in \u001b[0;36mQuantumCircuit.cp\u001b[1;34m(self, theta, control_qubit, target_qubit, label, ctrl_state)\u001b[0m\n\u001b[0;32m   2996\u001b[0m \u001b[38;5;124;03m\"\"\"Apply :class:`~qiskit.circuit.library.CPhaseGate`.\u001b[39;00m\n\u001b[0;32m   2997\u001b[0m \n\u001b[0;32m   2998\u001b[0m \u001b[38;5;124;03mFor the full matrix form of this gate, see the underlying gate documentation.\u001b[39;00m\n\u001b[1;32m   (...)\u001b[0m\n\u001b[0;32m   3010\u001b[0m \u001b[38;5;124;03m    A handle to the instructions created.\u001b[39;00m\n\u001b[0;32m   3011\u001b[0m \u001b[38;5;124;03m\"\"\"\u001b[39;00m\n\u001b[0;32m   3012\u001b[0m \u001b[38;5;28;01mfrom\u001b[39;00m \u001b[38;5;21;01m.\u001b[39;00m\u001b[38;5;21;01mlibrary\u001b[39;00m\u001b[38;5;21;01m.\u001b[39;00m\u001b[38;5;21;01mstandard_gates\u001b[39;00m\u001b[38;5;21;01m.\u001b[39;00m\u001b[38;5;21;01mp\u001b[39;00m \u001b[38;5;28;01mimport\u001b[39;00m CPhaseGate\n\u001b[0;32m   3014\u001b[0m \u001b[38;5;28;01mreturn\u001b[39;00m \u001b[38;5;28mself\u001b[39m\u001b[38;5;241m.\u001b[39mappend(\n\u001b[1;32m-> 3015\u001b[0m     \u001b[43mCPhaseGate\u001b[49m\u001b[43m(\u001b[49m\u001b[43mtheta\u001b[49m\u001b[43m,\u001b[49m\u001b[43m \u001b[49m\u001b[43mlabel\u001b[49m\u001b[38;5;241;43m=\u001b[39;49m\u001b[43mlabel\u001b[49m\u001b[43m,\u001b[49m\u001b[43m \u001b[49m\u001b[43mctrl_state\u001b[49m\u001b[38;5;241;43m=\u001b[39;49m\u001b[43mctrl_state\u001b[49m\u001b[43m)\u001b[49m, [control_qubit, target_qubit], []\n\u001b[0;32m   3016\u001b[0m )\n",
      "File \u001b[1;32m~\\AppData\\Local\\Packages\\PythonSoftwareFoundation.Python.3.10_qbz5n2kfra8p0\\LocalCache\\local-packages\\Python310\\site-packages\\qiskit\\circuit\\library\\standard_gates\\p.py:181\u001b[0m, in \u001b[0;36mCPhaseGate.__init__\u001b[1;34m(self, theta, label, ctrl_state)\u001b[0m\n\u001b[0;32m    174\u001b[0m \u001b[38;5;28;01mdef\u001b[39;00m \u001b[38;5;21m__init__\u001b[39m(\n\u001b[0;32m    175\u001b[0m     \u001b[38;5;28mself\u001b[39m,\n\u001b[0;32m    176\u001b[0m     theta: ParameterValueType,\n\u001b[0;32m    177\u001b[0m     label: Optional[\u001b[38;5;28mstr\u001b[39m] \u001b[38;5;241m=\u001b[39m \u001b[38;5;28;01mNone\u001b[39;00m,\n\u001b[0;32m    178\u001b[0m     ctrl_state: Optional[Union[\u001b[38;5;28mstr\u001b[39m, \u001b[38;5;28mint\u001b[39m]] \u001b[38;5;241m=\u001b[39m \u001b[38;5;28;01mNone\u001b[39;00m,\n\u001b[0;32m    179\u001b[0m ):\n\u001b[0;32m    180\u001b[0m     \u001b[38;5;124;03m\"\"\"Create new CPhase gate.\"\"\"\u001b[39;00m\n\u001b[1;32m--> 181\u001b[0m     \u001b[38;5;28;43msuper\u001b[39;49m\u001b[43m(\u001b[49m\u001b[43m)\u001b[49m\u001b[38;5;241;43m.\u001b[39;49m\u001b[38;5;21;43m__init__\u001b[39;49m\u001b[43m(\u001b[49m\n\u001b[0;32m    182\u001b[0m \u001b[43m        \u001b[49m\u001b[38;5;124;43m\"\u001b[39;49m\u001b[38;5;124;43mcp\u001b[39;49m\u001b[38;5;124;43m\"\u001b[39;49m\u001b[43m,\u001b[49m\n\u001b[0;32m    183\u001b[0m \u001b[43m        \u001b[49m\u001b[38;5;241;43m2\u001b[39;49m\u001b[43m,\u001b[49m\n\u001b[0;32m    184\u001b[0m \u001b[43m        \u001b[49m\u001b[43m[\u001b[49m\u001b[43mtheta\u001b[49m\u001b[43m]\u001b[49m\u001b[43m,\u001b[49m\n\u001b[0;32m    185\u001b[0m \u001b[43m        \u001b[49m\u001b[43mnum_ctrl_qubits\u001b[49m\u001b[38;5;241;43m=\u001b[39;49m\u001b[38;5;241;43m1\u001b[39;49m\u001b[43m,\u001b[49m\n\u001b[0;32m    186\u001b[0m \u001b[43m        \u001b[49m\u001b[43mlabel\u001b[49m\u001b[38;5;241;43m=\u001b[39;49m\u001b[43mlabel\u001b[49m\u001b[43m,\u001b[49m\n\u001b[0;32m    187\u001b[0m \u001b[43m        \u001b[49m\u001b[43mctrl_state\u001b[49m\u001b[38;5;241;43m=\u001b[39;49m\u001b[43mctrl_state\u001b[49m\u001b[43m,\u001b[49m\n\u001b[0;32m    188\u001b[0m \u001b[43m        \u001b[49m\u001b[43mbase_gate\u001b[49m\u001b[38;5;241;43m=\u001b[39;49m\u001b[43mPhaseGate\u001b[49m\u001b[43m(\u001b[49m\u001b[43mtheta\u001b[49m\u001b[43m)\u001b[49m\u001b[43m,\u001b[49m\n\u001b[0;32m    189\u001b[0m \u001b[43m    \u001b[49m\u001b[43m)\u001b[49m\n",
      "File \u001b[1;32m~\\AppData\\Local\\Packages\\PythonSoftwareFoundation.Python.3.10_qbz5n2kfra8p0\\LocalCache\\local-packages\\Python310\\site-packages\\qiskit\\circuit\\controlledgate.py:97\u001b[0m, in \u001b[0;36mControlledGate.__init__\u001b[1;34m(self, name, num_qubits, params, label, num_ctrl_qubits, definition, ctrl_state, base_gate)\u001b[0m\n\u001b[0;32m     41\u001b[0m \u001b[38;5;124;03m\"\"\"Create a new ControlledGate. In the new gate the first ``num_ctrl_qubits``\u001b[39;00m\n\u001b[0;32m     42\u001b[0m \u001b[38;5;124;03mof the gate are the controls.\u001b[39;00m\n\u001b[0;32m     43\u001b[0m \n\u001b[1;32m   (...)\u001b[0m\n\u001b[0;32m     94\u001b[0m \u001b[38;5;124;03m   qc2.draw('mpl')\u001b[39;00m\n\u001b[0;32m     95\u001b[0m \u001b[38;5;124;03m\"\"\"\u001b[39;00m\n\u001b[0;32m     96\u001b[0m \u001b[38;5;28mself\u001b[39m\u001b[38;5;241m.\u001b[39mbase_gate \u001b[38;5;241m=\u001b[39m \u001b[38;5;28;01mNone\u001b[39;00m \u001b[38;5;28;01mif\u001b[39;00m base_gate \u001b[38;5;129;01mis\u001b[39;00m \u001b[38;5;28;01mNone\u001b[39;00m \u001b[38;5;28;01melse\u001b[39;00m base_gate\u001b[38;5;241m.\u001b[39mcopy()\n\u001b[1;32m---> 97\u001b[0m \u001b[38;5;28;43msuper\u001b[39;49m\u001b[43m(\u001b[49m\u001b[43m)\u001b[49m\u001b[38;5;241;43m.\u001b[39;49m\u001b[38;5;21;43m__init__\u001b[39;49m\u001b[43m(\u001b[49m\u001b[43mname\u001b[49m\u001b[43m,\u001b[49m\u001b[43m \u001b[49m\u001b[43mnum_qubits\u001b[49m\u001b[43m,\u001b[49m\u001b[43m \u001b[49m\u001b[43mparams\u001b[49m\u001b[43m,\u001b[49m\u001b[43m \u001b[49m\u001b[43mlabel\u001b[49m\u001b[38;5;241;43m=\u001b[39;49m\u001b[43mlabel\u001b[49m\u001b[43m)\u001b[49m\n\u001b[0;32m     98\u001b[0m \u001b[38;5;28mself\u001b[39m\u001b[38;5;241m.\u001b[39m_num_ctrl_qubits \u001b[38;5;241m=\u001b[39m \u001b[38;5;241m1\u001b[39m\n\u001b[0;32m     99\u001b[0m \u001b[38;5;28mself\u001b[39m\u001b[38;5;241m.\u001b[39mnum_ctrl_qubits \u001b[38;5;241m=\u001b[39m num_ctrl_qubits\n",
      "File \u001b[1;32m~\\AppData\\Local\\Packages\\PythonSoftwareFoundation.Python.3.10_qbz5n2kfra8p0\\LocalCache\\local-packages\\Python310\\site-packages\\qiskit\\circuit\\gate.py:38\u001b[0m, in \u001b[0;36mGate.__init__\u001b[1;34m(self, name, num_qubits, params, label)\u001b[0m\n\u001b[0;32m     29\u001b[0m \u001b[38;5;124;03m\"\"\"Create a new gate.\u001b[39;00m\n\u001b[0;32m     30\u001b[0m \n\u001b[0;32m     31\u001b[0m \u001b[38;5;124;03mArgs:\u001b[39;00m\n\u001b[1;32m   (...)\u001b[0m\n\u001b[0;32m     35\u001b[0m \u001b[38;5;124;03m    label: An optional label for the gate.\u001b[39;00m\n\u001b[0;32m     36\u001b[0m \u001b[38;5;124;03m\"\"\"\u001b[39;00m\n\u001b[0;32m     37\u001b[0m \u001b[38;5;28mself\u001b[39m\u001b[38;5;241m.\u001b[39mdefinition \u001b[38;5;241m=\u001b[39m \u001b[38;5;28;01mNone\u001b[39;00m\n\u001b[1;32m---> 38\u001b[0m \u001b[38;5;28;43msuper\u001b[39;49m\u001b[43m(\u001b[49m\u001b[43m)\u001b[49m\u001b[38;5;241;43m.\u001b[39;49m\u001b[38;5;21;43m__init__\u001b[39;49m\u001b[43m(\u001b[49m\u001b[43mname\u001b[49m\u001b[43m,\u001b[49m\u001b[43m \u001b[49m\u001b[43mnum_qubits\u001b[49m\u001b[43m,\u001b[49m\u001b[43m \u001b[49m\u001b[38;5;241;43m0\u001b[39;49m\u001b[43m,\u001b[49m\u001b[43m \u001b[49m\u001b[43mparams\u001b[49m\u001b[43m,\u001b[49m\u001b[43m \u001b[49m\u001b[43mlabel\u001b[49m\u001b[38;5;241;43m=\u001b[39;49m\u001b[43mlabel\u001b[49m\u001b[43m)\u001b[49m\n",
      "File \u001b[1;32m~\\AppData\\Local\\Packages\\PythonSoftwareFoundation.Python.3.10_qbz5n2kfra8p0\\LocalCache\\local-packages\\Python310\\site-packages\\qiskit\\circuit\\instruction.py:93\u001b[0m, in \u001b[0;36mInstruction.__init__\u001b[1;34m(self, name, num_qubits, num_clbits, params, duration, unit, label)\u001b[0m\n\u001b[0;32m     91\u001b[0m \u001b[38;5;28;01mif\u001b[39;00m \u001b[38;5;129;01mnot\u001b[39;00m \u001b[38;5;28mhasattr\u001b[39m(\u001b[38;5;28mself\u001b[39m, \u001b[38;5;124m\"\u001b[39m\u001b[38;5;124m_label\u001b[39m\u001b[38;5;124m\"\u001b[39m):\n\u001b[0;32m     92\u001b[0m     \u001b[38;5;28;01mif\u001b[39;00m label \u001b[38;5;129;01mis\u001b[39;00m \u001b[38;5;129;01mnot\u001b[39;00m \u001b[38;5;28;01mNone\u001b[39;00m \u001b[38;5;129;01mand\u001b[39;00m \u001b[38;5;129;01mnot\u001b[39;00m \u001b[38;5;28misinstance\u001b[39m(label, \u001b[38;5;28mstr\u001b[39m):\n\u001b[1;32m---> 93\u001b[0m         \u001b[38;5;28;01mraise\u001b[39;00m \u001b[38;5;167;01mTypeError\u001b[39;00m(\u001b[38;5;124m\"\u001b[39m\u001b[38;5;124mlabel expects a string or None\u001b[39m\u001b[38;5;124m\"\u001b[39m)\n\u001b[0;32m     94\u001b[0m     \u001b[38;5;28mself\u001b[39m\u001b[38;5;241m.\u001b[39m_label \u001b[38;5;241m=\u001b[39m label\n\u001b[0;32m     95\u001b[0m \u001b[38;5;66;03m# tuple (ClassicalRegister, int), tuple (Clbit, bool) or tuple (Clbit, int)\u001b[39;00m\n\u001b[0;32m     96\u001b[0m \u001b[38;5;66;03m# when the instruction has a conditional (\"if\")\u001b[39;00m\n",
      "\u001b[1;31mTypeError\u001b[0m: label expects a string or None"
     ]
    }
   ],
   "source": [
    "import numpy as np\n",
    "from qiskit import QuantumRegister, ClassicalRegister, QuantumCircuit, Aer, execute\n",
    "from qiskit.quantum_info import Statevector\n",
    "\n",
    "def shors_algorithm(N):\n",
    "    # Step 1: Initialize the registers\n",
    "    n = N.bit_length()\n",
    "    qreg = QuantumRegister(2*n, 'q')\n",
    "    creg = ClassicalRegister(n-1, 'c')\n",
    "    qc = QuantumCircuit(qreg, creg)\n",
    "\n",
    "    # Step 2: Apply the Hadamard gates\n",
    "    for i in range(n):\n",
    "        qc.h(qreg[i])\n",
    "\n",
    "    # Step 3: Repeat the controlled-U operations\n",
    "    for repeat in range(2*n):\n",
    "        for i in range(n-1):\n",
    "            qc.cp(1, 2*n-i-2, 2*n-i-1, qreg[i])\n",
    "        qc.barrier()\n",
    "\n",
    "    # Step 4: Measure the second register\n",
    "    for i in range(n):\n",
    "        qc.measure(qreg[n+i], creg[i])\n",
    "\n",
    "    # Step 5: Apply the inverse Fourier transform\n",
    "    for i in range(n):\n",
    "        qc.h(qreg[i])\n",
    "        for j in range(i):\n",
    "            theta = -np.pi/float(2**(i-j))\n",
    "            qc.cp(np.cos(theta), np.sin(theta), qreg[j], qreg[i])\n",
    "        qc.barrier()\n",
    "\n",
    "    # Step 6: Measure the first register\n",
    "    creg2 = ClassicalRegister(n, 'c2')\n",
    "    qc.add_register(creg2)\n",
    "    qc.measure(qreg[:n], creg2)\n",
    "\n",
    "    # Step 7: Run the circuit and get the result\n",
    "    backend = Aer.get_backend('qasm_simulator')\n",
    "    result = execute(qc, backend, shots=1024).result()\n",
    "    counts = result.get_counts()\n",
    "    measured = max(counts, key=counts.get)\n",
    "\n",
    "    # Step 8: Check if the measurement is valid\n",
    "    x = int(measured, 2)\n",
    "    if x % 2 != 0:\n",
    "        x = x + (2 ** (n-1))\n",
    "    if x % 2 != 0:\n",
    "        return None\n",
    "    a = np.gcd(int(N**(1/2)), x // 2)\n",
    "    if a == 1 or a == N:\n",
    "        return None\n",
    "    else:\n",
    "        return a, N // a\n",
    "\n",
    "print(shors_algorithm(15))"
   ]
  },
  {
   "cell_type": "code",
   "execution_count": 1367,
   "id": "7b4036f1",
   "metadata": {},
   "outputs": [],
   "source": [
    "import numpy as np\n",
    "from math import gcd\n",
    "from qiskit import QuantumRegister, ClassicalRegister, QuantumCircuit, execute, BasicAer\n",
    "\n",
    "def shors_algorithm(N):\n",
    "    \"\"\"Returns the period of N using Shor's algorithm\"\"\"\n",
    "    \n",
    "    # Step 1: Choose a random integer 'a' less than N\n",
    "    a = np.random.randint(2, N-1)\n",
    "    \n",
    "    # Step 2: Construct a quantum circuit with 2 registers\n",
    "    # First register has n qubits for the input and the second register has m qubits for the output\n",
    "    n = int(np.ceil(np.log2(N)))\n",
    "    m = 2*n\n",
    "    \n",
    "    # Initialize the quantum registers\n",
    "    qreg = QuantumRegister(n+m)\n",
    "    qc = QuantumCircuit(qreg)\n",
    "    \n",
    "    # Step 3: Apply Hadamard gates to the first register\n",
    "    for i in range(n):\n",
    "        qc.h(qreg[i])\n",
    "    \n",
    "    # Step 4: Apply the quantum function f(x) = a^x mod N to the first register\n",
    "    print(np.size(qreg[:]),n,(2**3)-1,n+m)\n",
    "    for i in range(n):\n",
    "        for j in range(2**i):\n",
    "            qc.cx(qreg[i], qreg[n+j])\n",
    "        qc.barrier()\n",
    "        qc.swap(qreg[i], qreg[n+i])\n",
    "        qc.barrier()\n",
    "        qc.x(qreg[i])\n",
    "        qc.cx(qreg[i], qreg[n+i])\n",
    "        qc.x(qreg[i])\n",
    "        qc.barrier()\n",
    "    \n",
    "    # Step 5: Apply inverse quantum Fourier transform to the first register\n",
    "    for i in range(n):\n",
    "        qc.h(qreg[i])\n",
    "        for j in range(i):\n",
    "            qc.cp(np.pi/float(2**(i-j)), qreg[j], qreg[i])\n",
    "    \n",
    "    # Step 6: Measure the first register\n",
    "    creg = ClassicalRegister(n)\n",
    "    qc.add_register(creg)\n",
    "    qc.measure(qreg[:n], creg)\n",
    "    \n",
    "    \n",
    "    # Step 7: Execute the quantum circuit and obtain the measurement results\n",
    "    backend = BasicAer.get_backend('qasm_simulator')\n",
    "    result = execute(qc, backend=backend, shots=1).result()\n",
    "    measured = int(list(result.get_counts())[0], 2)\n",
    "    \n",
    "    # Step 8: Use continued fractions to obtain the period of N\n",
    "    r = gcd(measured, 2**n)\n",
    "    \n",
    "    for i in range(1, n):\n",
    "        x = (a**r)**(2**(n-i)) % N\n",
    "        if x == 1:\n",
    "            return r\n",
    "        r *= 2\n",
    "        \n",
    "    return r"
   ]
  },
  {
   "cell_type": "code",
   "execution_count": 14,
   "id": "da9dc4c0",
   "metadata": {},
   "outputs": [],
   "source": [
    "def U(a:int,N:int,reg:quantum_reg,counting_qb:int):\n",
    "    repetitions=1;\n",
    "    matrix=np.diag(np.ones(2**reg.length))\n",
    "    for i in range(counting_qb):\n",
    "        for j in range(repetitions):\n",
    "            matrix=matrix.dot(reg.cp(counting_qb,i,2*np.pi*a/((2**j)*N)));\n",
    "        repetitions*=2  \n",
    "    return matrix"
   ]
  },
  {
   "cell_type": "code",
   "execution_count": 22,
   "id": "ca7db2f1",
   "metadata": {},
   "outputs": [],
   "source": [
    "import pandas as pd\n",
    "from numpy.random import randint\n",
    "def Shors(N):\n",
    "    a=np.random.randint(2, N-1)\n",
    "    while gcd(a,N)!=1:\n",
    "        a=np.random.randint(2, N-1)\n",
    "    \n",
    "    print(a,N)\n",
    "    \n",
    "    n = int(np.ceil(np.log2(N)))\n",
    "    m = 1\n",
    "    \n",
    "    measures=[]\n",
    "    tot_measures=50\n",
    "    for k in range(tot_measures):   \n",
    "        reg=quantum_reg(n+m);\n",
    "        for i in range(n):\n",
    "            reg.h(i);\n",
    "    \n",
    "        reg.x(n)\n",
    "    \n",
    "        U(a,N,reg,n);\n",
    "    \n",
    "        reg.icft(n);\n",
    "    \n",
    "        value=[]\n",
    "        for i in range(n):\n",
    "            value.append(reg.measure(i));\n",
    "        \n",
    "        measures.append(int(''.join(np.flip(np.array(value,dtype=str).tolist())), 2))\n",
    "    \n",
    "    labels, counts = np.unique(measures, return_counts=True)\n",
    "    plt.bar(labels, counts, align='center')\n",
    "    #plt.gca().set_xticks(labels)\n",
    "    #plt.xticks(np.arange(0,2**(n)));\n",
    "    plt.ylabel('Counts')\n",
    "    plt.xlabel('State')\n",
    "    \n",
    "    \n",
    "    print(labels)        \n",
    "    \n",
    "    rows = []\n",
    "    for i in range(len(labels)):\n",
    "        if counts[i]> tot_measures*0.1:\n",
    "            phase=labels[i]\n",
    "            print(phase)\n",
    "            frac = Fraction(phase/2**n).limit_denominator(N)\n",
    "            rows.append([phase/2**n, f\"{frac.numerator}/{frac.denominator}\", frac.denominator])\n",
    "    # Print as a table\n",
    "    headers=[\"Phase\", \"Fraction\", \"Guess for r\"]\n",
    "    df = pd.DataFrame(rows, columns=headers)\n",
    "    print(df)\n",
    "        \n",
    "    \n",
    "    fractions = []\n",
    "    for i in range(len(labels)):\n",
    "        if counts[i]> tot_measures*0.1:\n",
    "            f = Fraction(labels[i]/2**n).limit_denominator(N)\n",
    "            r= f.denominator\n",
    "            fraction = gcd(N, 2**(n-1) + r)\n",
    "            print(fraction)\n",
    "            fractions.append(fraction)\n",
    "\n",
    "    r = 0\n",
    "    evaluations=0\n",
    "    while r == 0 and evaluations<N:\n",
    "        a = randint(2, N)\n",
    "        r = gcd(a, N)\n",
    "        for i in range(len(fractions)):\n",
    "            evaluations+=1\n",
    "            if r != 1 and r != N and r == fractions[i]:\n",
    "                break\n",
    "            if i == len(fractions)-1:\n",
    "                r = 0\n",
    "\n",
    "    # Step 6: Return the factors\n",
    "    if r == 1 or r == N or r==0:\n",
    "        return \"Failed to find factors\"\n",
    "    else:\n",
    "        return r, N // r"
   ]
  },
  {
   "cell_type": "code",
   "execution_count": 1586,
   "id": "0d23eac2",
   "metadata": {},
   "outputs": [
    {
     "ename": "TypeError",
     "evalue": "shors_algorithm() missing 1 required positional argument: 'a'",
     "output_type": "error",
     "traceback": [
      "\u001b[1;31m---------------------------------------------------------------------------\u001b[0m",
      "\u001b[1;31mTypeError\u001b[0m                                 Traceback (most recent call last)",
      "Cell \u001b[1;32mIn [1586], line 1\u001b[0m\n\u001b[1;32m----> 1\u001b[0m \u001b[38;5;28mprint\u001b[39m(\u001b[43mshors_algorithm\u001b[49m\u001b[43m(\u001b[49m\u001b[38;5;241;43m15\u001b[39;49m\u001b[43m)\u001b[49m)\n",
      "\u001b[1;31mTypeError\u001b[0m: shors_algorithm() missing 1 required positional argument: 'a'"
     ]
    }
   ],
   "source": [
    "print(shors_algorithm(15))"
   ]
  },
  {
   "cell_type": "code",
   "execution_count": 27,
   "id": "1e9a9d38",
   "metadata": {
    "scrolled": true
   },
   "outputs": [
    {
     "name": "stdout",
     "output_type": "stream",
     "text": [
      "16 21\n",
      "[ 1  3  5  7  9 11 13 15 27 29 31]\n",
      "11\n",
      "13\n",
      "31\n",
      "     Phase Fraction  Guess for r\n",
      "0  0.34375     7/20           20\n",
      "1  0.40625     7/17           17\n",
      "2  0.96875    20/21           21\n",
      "3\n",
      "3\n",
      "1\n"
     ]
    },
    {
     "data": {
      "text/plain": [
       "(3, 7)"
      ]
     },
     "execution_count": 27,
     "metadata": {},
     "output_type": "execute_result"
    },
    {
     "data": {
      "image/png": "[encoded data removed]",
      "text/plain": [
       "<Figure size 640x480 with 1 Axes>"
      ]
     },
     "metadata": {},
     "output_type": "display_data"
    }
   ],
   "source": [
    "Shors(21)\n"
   ]
  },
  {
   "cell_type": "code",
   "execution_count": 1713,
   "id": "1dd26390",
   "metadata": {},
   "outputs": [
    {
     "data": {
      "text/plain": [
       "11"
      ]
     },
     "execution_count": 1713,
     "metadata": {},
     "output_type": "execute_result"
    }
   ],
   "source": [
    "3+7+1"
   ]
  },
  {
   "cell_type": "code",
   "execution_count": 1360,
   "id": "b9646aba",
   "metadata": {},
   "outputs": [
    {
     "data": {
      "text/plain": [
       "15"
      ]
     },
     "execution_count": 1360,
     "metadata": {},
     "output_type": "execute_result"
    }
   ],
   "source": [
    "4+7+3+1"
   ]
  },
  {
   "cell_type": "code",
   "execution_count": 1690,
   "id": "5784afbf",
   "metadata": {},
   "outputs": [
    {
     "data": {
      "text/plain": [
       "<qiskit.circuit.instructionset.InstructionSet at 0x2bf0e9f0070>"
      ]
     },
     "execution_count": 1690,
     "metadata": {},
     "output_type": "execute_result"
    }
   ],
   "source": [
    "    # Step 1: Choose a random integer 'a' less than N\n",
    "    a = np.random.randint(2, N-1)\n",
    "    \n",
    "    # Step 2: Construct a quantum circuit with 2 registers\n",
    "    # First register has n qubits for the input and the second register has m qubits for the output\n",
    "    n = int(np.ceil(np.log2(N)))-1\n",
    "    m = 2*n\n",
    "    \n",
    "    # Initialize the quantum registers\n",
    "    qreg = QuantumRegister(n+m)\n",
    "    qc = QuantumCircuit(qreg)\n",
    "    \n",
    "    # Step 3: Apply Hadamard gates to the first register\n",
    "    for i in range(n):\n",
    "        qc.h(qreg[i])\n",
    "    \n",
    "    # Step 4: Apply the quantum function f(x) = a^x mod N to the first register\n",
    "    for i in range(n):\n",
    "        for j in range(2**i):\n",
    "            qc.cx(qreg[i], qreg[n+j])\n",
    "        qc.barrier()\n",
    "        qc.swap(qreg[i], qreg[n+i])\n",
    "        qc.barrier()\n",
    "        qc.x(qreg[i])\n",
    "        qc.cx(qreg[i], qreg[n+i])\n",
    "        qc.x(qreg[i])\n",
    "        qc.barrier()\n",
    "    \n",
    "    # Step 5: Apply inverse quantum Fourier transform to the first register\n",
    "    for i in range(n):\n",
    "        qc.h(qreg[i])\n",
    "        for j in range(i):\n",
    "            qc.cp(np.pi/float(2**(i-j)), qreg[j], qreg[i])\n",
    "    \n",
    "    # Step 6: Measure the first register\n",
    "    creg = ClassicalRegister(n)\n",
    "    qc.add_register(creg)\n",
    "    qc.measure(qreg[:n], creg)"
   ]
  },
  {
   "cell_type": "code",
   "execution_count": 1400,
   "id": "191cdca8",
   "metadata": {},
   "outputs": [
    {
     "ename": "ImportError",
     "evalue": "cannot import name 'UnitaryGate' from 'qiskit.circuit.library' (C:\\Users\\rozog\\AppData\\Local\\Packages\\PythonSoftwareFoundation.Python.3.10_qbz5n2kfra8p0\\LocalCache\\local-packages\\Python310\\site-packages\\qiskit\\circuit\\library\\__init__.py)",
     "output_type": "error",
     "traceback": [
      "\u001b[1;31m---------------------------------------------------------------------------\u001b[0m",
      "\u001b[1;31mImportError\u001b[0m                               Traceback (most recent call last)",
      "Cell \u001b[1;32mIn [1400], line 5\u001b[0m\n\u001b[0;32m      3\u001b[0m \u001b[38;5;28;01mfrom\u001b[39;00m \u001b[38;5;21;01mqiskit\u001b[39;00m \u001b[38;5;28;01mimport\u001b[39;00m QuantumCircuit, Aer, execute\n\u001b[0;32m      4\u001b[0m \u001b[38;5;28;01mfrom\u001b[39;00m \u001b[38;5;21;01mqiskit\u001b[39;00m\u001b[38;5;21;01m.\u001b[39;00m\u001b[38;5;21;01mquantum_info\u001b[39;00m \u001b[38;5;28;01mimport\u001b[39;00m Statevector\n\u001b[1;32m----> 5\u001b[0m \u001b[38;5;28;01mfrom\u001b[39;00m \u001b[38;5;21;01mqiskit\u001b[39;00m\u001b[38;5;21;01m.\u001b[39;00m\u001b[38;5;21;01mcircuit\u001b[39;00m\u001b[38;5;21;01m.\u001b[39;00m\u001b[38;5;21;01mlibrary\u001b[39;00m \u001b[38;5;28;01mimport\u001b[39;00m UnitaryGate\n\u001b[0;32m      7\u001b[0m \u001b[38;5;28;01mdef\u001b[39;00m \u001b[38;5;21mshors_algorithm\u001b[39m(N, a):\n\u001b[0;32m      8\u001b[0m     \u001b[38;5;66;03m# Step 1: Initialization\u001b[39;00m\n\u001b[0;32m      9\u001b[0m     n \u001b[38;5;241m=\u001b[39m \u001b[38;5;28mint\u001b[39m(np\u001b[38;5;241m.\u001b[39mceil(np\u001b[38;5;241m.\u001b[39mlog2(N)))\n",
      "\u001b[1;31mImportError\u001b[0m: cannot import name 'UnitaryGate' from 'qiskit.circuit.library' (C:\\Users\\rozog\\AppData\\Local\\Packages\\PythonSoftwareFoundation.Python.3.10_qbz5n2kfra8p0\\LocalCache\\local-packages\\Python310\\site-packages\\qiskit\\circuit\\library\\__init__.py)"
     ]
    }
   ],
   "source": [
    "from math import gcd\n",
    "import numpy as np\n",
    "from qiskit import QuantumCircuit, Aer, execute\n",
    "from qiskit.quantum_info import Statevector\n",
    "from qiskit.circuit.library import UnitaryGate\n",
    "\n",
    "def shors_algorithm(N, a):\n",
    "    # Step 1: Initialization\n",
    "    n = int(np.ceil(np.log2(N)))\n",
    "    m = 2*n\n",
    "    qreg = QuantumRegister(m, 'q')\n",
    "    qc = QuantumCircuit(qreg)\n",
    "    for i in range(n):\n",
    "        qc.h(qreg[i])\n",
    "    qc.x(qreg[m-1])\n",
    "    qc.h(qreg[m-1])\n",
    "    qc.barrier()\n",
    "\n",
    "    # Step 2: Apply the quantum function f(x) = a^x mod N to the first register\n",
    "    # Construct U_gate\n",
    "    U_gate = QuantumCircuit(n, name='U_gate')\n",
    "    for i in range(n):\n",
    "        U_matrix = np.array([[1, 0], [0, pow(a, 2**i, N) % N]], dtype=complex)\n",
    "        U_gate.append(UnitaryGate(U_matrix), [i])\n",
    "\n",
    "    # Apply U_gate to the circuit\n",
    "    qc.append(U_gate, qargs=list(qreg[:n]))\n",
    "    qc.barrier()\n",
    "\n",
    "    # Step 3: Apply the inverse Quantum Fourier Transform to the second register\n",
    "    for i in range(n):\n",
    "        qc.h(qreg[n+i])\n",
    "        for j in range(i):\n",
    "            qc.cu1(-2*np.pi/float(2**(i-j)), qreg[n+j], qreg[n+i])\n",
    "        qc.barrier()\n",
    "\n",
    "    # Step 4: Measure the second register\n",
    "    creg = ClassicalRegister(n, 'c')\n",
    "    qc.add_register(creg)\n",
    "    qc.measure(qreg[n:n+n], creg)\n",
    "\n",
    "    # Step 5: Classical post-processing\n",
    "    backend = Aer.get_backend('statevector_simulator')\n",
    "    results = execute(qc, backend).result()\n",
    "    counts = results.get_counts()\n",
    "    phi_estimate = 0\n",
    "    for binary in counts:\n",
    "        k = int(binary, 2)\n",
    "        phi = (2*k + 1)/float(2**n)\n",
    "        frac = gcd(N, int(a**(phi) - 1))\n",
    "        if frac != 1 and frac != N:\n",
    "            phi_estimate = phi\n",
    "            break\n",
    "\n",
    "    # Return the factors of N\n",
    "    factor_1 = gcd(int(a**(phi_estimate/2) + 1), N)\n",
    "    factor_2 = gcd(int(a**(phi_estimate/2) - 1), N)\n",
    "    return factor_1, factor_2"
   ]
  },
  {
   "cell_type": "code",
   "execution_count": 1399,
   "id": "e2eeb9d0",
   "metadata": {},
   "outputs": [
    {
     "ename": "NameError",
     "evalue": "name 'UnitaryGate' is not defined",
     "output_type": "error",
     "traceback": [
      "\u001b[1;31m---------------------------------------------------------------------------\u001b[0m",
      "\u001b[1;31mNameError\u001b[0m                                 Traceback (most recent call last)",
      "Cell \u001b[1;32mIn [1399], line 1\u001b[0m\n\u001b[1;32m----> 1\u001b[0m \u001b[43mshors_algorithm\u001b[49m\u001b[43m(\u001b[49m\u001b[38;5;241;43m15\u001b[39;49m\u001b[43m,\u001b[49m\u001b[43m \u001b[49m\u001b[38;5;241;43m7\u001b[39;49m\u001b[43m)\u001b[49m\n",
      "Cell \u001b[1;32mIn [1398], line 23\u001b[0m, in \u001b[0;36mshors_algorithm\u001b[1;34m(N, a)\u001b[0m\n\u001b[0;32m     21\u001b[0m \u001b[38;5;28;01mfor\u001b[39;00m i \u001b[38;5;129;01min\u001b[39;00m \u001b[38;5;28mrange\u001b[39m(n):\n\u001b[0;32m     22\u001b[0m     U_matrix \u001b[38;5;241m=\u001b[39m np\u001b[38;5;241m.\u001b[39marray([[\u001b[38;5;241m1\u001b[39m, \u001b[38;5;241m0\u001b[39m], [\u001b[38;5;241m0\u001b[39m, \u001b[38;5;28mpow\u001b[39m(a, \u001b[38;5;241m2\u001b[39m\u001b[38;5;241m*\u001b[39m\u001b[38;5;241m*\u001b[39mi, N) \u001b[38;5;241m%\u001b[39m N]], dtype\u001b[38;5;241m=\u001b[39m\u001b[38;5;28mcomplex\u001b[39m)\n\u001b[1;32m---> 23\u001b[0m     U_gate\u001b[38;5;241m.\u001b[39mappend(\u001b[43mUnitaryGate\u001b[49m(U_matrix), [i])\n\u001b[0;32m     25\u001b[0m \u001b[38;5;66;03m# Apply U_gate to the circuit\u001b[39;00m\n\u001b[0;32m     26\u001b[0m qc\u001b[38;5;241m.\u001b[39mappend(U_gate, qargs\u001b[38;5;241m=\u001b[39m\u001b[38;5;28mlist\u001b[39m(qreg[:n]))\n",
      "\u001b[1;31mNameError\u001b[0m: name 'UnitaryGate' is not defined"
     ]
    }
   ],
   "source": [
    "shors_algorithm(15, 7)"
   ]
  },
  {
   "cell_type": "code",
   "execution_count": 1689,
   "id": "f8bd7b26",
   "metadata": {},
   "outputs": [
    {
     "data": {
      "text/plain": [
       "4"
      ]
     },
     "execution_count": 1689,
     "metadata": {},
     "output_type": "execute_result"
    }
   ],
   "source": [
    "int(np.ceil(np.log2(15)))"
   ]
  },
  {
   "cell_type": "code",
   "execution_count": 1682,
   "id": "819a147c",
   "metadata": {},
   "outputs": [
    {
     "data": {
      "text/plain": [
       "16"
      ]
     },
     "execution_count": 1682,
     "metadata": {},
     "output_type": "execute_result"
    }
   ],
   "source": [
    "2**4"
   ]
  },
  {
   "cell_type": "code",
   "execution_count": 1536,
   "id": "e4a5b39b",
   "metadata": {},
   "outputs": [
    {
     "data": {
      "text/plain": [
       "0.5"
      ]
     },
     "execution_count": 1536,
     "metadata": {},
     "output_type": "execute_result"
    }
   ],
   "source": [
    "16/32"
   ]
  },
  {
   "cell_type": "code",
   "execution_count": 1616,
   "id": "db58efc6",
   "metadata": {},
   "outputs": [
    {
     "data": {
      "text/plain": [
       "0.421875"
      ]
     },
     "execution_count": 1616,
     "metadata": {},
     "output_type": "execute_result"
    }
   ],
   "source": [
    "27/64"
   ]
  },
  {
   "cell_type": "code",
   "execution_count": 1683,
   "id": "6d4321b4",
   "metadata": {},
   "outputs": [
    {
     "data": {
      "text/plain": [
       "18"
      ]
     },
     "execution_count": 1683,
     "metadata": {},
     "output_type": "execute_result"
    }
   ],
   "source": [
    "16+2"
   ]
  },
  {
   "cell_type": "code",
   "execution_count": 1684,
   "id": "c20f229b",
   "metadata": {},
   "outputs": [
    {
     "data": {
      "text/plain": [
       "19"
      ]
     },
     "execution_count": 1684,
     "metadata": {},
     "output_type": "execute_result"
    }
   ],
   "source": [
    "16+3"
   ]
  },
  {
   "cell_type": "code",
   "execution_count": 1685,
   "id": "8ca31ed8",
   "metadata": {},
   "outputs": [
    {
     "data": {
      "text/plain": [
       "22"
      ]
     },
     "execution_count": 1685,
     "metadata": {},
     "output_type": "execute_result"
    }
   ],
   "source": [
    "16+6"
   ]
  },
  {
   "cell_type": "code",
   "execution_count": 1686,
   "id": "e32a41da",
   "metadata": {},
   "outputs": [
    {
     "data": {
      "text/plain": [
       "3"
      ]
     },
     "execution_count": 1686,
     "metadata": {},
     "output_type": "execute_result"
    }
   ],
   "source": [
    "gcd(18,21)"
   ]
  },
  {
   "cell_type": "code",
   "execution_count": 1687,
   "id": "9fb4946a",
   "metadata": {},
   "outputs": [
    {
     "data": {
      "text/plain": [
       "1"
      ]
     },
     "execution_count": 1687,
     "metadata": {},
     "output_type": "execute_result"
    }
   ],
   "source": [
    "gcd(19,21)"
   ]
  },
  {
   "cell_type": "code",
   "execution_count": 1688,
   "id": "cd12801a",
   "metadata": {},
   "outputs": [
    {
     "data": {
      "text/plain": [
       "1"
      ]
     },
     "execution_count": 1688,
     "metadata": {},
     "output_type": "execute_result"
    }
   ],
   "source": [
    "gcd(22,21)"
   ]
  },
  {
   "cell_type": "code",
   "execution_count": null,
   "id": "3c032c69",
   "metadata": {},
   "outputs": [],
   "source": [
    "def ncz(reg:quantum_reg,qbits:list):\n",
    "    n_control=len(control)\n",
    "    theta=np.pi/2**(n-1)\n",
    "    for i in range(n_control):\n",
    "        if i=0:\n",
    "            reg.p(qbits[i],theta)\n",
    "        else: \n",
    "            for j in range(1,2**(n+1)+1)\n",
    "                if j%4==0:\n",
    "                    reg.p(i,theta)\n",
    "                elif j%2==0:\n",
    "                    reg.p(i,-theta)\n",
    "                else \n",
    "\n",
    "def phi(reg:quantum_reg,)\n",
    "                    "
   ]
  },
  {
   "cell_type": "code",
   "execution_count": 49,
   "id": "88669819",
   "metadata": {},
   "outputs": [
    {
     "data": {
      "text/html": [
       "<pre style=\"word-wrap: normal;white-space: pre;background: #fff0;line-height: 1.1;font-family: &quot;Courier New&quot;,Courier,monospace\">       ┌───┐         ┌───┐┌─┐   \n",
       "q43_0: ┤ H ├─■───────┤ H ├┤M├───\n",
       "       ├───┤ │P(π/4) ├───┤└╥┘┌─┐\n",
       "q43_1: ┤ H ├─■───────┤ H ├─╫─┤M├\n",
       "       └───┘         └───┘ ║ └╥┘\n",
       "c13: 2/════════════════════╩══╩═\n",
       "                           0  1 </pre>"
      ],
      "text/plain": [
       "       ┌───┐         ┌───┐┌─┐   \n",
       "q43_0: ┤ H ├─■───────┤ H ├┤M├───\n",
       "       ├───┤ │P(π/4) ├───┤└╥┘┌─┐\n",
       "q43_1: ┤ H ├─■───────┤ H ├─╫─┤M├\n",
       "       └───┘         └───┘ ║ └╥┘\n",
       "c13: 2/════════════════════╩══╩═\n",
       "                           0  1 "
      ]
     },
     "execution_count": 49,
     "metadata": {},
     "output_type": "execute_result"
    }
   ],
   "source": [
    "from qiskit import QuantumCircuit, QuantumRegister, ClassicalRegister, execute, Aer\n",
    "import numpy as np\n",
    "\n",
    "# Define the number of qubits and the target phase shift\n",
    "N = 2\n",
    "theta = np.pi/2**(N-1)\n",
    "\n",
    "# Create a quantum circuit with N qubits\n",
    "qreg = QuantumRegister(N)\n",
    "circ = QuantumCircuit(qreg)\n",
    "\n",
    "# Apply Hadamard gates to all qubits\n",
    "for i in range(N):\n",
    "    circ.h(qreg[i])\n",
    "\n",
    "# Apply controlled phase-shift gates\n",
    "for i in range(N):\n",
    "    for j in range(i+1, N):\n",
    "        circ.cp(theta/2**(j-i), qreg[j], qreg[i])\n",
    "\n",
    "# Apply Hadamard gates to all qubits\n",
    "for i in range(N):\n",
    "    circ.h(qreg[i])\n",
    "\n",
    "# Measure all qubits\n",
    "creg = ClassicalRegister(N)\n",
    "circ.add_register(creg)\n",
    "for i in range(N):\n",
    "    circ.measure(qreg[i], creg[i])\n",
    "\n",
    "circ.draw(fold=-1)\n",
    "# Simulate the circuit and print the results\n"
   ]
  },
  {
   "cell_type": "code",
   "execution_count": 50,
   "id": "602d075c",
   "metadata": {},
   "outputs": [
    {
     "name": "stdout",
     "output_type": "stream",
     "text": [
      "{'00': 906, '10': 32, '01': 48, '11': 38}\n"
     ]
    }
   ],
   "source": [
    "backend = Aer.get_backend('qasm_simulator')\n",
    "job = execute(circ, backend=backend, shots=1024)\n",
    "result = job.result()\n",
    "counts = result.get_counts(circ)\n",
    "print(counts)"
   ]
  },
  {
   "cell_type": "code",
   "execution_count": 52,
   "id": "3adf4b79",
   "metadata": {},
   "outputs": [
    {
     "ename": "TypeError",
     "evalue": "QuantumCircuit.cu() missing 3 required positional arguments: 'gamma', 'control_qubit', and 'target_qubit'",
     "output_type": "error",
     "traceback": [
      "\u001b[1;31m---------------------------------------------------------------------------\u001b[0m",
      "\u001b[1;31mTypeError\u001b[0m                                 Traceback (most recent call last)",
      "Cell \u001b[1;32mIn [52], line 18\u001b[0m\n\u001b[0;32m     16\u001b[0m \u001b[38;5;66;03m# Apply controlled phase-shift gates\u001b[39;00m\n\u001b[0;32m     17\u001b[0m \u001b[38;5;28;01mfor\u001b[39;00m i \u001b[38;5;129;01min\u001b[39;00m \u001b[38;5;28mrange\u001b[39m(n_controls):\n\u001b[1;32m---> 18\u001b[0m     \u001b[43mcirc\u001b[49m\u001b[38;5;241;43m.\u001b[39;49m\u001b[43mcu\u001b[49m\u001b[43m(\u001b[49m\u001b[43mnp\u001b[49m\u001b[38;5;241;43m.\u001b[39;49m\u001b[43mdiag\u001b[49m\u001b[43m(\u001b[49m\u001b[43m[\u001b[49m\u001b[38;5;241;43m1\u001b[39;49m\u001b[43m,\u001b[49m\u001b[43m \u001b[49m\u001b[43mnp\u001b[49m\u001b[38;5;241;43m.\u001b[39;49m\u001b[43mexp\u001b[49m\u001b[43m(\u001b[49m\u001b[38;5;241;43m1\u001b[39;49m\u001b[43mj\u001b[49m\u001b[38;5;241;43m*\u001b[39;49m\u001b[43mnp\u001b[49m\u001b[38;5;241;43m.\u001b[39;49m\u001b[43mpi\u001b[49m\u001b[38;5;241;43m/\u001b[39;49m\u001b[38;5;241;43m2\u001b[39;49m\u001b[38;5;241;43m*\u001b[39;49m\u001b[38;5;241;43m*\u001b[39;49m\u001b[43m(\u001b[49m\u001b[43mn_controls\u001b[49m\u001b[38;5;241;43m-\u001b[39;49m\u001b[43mi\u001b[49m\u001b[43m)\u001b[49m\u001b[43m)\u001b[49m\u001b[43m]\u001b[49m\u001b[43m)\u001b[49m\u001b[43m,\u001b[49m\u001b[43m \u001b[49m\u001b[43mqreg\u001b[49m\u001b[43m[\u001b[49m\u001b[43mn_controls\u001b[49m\u001b[43m]\u001b[49m\u001b[43m,\u001b[49m\u001b[43m \u001b[49m\u001b[43mqreg\u001b[49m\u001b[43m[\u001b[49m\u001b[43mi\u001b[49m\u001b[43m]\u001b[49m\u001b[43m)\u001b[49m\n\u001b[0;32m     20\u001b[0m \u001b[38;5;66;03m# Apply multi-controlled Z gate\u001b[39;00m\n\u001b[0;32m     21\u001b[0m \u001b[38;5;28;01mfor\u001b[39;00m i \u001b[38;5;129;01min\u001b[39;00m \u001b[38;5;28mrange\u001b[39m(n_controls):\n",
      "\u001b[1;31mTypeError\u001b[0m: QuantumCircuit.cu() missing 3 required positional arguments: 'gamma', 'control_qubit', and 'target_qubit'"
     ]
    }
   ],
   "source": [
    "from qiskit import QuantumCircuit, QuantumRegister, ClassicalRegister, execute, Aer\n",
    "import numpy as np\n",
    "\n",
    "# Define the number of control qubits and the target qubit\n",
    "n_controls = 3\n",
    "target = 4\n",
    "\n",
    "# Create a quantum circuit with n_controls+1 qubits\n",
    "qreg = QuantumRegister(n_controls+1)\n",
    "circ = QuantumCircuit(qreg)\n",
    "\n",
    "# Apply Hadamard gates to all qubits\n",
    "for i in range(n_controls+1):\n",
    "    circ.h(qreg[i])\n",
    "\n",
    "# Apply controlled phase-shift gates\n",
    "for i in range(n_controls):\n",
    "    circ.cu(np.diag([1, np.exp(1j*np.pi/2**(n_controls-i))]), qreg[n_controls], qreg[i])\n",
    "\n",
    "# Apply multi-controlled Z gate\n",
    "for i in range(n_controls):\n",
    "    circ.cx(qreg[i], target)\n",
    "\n",
    "# Apply controlled phase-shift gates\n",
    "for i in range(n_controls):\n",
    "    circ.cu(np.diag([1, np.exp(1j*np.pi/2**(n_controls-i))]), qreg[n_controls], qreg[i])\n",
    "\n",
    "# Apply inverse multi-controlled Z gate\n",
    "for i in range(n_controls-1, -1, -1):\n",
    "    circ.cx(qreg[i], target)\n",
    "\n",
    "# Apply Hadamard gates to all qubits\n",
    "for i in range(n_controls+1):\n",
    "    circ.h(qreg[i])\n",
    "\n",
    "# Measure all qubits\n",
    "creg = ClassicalRegister(n_controls+1)\n",
    "circ.add_register(creg)\n",
    "for i in range(n_controls+1):\n",
    "    circ.measure(qreg[i], creg[i])\n",
    "\n",
    "# Simulate the circuit and print the results\n",
    "backend = Aer.get_backend('qasm_simulator')\n",
    "job = execute(circ, backend=backend, shots=1024)\n",
    "result = job.result()\n",
    "counts = result.get_counts(circ)\n",
    "print(counts)\n"
   ]
  },
  {
   "cell_type": "code",
   "execution_count": 571,
   "id": "7e721b9a",
   "metadata": {},
   "outputs": [],
   "source": [
    "def cnz(reg:quantum_reg,control:list, target:int,conj:int=0):\n",
    "    \n",
    "    matrix=np.diag(np.ones(2**reg.length))\n",
    "    n=len(control)\n",
    "    theta=np.pi/(2)\n",
    "    if n>2:\n",
    "        matrix=matrix.dot(cnz(reg,control[1:],target))\n",
    "        matrix=matrix.dot(reg.cx(control[0],target))\n",
    "        matrix=matrix.dot(cnz(reg,control[1:],target,1-conj)) \n",
    "        matrix=matrix.dot(reg.cx(control[0],target))\n",
    "        matrix=matrix.dot(cnz(reg,control[1:],target))   \n",
    "    else:\n",
    "        matrix=matrix.dot(reg.cp(control[0],target,theta,conj))\n",
    "        matrix=matrix.dot(reg.cx(control[-1],control[0]))\n",
    "        matrix=matrix.dot(reg.cp(control[0],target,theta,1-conj))\n",
    "        matrix=matrix.dot(reg.cx(control[-1],control[0]))   \n",
    "        matrix=matrix.dot(reg.cp(control[-1],target,theta,conj))\n",
    "    return matrix\n",
    "                      \n",
    "    \n"
   ]
  },
  {
   "cell_type": "code",
   "execution_count": 574,
   "id": "69bb32fc",
   "metadata": {},
   "outputs": [],
   "source": [
    "reg=quantum_reg(5)"
   ]
  },
  {
   "cell_type": "code",
   "execution_count": null,
   "id": "c3184890",
   "metadata": {
    "scrolled": true
   },
   "outputs": [],
   "source": [
    "\n"
   ]
  },
  {
   "cell_type": "code",
   "execution_count": 575,
   "id": "beb7c960",
   "metadata": {},
   "outputs": [
    {
     "name": "stdout",
     "output_type": "stream",
     "text": [
      "[ 1.+0.00000000e+00j  1.+0.00000000e+00j  1.+0.00000000e+00j\n",
      "  1.+0.00000000e+00j  1.+0.00000000e+00j  1.+0.00000000e+00j\n",
      "  1.+0.00000000e+00j -1.+6.12323400e-16j  1.+0.00000000e+00j\n",
      "  1.+0.00000000e+00j  1.+0.00000000e+00j  1.+0.00000000e+00j\n",
      "  1.+0.00000000e+00j  1.+0.00000000e+00j -1.-1.22464680e-16j\n",
      "  1.-7.34788079e-16j  1.+0.00000000e+00j  1.+0.00000000e+00j\n",
      "  1.+0.00000000e+00j  1.+0.00000000e+00j  1.+0.00000000e+00j\n",
      "  1.+0.00000000e+00j -1.+3.67394040e-16j  1.-2.44929360e-16j\n",
      "  1.+0.00000000e+00j  1.+0.00000000e+00j  1.+0.00000000e+00j\n",
      "  1.+0.00000000e+00j  1.+0.00000000e+00j  1.+0.00000000e+00j\n",
      "  1.+0.00000000e+00j -1.+6.12323400e-16j]\n"
     ]
    }
   ],
   "source": [
    "matrix=cnz(reg,[4,3,2,1],0)\n",
    "rows, cols = np.nonzero(matrix)\n",
    "\n",
    "print(matrix[rows, cols])"
   ]
  },
  {
   "cell_type": "code",
   "execution_count": 566,
   "id": "c4639d4f",
   "metadata": {},
   "outputs": [
    {
     "data": {
      "text/plain": [
       "array([[ 0.70710678+0.j, -0.70710678+0.j],\n",
       "       [ 0.70710678+0.j,  0.70710678+0.j]])"
      ]
     },
     "execution_count": 566,
     "metadata": {},
     "output_type": "execute_result"
    }
   ],
   "source": [
    "reg=quantum_reg(1)\n",
    "reg.tensor\n",
    "reg.Ry(0,-np.pi/2)"
   ]
  },
  {
   "cell_type": "code",
   "execution_count": null,
   "id": "a4301754",
   "metadata": {},
   "outputs": [],
   "source": []
  },
  {
   "cell_type": "code",
   "execution_count": null,
   "id": "02bd8b25",
   "metadata": {},
   "outputs": [],
   "source": []
  }
 ],
 "metadata": {
  "kernelspec": {
   "display_name": "Python 3 (ipykernel)",
   "language": "python",
   "name": "python3"
  },
  "language_info": {
   "codemirror_mode": {
    "name": "ipython",
    "version": 3
   },
   "file_extension": ".py",
   "mimetype": "text/x-python",
   "name": "python",
   "nbconvert_exporter": "python",
   "pygments_lexer": "ipython3",
   "version": "3.10.10"
  }
 },
 "nbformat": 4,
 "nbformat_minor": 5
}
