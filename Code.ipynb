{
 "cells": [
  {
   "cell_type": "code",
   "execution_count": 3,
   "id": "59b031ea",
   "metadata": {},
   "outputs": [],
   "source": [
    "#External Packages\n",
    "import numpy as np "
   ]
  },
  {
   "cell_type": "code",
   "execution_count": 4,
   "id": "cf864642",
   "metadata": {},
   "outputs": [],
   "source": [
    "# qbit Class\n",
    "# it creates a qbit in the |0> state. \n",
    "# Properties\n",
    "# state: gives an array with the amplitude of the state |1> and |0> respectively \n",
    "class qbit:\n",
    "    def __init__(self,state:list[complex]=[1,0]):\n",
    "        self.state = np.array(state,dtype=complex)    "
   ]
  },
  {
   "cell_type": "code",
   "execution_count": 322,
   "id": "2e1a0447",
   "metadata": {},
   "outputs": [],
   "source": [
    "# Quantum Register Class\n",
    "# it creates a quantum register of n (length) qbits  all in the state |0>. \n",
    "# Properties\n",
    "# length= number of qbit in the quantum register (type:int)\n",
    "# tensor= state vector of que the quantum register (type:array)\n",
    "\n",
    "class quantum_reg:    \n",
    "    def __init__(self,length:int):\n",
    "        self.length=length\n",
    "        qb_array=[]\n",
    "        for i in range (length):\n",
    "            qb_array.append(qbit())\n",
    "        self.qb_array=np.array(qb_array)\n",
    "        self.tensor_prod_priv()\n",
    "    \n",
    "    #tensor_prod_priv : method that creates the initial state vector of the system by doing tensor product\n",
    "    #of the individual qbits.     \n",
    "    def tensor_prod_priv(self):\n",
    "        self.tensor=self.qb_array[0].state;\n",
    "        for qb in self.qb_array[1:]:\n",
    "            temp=[]\n",
    "            for i in range(np.size(qb.state)):\n",
    "                for j in range(np.size(self.tensor)):\n",
    "                    temp.append(self.tensor[j]*qb.state[i])\n",
    "            self.tensor=np.array(temp) / np.linalg.norm(np.array(temp))\n",
    "            \n",
    "            \n",
    "#--------------------------- 1 QBit Gates ---------------------------------------#          \n",
    "    \n",
    "    #h:  Hadamard Gate method which creates the matrix of the gate whichc acts on the state n (pos) of the quantum register\n",
    "    # This method applies the Hadamard gate to the state vector of the quantum register.\n",
    "    #Parameters:\n",
    "    #pos:  position of the qbit to which the h gate is applied (type:int)\n",
    "    #return: an array with the matrix corresponding to the Hadamard gate.\n",
    "    \n",
    "    def h(self,pos:int):\n",
    "        matrix=np.zeros([2**self.length,2**self.length], dtype=complex)\n",
    "        for i in range(2**self.length):\n",
    "            base=np.zeros(self.length,dtype=int)\n",
    "            bin_i=[*(str(bin(i))[2:])]\n",
    "            base[-len(bin_i):]=bin_i\n",
    "            bin_i=base;\n",
    "\n",
    "            pos1=int(''.join(np.array(bin_i,dtype=str).tolist()), 2)\n",
    "            matrix[pos1,i]=(-1)**bin_i[-1-pos]\n",
    "            pos2=bin_i;\n",
    "            pos2[-pos-1]=1-bin_i[-1-pos]\n",
    "            pos2=int(''.join(np.array(pos2,dtype=str).tolist()), 2)               \n",
    "            matrix[pos2,i]=1\n",
    "\n",
    "        resp=matrix.dot(self.tensor)\n",
    "        self.tensor=resp/ np.linalg.norm(np.array(resp))\n",
    "        return matrix\n",
    "    \n",
    "    #z: Pauli z Gate method which creates the matrix of the gate which acts on the state n (pos) of the quantum register\n",
    "    # This method applies the z gate to the state vector of the quantum register.\n",
    "    #Parameters:\n",
    "    #pos:  position of the qbit to which the z gate is applied (type:int)\n",
    "    #return: an array with the matrix corresponding to the Z gate.\n",
    "    \n",
    "    def z(self,pos:int):\n",
    "        matrix=np.zeros([2**self.length,2**self.length], dtype=complex)\n",
    "        for i in range(2**self.length):\n",
    "            base=np.zeros(self.length,dtype=int)\n",
    "            bin_i=[*(str(bin(i))[2:])]\n",
    "            base[-len(bin_i):]=bin_i\n",
    "            bin_i=base; \n",
    "            pos1=int(''.join(np.array(bin_i,dtype=str).tolist()), 2)\n",
    "            matrix[pos1,i]=(-1)**bin_i[-1-pos]\n",
    "\n",
    "        resp=matrix.dot(self.tensor)\n",
    "        self.tensor=resp/ np.linalg.norm(np.array(resp))\n",
    "        return matrix\n",
    "    \n",
    "    \n",
    "    def t(self,pos:int,conj:int=0):\n",
    "        matrix=np.zeros([2**self.length,2**self.length],dtype=complex)\n",
    "        for i in range(2**self.length):\n",
    "            base=np.zeros(self.length,dtype=int)\n",
    "            bin_i=[*(str(bin(i))[2:])]\n",
    "            base[-len(bin_i):]=bin_i\n",
    "            bin_i=base;\n",
    "            if bin_i[-1-pos]==0:\n",
    "                pos1=int(''.join(np.array(bin_i,dtype=str).tolist()), 2)\n",
    "                matrix[pos1,i]=1\n",
    "            else: \n",
    "                pos1=int(''.join(np.array(bin_i,dtype=str).tolist()), 2)\n",
    "                matrix[pos1,i]=np.exp(1j*np.pi*0.25*((-1)**conj))\n",
    "\n",
    "        resp=matrix.dot(self.tensor)\n",
    "        self.tensor=resp/ np.linalg.norm(np.array(resp))\n",
    "        return matrix\n",
    "    \n",
    "    def s(self,pos:int,conj:int=0):\n",
    "        matrix=self.t(pos,conj);\n",
    "        matrix=matrix.dot(self.t(pos, conj))\n",
    "        return matrix\n",
    "    \n",
    "    def x(self, pos:int):\n",
    "        matrix=self.h(pos)\n",
    "        matrix=matrix.dot(self.z(pos))\n",
    "        matrix=matrix.dot(self.h(pos))\n",
    "\n",
    "        return matrix\n",
    "    \n",
    "    def y(self, pos:int):\n",
    "        matrix=self.s(pos)\n",
    "        matrix=matrix.dot(self.x(pos))\n",
    "        matrix=matrix.dot(self.s(pos,1))\n",
    "        return matrix\n",
    "    \n",
    "#--------------------------- 2 QBit Gates ---------------------------------------#   \n",
    "\n",
    "    def cx(self,control:int,target:int):\n",
    "        matrix=np.zeros([2**self.length,2**self.length])\n",
    "        for i in range(2**self.length):\n",
    "            base=np.zeros(self.length,dtype=int)\n",
    "            bin_i=[*(str(bin(i))[2:])]\n",
    "            base[-len(bin_i):]=bin_i\n",
    "            bin_i=base;\n",
    "            bin_i[-1-target]=1*bin_i[-1-control]+((-1)**bin_i[-1-control])*bin_i[-1-target]\n",
    "            pos3=int(''.join(np.array(bin_i,dtype=str).tolist()), 2)               \n",
    "            matrix[pos3,i]=1\n",
    "\n",
    "        resp=matrix.dot(self.tensor)\n",
    "        self.tensor=resp/ np.linalg.norm(np.array(resp))\n",
    "        return matrix          \n",
    "\n",
    "    \n",
    "    def v(self,control:int,target:int):\n",
    "        matrix=np.zeros([2**self.length,2**self.length],dtype=complex)\n",
    "        for i in range(2**self.length):\n",
    "            base=np.zeros(self.length,dtype=int)\n",
    "            bin_i=[*(str(bin(i))[2:])]\n",
    "            base[-len(bin_i):]=bin_i\n",
    "            bin_i=base;\n",
    "            if bin_i[-1-control]==1:\n",
    "                pos3=int(''.join(np.array(bin_i,dtype=str).tolist()), 2)               \n",
    "                matrix[pos3,i]=1j**(bin_i[-1-target])\n",
    "            else:\n",
    "                pos3=int(''.join(np.array(bin_i,dtype=str).tolist()), 2)\n",
    "                matrix[pos3,i]=1\n",
    "                \n",
    "        resp=matrix.dot(self.tensor)\n",
    "        self.tensor=resp/ np.linalg.norm(np.array(resp))\n",
    "        return matrix  \n",
    "    \n",
    "        \n",
    "    def cz(self, control:int, target:int):\n",
    "        matrix=self.h(target)\n",
    "        matrix=matrix.dot(self.cx(control,target))\n",
    "        matrix=matrix.dot(self.h(target))\n",
    "        return matrix\n",
    "    "
   ]
  },
  {
   "cell_type": "code",
   "execution_count": 192,
   "id": "77ed83f3",
   "metadata": {},
   "outputs": [],
   "source": [
    "\n",
    "#groover_oracle_2qbit: method that applies an oracle to a given quantum register for a certain specified state.\n",
    "# This method applies a Groover's oracle to a 2 qbit quantum register.\n",
    "# Parameters:\n",
    "# reg: quantum register to which the Groover's oracle matrix is going to be applied (type:quantum_reg)\n",
    "# state: List of string with the states which want to be found with Groover's algorithm. \n",
    "# return: an array with the matrix corresponding to the Groover's oracle gate matrix representation.\n",
    "\n",
    "def groover_oracle_2qbit(reg:quantum_reg,states:list):\n",
    "    matrix=np.diag([1,1,1,1])\n",
    "    for state in states:\n",
    "        binary=np.array([*(state)],dtype=int)\n",
    "        positions=np.where(binary==0)[0];\n",
    "        for i in range(0,np.size(positions)):\n",
    "            pos=(np.size(binary)-1)-positions[i]\n",
    "            matrix=matrix.dot(reg.x(pos))\n",
    "        matrix=matrix.dot(reg.cz(0,1))\n",
    "        for i in range(np.size(positions)):\n",
    "            pos=(np.size(binary)-1)-positions[i]\n",
    "            matrix=matrix.dot(reg.x(pos))\n",
    "    \n",
    "    return matrix\n",
    "\n",
    "#groover_amplification_2qbit: method that applies a  Groover's amplification matrix to a given 2 qbit quantum register for a certain specified state.\n",
    "# This method applies a Groover's amplification gate to a 2 qbit quantum register.\n",
    "# Parameters:\n",
    "# reg: quantum register to which the Groover's amplification matrix is going to be applied (type:quantum_reg)\n",
    "# return: an array with the matrix corresponding to the Groover's amplification gate matrix representation.\n",
    "\n",
    "def groover_amplification_2qbit(reg:quantum_reg):\n",
    "    matrix=np.diag([1,1,1,1])\n",
    "    for qb in range(reg.length):\n",
    "        matrix=matrix.dot(reg.h(qb));\n",
    "    for qb in range(reg.length):\n",
    "        matrix=matrix.dot(reg.x(qb));\n",
    "        \n",
    "    matrix=matrix.dot(reg.cz(1,0))\n",
    "    \n",
    "    for qb in range(reg.length):\n",
    "        matrix=matrix.dot(reg.x(qb));\n",
    "    for qb in range(reg.length):\n",
    "        matrix=matrix.dot(reg.h(qb));\n",
    "        \n",
    "    return matrix "
   ]
  },
  {
   "cell_type": "code",
   "execution_count": 330,
   "id": "7aa41b80",
   "metadata": {},
   "outputs": [],
   "source": [
    "def ccz(reg:quantum_reg, control1:int,control2:int, target:int):\n",
    "    matrix=reg.cx(control1,target)\n",
    "    matrix=matrix.dot(reg.t(target,1))\n",
    "    matrix=matrix.dot(reg.cx(control2,target))\n",
    "    matrix=matrix.dot(reg.t(target))\n",
    "    matrix=matrix.dot(reg.cx(control1,target))\n",
    "    matrix=matrix.dot(reg.t(target,1))\n",
    "    matrix=matrix.dot(reg.cx(control2,target))\n",
    "    matrix=matrix.dot(reg.t(target))\n",
    "    matrix=matrix.dot(reg.t(control1))\n",
    "    matrix=matrix.dot(reg.cx(control2,control1))\n",
    "    matrix=matrix.dot(reg.t(control1,1))\n",
    "    matrix=matrix.dot(reg.cx(control2,control1))\n",
    "    matrix=matrix.dot(reg.t(control2))\n",
    "    \n",
    "    return matrix\n",
    "\n",
    "#groover_oracle_3qbit: method that applies an oracle to a given quantum register for a certain specified state.\n",
    "# This method applies a Groover's oracle to a 3 qbit quantum register.\n",
    "# Parameters:\n",
    "# reg: quantum register to which the Groover's oracle matrix is going to be applied (type:quantum_reg)\n",
    "# state: List of string with the states which want to be found with Groover's algorithm. \n",
    "# return: an array with the matrix corresponding to the Groover's oracle gate matrix representation.\n",
    "def groover_oracle_3qbit(reg:quantum_reg,values:list):\n",
    "    matrix=np.diag(np.ones(2**3))\n",
    "    for state in values:\n",
    "        binary=np.array([*(state)],dtype=int)\n",
    "        positions=np.where(binary==0)[0];\n",
    "        for i in range(0,np.size(positions)):\n",
    "            pos=(np.size(binary)-1)-positions[i]\n",
    "            matrix=matrix.dot(reg.x(pos))\n",
    "        matrix=matrix.dot(ccz(reg,2,1,0))\n",
    "        for i in range(np.size(positions)):\n",
    "            pos=(np.size(binary)-1)-positions[i]\n",
    "            matrix=matrix.dot(reg.x(pos))\n",
    "    \n",
    "    return matrix\n",
    "\n",
    "#groover_amplification_3qbit: method that applies a  Groover's amplification matrix to a given 3 qbit quantum register for a certain specified state.\n",
    "# This method applies a Groover's amplification gate to a 3 qbit quantum register.\n",
    "# Parameters:\n",
    "# reg: quantum register to which the Groover's amplification matrix is going to be applied (type:quantum_reg)\n",
    "# return: an array with the matrix corresponding to the Groover's amplification gate matrix representation.\n",
    "def groover_amplification_3qbit(reg:quantum_reg):\n",
    "    matrix=np.diag(np.ones(2**3))\n",
    "    for qb in range(reg.length):\n",
    "        matrix=matrix.dot(reg.h(qb));\n",
    "    for qb in range(reg.length):\n",
    "        matrix=matrix.dot(reg.x(qb));\n",
    "        \n",
    "    matrix=matrix.dot(ccz(reg,2,1,0))\n",
    "    \n",
    "    for qb in range(reg.length):\n",
    "        matrix=matrix.dot(reg.x(qb));\n",
    "    for qb in range(reg.length):\n",
    "        matrix=matrix.dot(reg.h(qb));\n",
    "        \n",
    "    return matrix "
   ]
  },
  {
   "cell_type": "markdown",
   "id": "15aa1b08",
   "metadata": {},
   "source": [
    "## Example 1: Groover's Algortihm 2 Qbit System \n",
    "\n",
    "In this example Groover's Algorithm is applied to a 2 qbit system, looking for the state $|10>$"
   ]
  },
  {
   "cell_type": "code",
   "execution_count": 355,
   "id": "d78c5f70",
   "metadata": {},
   "outputs": [
    {
     "data": {
      "text/plain": [
       "array([1.+0.j, 0.+0.j, 0.+0.j, 0.+0.j])"
      ]
     },
     "execution_count": 355,
     "metadata": {},
     "output_type": "execute_result"
    }
   ],
   "source": [
    "reg=quantum_reg(2)\n",
    "reg.tensor"
   ]
  },
  {
   "cell_type": "code",
   "execution_count": 356,
   "id": "0e312e7e",
   "metadata": {},
   "outputs": [
    {
     "data": {
      "text/plain": [
       "array([0.5+0.j, 0.5+0.j, 0.5+0.j, 0.5+0.j])"
      ]
     },
     "execution_count": 356,
     "metadata": {},
     "output_type": "execute_result"
    }
   ],
   "source": [
    "for qb in range(reg.length):\n",
    "    reg.h(qb);\n",
    "\n",
    "reg.tensor"
   ]
  },
  {
   "cell_type": "code",
   "execution_count": 363,
   "id": "d386f4a5",
   "metadata": {},
   "outputs": [
    {
     "data": {
      "text/plain": [
       "array([0.+0.j, 0.+0.j, 1.+0.j, 0.+0.j])"
      ]
     },
     "execution_count": 363,
     "metadata": {},
     "output_type": "execute_result"
    }
   ],
   "source": [
    "groover_oracle_2qbit(reg,['10'])\n",
    "reg.tensor"
   ]
  },
  {
   "cell_type": "code",
   "execution_count": null,
   "id": "2289c319",
   "metadata": {},
   "outputs": [],
   "source": [
    "groover_amplification_2qbit(reg)\n",
    "reg.tensor"
   ]
  },
  {
   "cell_type": "markdown",
   "id": "605c9f83",
   "metadata": {},
   "source": [
    "## Example 2: Groover's Algortihm 3 Qbit System \n",
    "\n",
    "In this example Groover's Algorithm is applied to a 3 qbit system, looking for the state $|101>$"
   ]
  },
  {
   "cell_type": "code",
   "execution_count": 374,
   "id": "8d9d738b",
   "metadata": {},
   "outputs": [
    {
     "data": {
      "text/plain": [
       "array([0.35355339+0.j, 0.35355339+0.j, 0.35355339+0.j, 0.35355339+0.j,\n",
       "       0.35355339+0.j, 0.35355339+0.j, 0.35355339+0.j, 0.35355339+0.j])"
      ]
     },
     "execution_count": 374,
     "metadata": {},
     "output_type": "execute_result"
    }
   ],
   "source": [
    "reg=quantum_reg(3)\n",
    "for qb in range(reg.length):\n",
    "    reg.h(qb);\n",
    "reg.tensor"
   ]
  },
  {
   "cell_type": "code",
   "execution_count": 375,
   "id": "6832936d",
   "metadata": {},
   "outputs": [
    {
     "data": {
      "text/plain": [
       "array([ 0.35355339+0.j,  0.35355339+0.j,  0.35355339+0.j,  0.35355339+0.j,\n",
       "        0.35355339+0.j, -0.35355339+0.j,  0.35355339+0.j,  0.35355339+0.j])"
      ]
     },
     "execution_count": 375,
     "metadata": {},
     "output_type": "execute_result"
    }
   ],
   "source": [
    "groover_oracle_3qbit(reg,['101'])\n",
    "reg.tensor"
   ]
  },
  {
   "cell_type": "code",
   "execution_count": 376,
   "id": "b508e67d",
   "metadata": {},
   "outputs": [
    {
     "data": {
      "text/plain": [
       "array([-0.1767767 +0.j, -0.1767767 +0.j, -0.1767767 +0.j, -0.1767767 +0.j,\n",
       "       -0.1767767 +0.j, -0.88388348+0.j, -0.1767767 +0.j, -0.1767767 +0.j])"
      ]
     },
     "execution_count": 376,
     "metadata": {},
     "output_type": "execute_result"
    }
   ],
   "source": [
    "groover_amplification_3qbit(reg)\n",
    "reg.tensor"
   ]
  },
  {
   "cell_type": "code",
   "execution_count": 377,
   "id": "72436d70",
   "metadata": {},
   "outputs": [
    {
     "data": {
      "text/plain": [
       "array([-0.1767767 +0.j, -0.1767767 +0.j, -0.1767767 +0.j, -0.1767767 +0.j,\n",
       "       -0.1767767 +0.j,  0.88388348+0.j, -0.1767767 +0.j, -0.1767767 +0.j])"
      ]
     },
     "execution_count": 377,
     "metadata": {},
     "output_type": "execute_result"
    }
   ],
   "source": [
    "groover_oracle_3qbit(reg,['101'])\n",
    "reg.tensor"
   ]
  },
  {
   "cell_type": "code",
   "execution_count": 378,
   "id": "1814b0b4",
   "metadata": {},
   "outputs": [
    {
     "data": {
      "text/plain": [
       "array([-0.08838835+0.j, -0.08838835+0.j, -0.08838835+0.j, -0.08838835+0.j,\n",
       "       -0.08838835+0.j,  0.97227182+0.j, -0.08838835+0.j, -0.08838835+0.j])"
      ]
     },
     "execution_count": 378,
     "metadata": {},
     "output_type": "execute_result"
    }
   ],
   "source": [
    "groover_amplification_3qbit(reg)\n",
    "reg.tensor"
   ]
  },
  {
   "cell_type": "markdown",
   "id": "222d9df6",
   "metadata": {},
   "source": [
    "## Other Stuff For Later"
   ]
  },
  {
   "cell_type": "code",
   "execution_count": 61,
   "id": "111719dc",
   "metadata": {},
   "outputs": [],
   "source": [
    "for qb in range(reg.length):\n",
    "    reg.h(qb)\n",
    "    reg.z(qb)\n",
    "reg.cz(0,1)\n",
    "for qb in range(reg.length):\n",
    "    reg.h(qb)"
   ]
  },
  {
   "cell_type": "code",
   "execution_count": 62,
   "id": "5b96b7f8",
   "metadata": {},
   "outputs": [
    {
     "data": {
      "text/plain": [
       "array([0.+0.j, 0.+0.j, 0.+0.j, 1.+0.j])"
      ]
     },
     "execution_count": 62,
     "metadata": {},
     "output_type": "execute_result"
    }
   ],
   "source": [
    "reg.tensor"
   ]
  },
  {
   "cell_type": "code",
   "execution_count": 63,
   "id": "83dfe025",
   "metadata": {},
   "outputs": [],
   "source": [
    "reg=quantum_reg(3)\n",
    "reg.tensor\n",
    "for qb in range(reg.length):\n",
    "    reg.h(qb);"
   ]
  },
  {
   "cell_type": "code",
   "execution_count": 64,
   "id": "cbcc61bb",
   "metadata": {},
   "outputs": [],
   "source": [
    "reg.cz(0,2);\n",
    "reg.cz(1,2);\n",
    "for qb in range(reg.length):\n",
    "    reg.h(qb)\n",
    "    reg.x(qb)\n",
    "\n",
    "reg.h(2)    \n",
    "reg.h(2)\n",
    "reg.v(1,2)\n",
    "reg.cx(0,1)\n",
    "reg.v(1,2)\n",
    "reg.v(1,2)\n",
    "reg.v(1,2)\n",
    "reg.cx(0,1)\n",
    "reg.v(0,2)\n",
    "reg.h(2)\n",
    "reg.h(2) \n",
    "\n",
    "for qb in range(reg.length):\n",
    "    reg.x(qb)\n",
    "    reg.h(qb)"
   ]
  },
  {
   "cell_type": "code",
   "execution_count": 360,
   "id": "71ba093b",
   "metadata": {},
   "outputs": [
    {
     "data": {
      "text/plain": [
       "array([0.5+0.j, 0.5+0.j, 0.5+0.j, 0.5+0.j])"
      ]
     },
     "execution_count": 360,
     "metadata": {},
     "output_type": "execute_result"
    }
   ],
   "source": [
    "reg=quantum_reg(2)\n",
    "for qb in range(reg.length):\n",
    "    reg.h(qb);\n",
    "\n",
    "reg.tensor"
   ]
  },
  {
   "cell_type": "code",
   "execution_count": null,
   "id": "9cb45fd7",
   "metadata": {},
   "outputs": [],
   "source": []
  }
 ],
 "metadata": {
  "kernelspec": {
   "display_name": "Python 3 (ipykernel)",
   "language": "python",
   "name": "python3"
  },
  "language_info": {
   "codemirror_mode": {
    "name": "ipython",
    "version": 3
   },
   "file_extension": ".py",
   "mimetype": "text/x-python",
   "name": "python",
   "nbconvert_exporter": "python",
   "pygments_lexer": "ipython3",
   "version": "3.10.10"
  }
 },
 "nbformat": 4,
 "nbformat_minor": 5
}
