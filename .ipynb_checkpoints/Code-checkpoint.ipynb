{
 "cells": [
  {
   "cell_type": "code",
   "execution_count": 2,
   "id": "59b031ea",
   "metadata": {},
   "outputs": [],
   "source": [
    "import numpy as np "
   ]
  },
  {
   "cell_type": "code",
   "execution_count": 266,
   "id": "cf864642",
   "metadata": {},
   "outputs": [],
   "source": [
    "class qbit:\n",
    "    def __init__(self,state:list[complex]=[1,0]):\n",
    "        self.state = np.array(state,dtype=complex)    "
   ]
  },
  {
   "cell_type": "code",
   "execution_count": 918,
   "id": "2e1a0447",
   "metadata": {},
   "outputs": [],
   "source": [
    "class quantum_reg:\n",
    "    def __init__(self,length:int):\n",
    "        self.length=length\n",
    "        qb_array=[]\n",
    "        for i in range (length):\n",
    "            qb_array.append(qbit())\n",
    "        self.qb_array=np.array(qb_array)\n",
    "        self.tensor_prod_priv()\n",
    "    \n",
    "    def tensor_prod_priv(self):\n",
    "        self.tensor=self.qb_array[0].state;\n",
    "        for qb in self.qb_array[1:]:\n",
    "            temp=[]\n",
    "            for i in range(np.size(qb.state)):\n",
    "                for j in range(np.size(self.tensor)):\n",
    "                    temp.append(self.tensor[j]*qb.state[i])\n",
    "            self.tensor=np.array(temp) / np.linalg.norm(np.array(temp))\n",
    "    \n",
    "    def h(self,pos:int):\n",
    "        matrix=np.zeros([2**self.length,2**self.length])\n",
    "        for i in range(2**self.length):\n",
    "            base=np.zeros(self.length,dtype=int)\n",
    "            bin_i=[*(str(bin(i))[2:])]\n",
    "            base[-len(bin_i):]=bin_i\n",
    "            bin_i=base;\n",
    "            if bin_i[-1-pos]==0:\n",
    "                pos1=int(''.join(np.array(bin_i,dtype=str).tolist()), 2)\n",
    "                matrix[pos1,i]=1\n",
    "                pos2=bin_i;\n",
    "                pos2[-pos-1]=1\n",
    "                pos2=int(''.join(np.array(pos2,dtype=str).tolist()), 2)               \n",
    "                matrix[pos2,i]=1\n",
    "            else: \n",
    "                pos1=int(''.join(np.array(bin_i,dtype=str).tolist()), 2)\n",
    "                matrix[pos1,i]=-1\n",
    "                pos2=bin_i;\n",
    "                pos2[-pos-1]=0\n",
    "                pos2=int(''.join(np.array(pos2,dtype=str).tolist()), 2)              \n",
    "                matrix[pos2,i]=1\n",
    "\n",
    "        resp=matrix.dot(self.tensor)\n",
    "        self.tensor=resp/ np.linalg.norm(np.array(resp))\n",
    "        return matrix\n",
    "    \n",
    "    def z(self,pos:int):\n",
    "        matrix=np.zeros([2**self.length,2**self.length])\n",
    "        for i in range(2**self.length):\n",
    "            base=np.zeros(self.length,dtype=int)\n",
    "            bin_i=[*(str(bin(i))[2:])]\n",
    "            base[-len(bin_i):]=bin_i\n",
    "            bin_i=base;\n",
    "            if bin_i[-1-pos]==0:\n",
    "                pos1=int(''.join(np.array(bin_i,dtype=str).tolist()), 2)\n",
    "                matrix[pos1,i]=1\n",
    "            else: \n",
    "                pos1=int(''.join(np.array(bin_i,dtype=str).tolist()), 2)\n",
    "                matrix[pos1,i]=-1\n",
    "\n",
    "        resp=matrix.dot(self.tensor)\n",
    "        self.tensor=resp/ np.linalg.norm(np.array(resp))\n",
    "        return matrix\n",
    "    \n",
    "    def cx(self,control:int,target:int):\n",
    "        matrix=np.zeros([2**self.length,2**self.length])\n",
    "        for i in range(2**self.length):\n",
    "            base=np.zeros(self.length,dtype=int)\n",
    "            bin_i=[*(str(bin(i))[2:])]\n",
    "            base[-len(bin_i):]=bin_i\n",
    "            bin_i=base;\n",
    "            if bin_i[-1-control]==1:\n",
    "                bin_i[-1-target]=1-bin_i[-1-target]\n",
    "                pos3=int(''.join(np.array(bin_i,dtype=str).tolist()), 2)               \n",
    "                matrix[pos3,i]=1\n",
    "            else:\n",
    "                pos3=int(''.join(np.array(bin_i,dtype=str).tolist()), 2)\n",
    "                matrix[pos3,i]=1\n",
    "                \n",
    "        resp=matrix.dot(self.tensor)\n",
    "        self.tensor=resp/ np.linalg.norm(np.array(resp))\n",
    "        return matrix\n",
    "        \n",
    "    def cz(self, control:int, target:int):\n",
    "        matrix=self.h(target)\n",
    "        matrix=matrix.dot(self.cx(control,target))\n",
    "        matrix=matrix.dot(self.h(target))\n",
    "\n",
    "        return matrix\n",
    "    \n",
    "            \n",
    "    def x(self, pos:int):\n",
    "        matrix=self.h(pos)\n",
    "        matrix=matrix.dot(self.z(pos))\n",
    "        matrix=matrix.dot(self.h(pos))\n",
    "\n",
    "        return matrix\n",
    "    \n",
    "    def v(self,control:int,target:int):\n",
    "        matrix=np.zeros([2**self.length,2**self.length],dtype=complex)\n",
    "        for i in range(2**self.length):\n",
    "            base=np.zeros(self.length,dtype=int)\n",
    "            bin_i=[*(str(bin(i))[2:])]\n",
    "            base[-len(bin_i):]=bin_i\n",
    "            bin_i=base;\n",
    "            if bin_i[-1-control]==1:\n",
    "                pos3=int(''.join(np.array(bin_i,dtype=str).tolist()), 2)               \n",
    "                matrix[pos3,i]=1j**(bin_i[-1-target])\n",
    "            else:\n",
    "                pos3=int(''.join(np.array(bin_i,dtype=str).tolist()), 2)\n",
    "                matrix[pos3,i]=1\n",
    "                \n",
    "        resp=matrix.dot(self.tensor)\n",
    "        self.tensor=resp/ np.linalg.norm(np.array(resp))\n",
    "        return matrix\n",
    "    \n",
    "    def oracle(self, pos:list):\n",
    "        if type(pos)==int:\n",
    "            pos=np.asarray([pos],dtype=int)       \n",
    "        matrix=np.diag(np.ones(2**self.length))\n",
    "        for i in range(np.size(pos)):\n",
    "            matrix[pos[i],pos[i]]=-1\n",
    "        resp=matrix.dot(self.tensor)\n",
    "        self.tensor=resp/ np.linalg.norm(np.array(resp))\n",
    "        return matrix\n",
    "            "
   ]
  },
  {
   "cell_type": "code",
   "execution_count": 850,
   "id": "d78c5f70",
   "metadata": {},
   "outputs": [
    {
     "data": {
      "text/plain": [
       "array([1.+0.j, 0.+0.j, 0.+0.j, 0.+0.j])"
      ]
     },
     "execution_count": 850,
     "metadata": {},
     "output_type": "execute_result"
    }
   ],
   "source": [
    "reg=quantum_reg(2)\n",
    "reg.tensor"
   ]
  },
  {
   "cell_type": "code",
   "execution_count": 851,
   "id": "0e312e7e",
   "metadata": {},
   "outputs": [],
   "source": [
    "for qb in range(reg.length):\n",
    "    reg.h(qb);\n",
    "reg.cz(0,1);\n",
    "for qb in range(reg.length):\n",
    "    reg.h(qb)\n",
    "    reg.z(qb)\n",
    "reg.cz(0,1)\n",
    "for qb in range(reg.length):\n",
    "    reg.h(qb)"
   ]
  },
  {
   "cell_type": "code",
   "execution_count": 852,
   "id": "5b96b7f8",
   "metadata": {},
   "outputs": [
    {
     "data": {
      "text/plain": [
       "array([0.+0.j, 0.+0.j, 0.+0.j, 1.+0.j])"
      ]
     },
     "execution_count": 852,
     "metadata": {},
     "output_type": "execute_result"
    }
   ],
   "source": [
    "reg.tensor"
   ]
  },
  {
   "cell_type": "code",
   "execution_count": 996,
   "id": "83dfe025",
   "metadata": {},
   "outputs": [],
   "source": [
    "reg=quantum_reg(3)\n",
    "reg.tensor\n",
    "for qb in range(reg.length):\n",
    "    reg.h(qb);"
   ]
  },
  {
   "cell_type": "code",
   "execution_count": 997,
   "id": "cbcc61bb",
   "metadata": {},
   "outputs": [],
   "source": [
    "reg.cz(0,2);\n",
    "reg.cz(1,2);\n",
    "for qb in range(reg.length):\n",
    "    reg.h(qb)\n",
    "    reg.x(qb)\n",
    "\n",
    "reg.h(2)    \n",
    "reg.h(2)\n",
    "reg.v(1,2)\n",
    "reg.cx(0,1)\n",
    "reg.v(1,2)\n",
    "reg.v(1,2)\n",
    "reg.v(1,2)\n",
    "reg.cx(0,1)\n",
    "reg.v(0,2)\n",
    "reg.h(2)\n",
    "reg.h(2) \n",
    "\n",
    "for qb in range(reg.length):\n",
    "    reg.x(qb)\n",
    "    reg.h(qb)"
   ]
  },
  {
   "cell_type": "code",
   "execution_count": 998,
   "id": "7aa41b80",
   "metadata": {},
   "outputs": [
    {
     "data": {
      "text/plain": [
       "array([0. +0.j, 0. +0.j, 0. +0.j, 0. +0.j, 0. +0.j, 0.5+0.j, 0.5+0.j,\n",
       "       0. +0.j])"
      ]
     },
     "execution_count": 998,
     "metadata": {},
     "output_type": "execute_result"
    }
   ],
   "source": [
    "reg.tensor*np.conj(reg.tensor)"
   ]
  },
  {
   "cell_type": "code",
   "execution_count": null,
   "id": "8d9d738b",
   "metadata": {},
   "outputs": [],
   "source": []
  },
  {
   "cell_type": "code",
   "execution_count": null,
   "id": "6832936d",
   "metadata": {},
   "outputs": [],
   "source": []
  },
  {
   "cell_type": "code",
   "execution_count": null,
   "id": "b508e67d",
   "metadata": {},
   "outputs": [],
   "source": []
  },
  {
   "cell_type": "code",
   "execution_count": null,
   "id": "d5fa2e1a",
   "metadata": {},
   "outputs": [],
   "source": []
  },
  {
   "cell_type": "code",
   "execution_count": null,
   "id": "759f0ab3",
   "metadata": {},
   "outputs": [],
   "source": []
  },
  {
   "cell_type": "code",
   "execution_count": null,
   "id": "77ed83f3",
   "metadata": {},
   "outputs": [],
   "source": []
  }
 ],
 "metadata": {
  "kernelspec": {
   "display_name": "Python 3 (ipykernel)",
   "language": "python",
   "name": "python3"
  },
  "language_info": {
   "codemirror_mode": {
    "name": "ipython",
    "version": 3
   },
   "file_extension": ".py",
   "mimetype": "text/x-python",
   "name": "python",
   "nbconvert_exporter": "python",
   "pygments_lexer": "ipython3",
   "version": "3.10.10"
  }
 },
 "nbformat": 4,
 "nbformat_minor": 5
}
